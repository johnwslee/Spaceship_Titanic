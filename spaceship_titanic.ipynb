{
 "cells": [
  {
   "cell_type": "markdown",
   "id": "7da974ed-e318-4cd0-b440-4bac3f6f0c3c",
   "metadata": {},
   "source": [
    "# Imports"
   ]
  },
  {
   "cell_type": "code",
   "execution_count": 1,
   "id": "6a8c4939-a921-4cb2-914a-b693996d20b6",
   "metadata": {},
   "outputs": [],
   "source": [
    "import string\n",
    "import sys\n",
    "from collections import deque\n",
    "\n",
    "import pandas as pd\n",
    "import numpy as np\n",
    "import altair as alt\n",
    "alt.renderers.enable('mimetype')\n",
    "alt.data_transformers.enable('data_server')\n",
    "\n",
    "from sklearn import datasets\n",
    "from sklearn.compose import ColumnTransformer, make_column_transformer\n",
    "from sklearn.dummy import DummyClassifier, DummyRegressor\n",
    "from sklearn.ensemble import RandomForestClassifier, RandomForestRegressor\n",
    "from sklearn.impute import SimpleImputer\n",
    "from sklearn.linear_model import LogisticRegression, Ridge\n",
    "from sklearn.model_selection import (\n",
    "    GridSearchCV,\n",
    "    RandomizedSearchCV,\n",
    "    cross_val_score,\n",
    "    cross_validate,\n",
    "    train_test_split,\n",
    ")\n",
    "from sklearn.feature_extraction.text import CountVectorizer\n",
    "from sklearn.pipeline import Pipeline, make_pipeline\n",
    "from sklearn.preprocessing import OneHotEncoder, OrdinalEncoder, StandardScaler\n",
    "from sklearn.svm import SVC, SVR\n",
    "from sklearn.tree import DecisionTreeClassifier, DecisionTreeRegressor\n",
    "import warnings\n",
    "\n",
    "from catboost import CatBoostClassifier, CatBoostRegressor\n",
    "from lightgbm.sklearn import LGBMClassifier, LGBMRegressor\n",
    "from xgboost import XGBClassifier, XGBRegressor\n",
    "\n",
    "from sklearn.utils import shuffle\n",
    "\n",
    "from sklearn.naive_bayes import MultinomialNB\n",
    "\n",
    "import kaggle\n",
    "\n",
    "import matplotlib.pyplot as plt\n",
    "\n",
    "warnings.simplefilter(action=\"ignore\", category=FutureWarning)"
   ]
  },
  {
   "cell_type": "code",
   "execution_count": 2,
   "id": "91746353-7af2-4a79-a45e-10a746fb5d1f",
   "metadata": {},
   "outputs": [],
   "source": [
    "def mean_std_cross_val_scores(model, X_train, y_train, **kwargs):\n",
    "    \"\"\"\n",
    "    Returns mean and std of cross validation\n",
    "\n",
    "    Parameters\n",
    "    ----------\n",
    "    model :\n",
    "        scikit-learn model\n",
    "    X_train : numpy array or pandas DataFrame\n",
    "        X in the training data\n",
    "    y_train :\n",
    "        y in the training data\n",
    "\n",
    "    Returns\n",
    "    ----------\n",
    "        pandas Series with mean scores from cross_validation\n",
    "    \"\"\"\n",
    "\n",
    "    scores = cross_validate(model, X_train, y_train, **kwargs)\n",
    "\n",
    "    mean_scores = pd.DataFrame(scores).mean()\n",
    "    std_scores = pd.DataFrame(scores).std()\n",
    "    out_col = []\n",
    "\n",
    "    for i in range(len(mean_scores)):\n",
    "        out_col.append((f\"%0.3f (+/- %0.3f)\" % (mean_scores[i], std_scores[i])))\n",
    "\n",
    "    return pd.Series(data=out_col, index=mean_scores.index)"
   ]
  },
  {
   "cell_type": "markdown",
   "id": "cbcba383-b7c4-4c9e-88d2-58497492f73b",
   "metadata": {},
   "source": [
    "# Basic Data Analysis"
   ]
  },
  {
   "cell_type": "code",
   "execution_count": 3,
   "id": "26bba595-2525-4c20-905c-267a9bba647d",
   "metadata": {},
   "outputs": [
    {
     "data": {
      "text/html": [
       "<div>\n",
       "<style scoped>\n",
       "    .dataframe tbody tr th:only-of-type {\n",
       "        vertical-align: middle;\n",
       "    }\n",
       "\n",
       "    .dataframe tbody tr th {\n",
       "        vertical-align: top;\n",
       "    }\n",
       "\n",
       "    .dataframe thead th {\n",
       "        text-align: right;\n",
       "    }\n",
       "</style>\n",
       "<table border=\"1\" class=\"dataframe\">\n",
       "  <thead>\n",
       "    <tr style=\"text-align: right;\">\n",
       "      <th></th>\n",
       "      <th>HomePlanet</th>\n",
       "      <th>CryoSleep</th>\n",
       "      <th>Cabin</th>\n",
       "      <th>Destination</th>\n",
       "      <th>Age</th>\n",
       "      <th>VIP</th>\n",
       "      <th>RoomService</th>\n",
       "      <th>FoodCourt</th>\n",
       "      <th>ShoppingMall</th>\n",
       "      <th>Spa</th>\n",
       "      <th>VRDeck</th>\n",
       "      <th>Name</th>\n",
       "      <th>Transported</th>\n",
       "    </tr>\n",
       "    <tr>\n",
       "      <th>PassengerId</th>\n",
       "      <th></th>\n",
       "      <th></th>\n",
       "      <th></th>\n",
       "      <th></th>\n",
       "      <th></th>\n",
       "      <th></th>\n",
       "      <th></th>\n",
       "      <th></th>\n",
       "      <th></th>\n",
       "      <th></th>\n",
       "      <th></th>\n",
       "      <th></th>\n",
       "      <th></th>\n",
       "    </tr>\n",
       "  </thead>\n",
       "  <tbody>\n",
       "    <tr>\n",
       "      <th>3152_01</th>\n",
       "      <td>Earth</td>\n",
       "      <td>True</td>\n",
       "      <td>G/496/S</td>\n",
       "      <td>TRAPPIST-1e</td>\n",
       "      <td>14.0</td>\n",
       "      <td>False</td>\n",
       "      <td>0.0</td>\n",
       "      <td>0.0</td>\n",
       "      <td>0.0</td>\n",
       "      <td>0.0</td>\n",
       "      <td>0.0</td>\n",
       "      <td>Therek Greeves</td>\n",
       "      <td>False</td>\n",
       "    </tr>\n",
       "    <tr>\n",
       "      <th>6302_07</th>\n",
       "      <td>Earth</td>\n",
       "      <td>True</td>\n",
       "      <td>G/1015/P</td>\n",
       "      <td>TRAPPIST-1e</td>\n",
       "      <td>NaN</td>\n",
       "      <td>False</td>\n",
       "      <td>0.0</td>\n",
       "      <td>0.0</td>\n",
       "      <td>0.0</td>\n",
       "      <td>0.0</td>\n",
       "      <td>0.0</td>\n",
       "      <td>Neilda Rostarks</td>\n",
       "      <td>True</td>\n",
       "    </tr>\n",
       "    <tr>\n",
       "      <th>7387_01</th>\n",
       "      <td>Europa</td>\n",
       "      <td>False</td>\n",
       "      <td>C/240/P</td>\n",
       "      <td>TRAPPIST-1e</td>\n",
       "      <td>40.0</td>\n",
       "      <td>False</td>\n",
       "      <td>0.0</td>\n",
       "      <td>3508.0</td>\n",
       "      <td>761.0</td>\n",
       "      <td>12.0</td>\n",
       "      <td>32.0</td>\n",
       "      <td>Okulas Blercat</td>\n",
       "      <td>True</td>\n",
       "    </tr>\n",
       "    <tr>\n",
       "      <th>6218_01</th>\n",
       "      <td>Earth</td>\n",
       "      <td>False</td>\n",
       "      <td>F/1188/S</td>\n",
       "      <td>55 Cancri e</td>\n",
       "      <td>18.0</td>\n",
       "      <td>False</td>\n",
       "      <td>425.0</td>\n",
       "      <td>779.0</td>\n",
       "      <td>0.0</td>\n",
       "      <td>0.0</td>\n",
       "      <td>74.0</td>\n",
       "      <td>Hanry Villenson</td>\n",
       "      <td>False</td>\n",
       "    </tr>\n",
       "    <tr>\n",
       "      <th>1197_01</th>\n",
       "      <td>Europa</td>\n",
       "      <td>False</td>\n",
       "      <td>B/45/P</td>\n",
       "      <td>55 Cancri e</td>\n",
       "      <td>32.0</td>\n",
       "      <td>True</td>\n",
       "      <td>0.0</td>\n",
       "      <td>122.0</td>\n",
       "      <td>3700.0</td>\n",
       "      <td>337.0</td>\n",
       "      <td>1388.0</td>\n",
       "      <td>Wasatan Folhal</td>\n",
       "      <td>False</td>\n",
       "    </tr>\n",
       "    <tr>\n",
       "      <th>...</th>\n",
       "      <td>...</td>\n",
       "      <td>...</td>\n",
       "      <td>...</td>\n",
       "      <td>...</td>\n",
       "      <td>...</td>\n",
       "      <td>...</td>\n",
       "      <td>...</td>\n",
       "      <td>...</td>\n",
       "      <td>...</td>\n",
       "      <td>...</td>\n",
       "      <td>...</td>\n",
       "      <td>...</td>\n",
       "      <td>...</td>\n",
       "    </tr>\n",
       "    <tr>\n",
       "      <th>7780_01</th>\n",
       "      <td>Earth</td>\n",
       "      <td>False</td>\n",
       "      <td>F/1614/P</td>\n",
       "      <td>55 Cancri e</td>\n",
       "      <td>33.0</td>\n",
       "      <td>False</td>\n",
       "      <td>0.0</td>\n",
       "      <td>53.0</td>\n",
       "      <td>615.0</td>\n",
       "      <td>9.0</td>\n",
       "      <td>0.0</td>\n",
       "      <td>Therly Mcmahoney</td>\n",
       "      <td>True</td>\n",
       "    </tr>\n",
       "    <tr>\n",
       "      <th>5276_01</th>\n",
       "      <td>Europa</td>\n",
       "      <td>False</td>\n",
       "      <td>B/179/P</td>\n",
       "      <td>55 Cancri e</td>\n",
       "      <td>39.0</td>\n",
       "      <td>True</td>\n",
       "      <td>0.0</td>\n",
       "      <td>2868.0</td>\n",
       "      <td>0.0</td>\n",
       "      <td>5.0</td>\n",
       "      <td>1968.0</td>\n",
       "      <td>Neutrak Poustive</td>\n",
       "      <td>True</td>\n",
       "    </tr>\n",
       "    <tr>\n",
       "      <th>3533_01</th>\n",
       "      <td>Mars</td>\n",
       "      <td>False</td>\n",
       "      <td>E/211/P</td>\n",
       "      <td>TRAPPIST-1e</td>\n",
       "      <td>18.0</td>\n",
       "      <td>False</td>\n",
       "      <td>1749.0</td>\n",
       "      <td>50.0</td>\n",
       "      <td>280.0</td>\n",
       "      <td>2.0</td>\n",
       "      <td>0.0</td>\n",
       "      <td>Coakey Buthe</td>\n",
       "      <td>False</td>\n",
       "    </tr>\n",
       "    <tr>\n",
       "      <th>0619_01</th>\n",
       "      <td>Europa</td>\n",
       "      <td>True</td>\n",
       "      <td>C/24/S</td>\n",
       "      <td>TRAPPIST-1e</td>\n",
       "      <td>39.0</td>\n",
       "      <td>NaN</td>\n",
       "      <td>0.0</td>\n",
       "      <td>0.0</td>\n",
       "      <td>0.0</td>\n",
       "      <td>0.0</td>\n",
       "      <td>0.0</td>\n",
       "      <td>Scellus Holatirint</td>\n",
       "      <td>True</td>\n",
       "    </tr>\n",
       "    <tr>\n",
       "      <th>6796_01</th>\n",
       "      <td>Earth</td>\n",
       "      <td>False</td>\n",
       "      <td>G/1104/P</td>\n",
       "      <td>TRAPPIST-1e</td>\n",
       "      <td>31.0</td>\n",
       "      <td>False</td>\n",
       "      <td>470.0</td>\n",
       "      <td>0.0</td>\n",
       "      <td>0.0</td>\n",
       "      <td>182.0</td>\n",
       "      <td>52.0</td>\n",
       "      <td>Arlen Kellyons</td>\n",
       "      <td>False</td>\n",
       "    </tr>\n",
       "  </tbody>\n",
       "</table>\n",
       "<p>8693 rows × 13 columns</p>\n",
       "</div>"
      ],
      "text/plain": [
       "            HomePlanet CryoSleep     Cabin  Destination   Age    VIP  \\\n",
       "PassengerId                                                            \n",
       "3152_01          Earth      True   G/496/S  TRAPPIST-1e  14.0  False   \n",
       "6302_07          Earth      True  G/1015/P  TRAPPIST-1e   NaN  False   \n",
       "7387_01         Europa     False   C/240/P  TRAPPIST-1e  40.0  False   \n",
       "6218_01          Earth     False  F/1188/S  55 Cancri e  18.0  False   \n",
       "1197_01         Europa     False    B/45/P  55 Cancri e  32.0   True   \n",
       "...                ...       ...       ...          ...   ...    ...   \n",
       "7780_01          Earth     False  F/1614/P  55 Cancri e  33.0  False   \n",
       "5276_01         Europa     False   B/179/P  55 Cancri e  39.0   True   \n",
       "3533_01           Mars     False   E/211/P  TRAPPIST-1e  18.0  False   \n",
       "0619_01         Europa      True    C/24/S  TRAPPIST-1e  39.0    NaN   \n",
       "6796_01          Earth     False  G/1104/P  TRAPPIST-1e  31.0  False   \n",
       "\n",
       "             RoomService  FoodCourt  ShoppingMall    Spa  VRDeck  \\\n",
       "PassengerId                                                        \n",
       "3152_01              0.0        0.0           0.0    0.0     0.0   \n",
       "6302_07              0.0        0.0           0.0    0.0     0.0   \n",
       "7387_01              0.0     3508.0         761.0   12.0    32.0   \n",
       "6218_01            425.0      779.0           0.0    0.0    74.0   \n",
       "1197_01              0.0      122.0        3700.0  337.0  1388.0   \n",
       "...                  ...        ...           ...    ...     ...   \n",
       "7780_01              0.0       53.0         615.0    9.0     0.0   \n",
       "5276_01              0.0     2868.0           0.0    5.0  1968.0   \n",
       "3533_01           1749.0       50.0         280.0    2.0     0.0   \n",
       "0619_01              0.0        0.0           0.0    0.0     0.0   \n",
       "6796_01            470.0        0.0           0.0  182.0    52.0   \n",
       "\n",
       "                           Name  Transported  \n",
       "PassengerId                                   \n",
       "3152_01          Therek Greeves        False  \n",
       "6302_07         Neilda Rostarks         True  \n",
       "7387_01          Okulas Blercat         True  \n",
       "6218_01         Hanry Villenson        False  \n",
       "1197_01          Wasatan Folhal        False  \n",
       "...                         ...          ...  \n",
       "7780_01        Therly Mcmahoney         True  \n",
       "5276_01        Neutrak Poustive         True  \n",
       "3533_01            Coakey Buthe        False  \n",
       "0619_01      Scellus Holatirint         True  \n",
       "6796_01          Arlen Kellyons        False  \n",
       "\n",
       "[8693 rows x 13 columns]"
      ]
     },
     "execution_count": 3,
     "metadata": {},
     "output_type": "execute_result"
    }
   ],
   "source": [
    "train_df = pd.read_csv(\"data/train.csv\")\n",
    "train_df.set_index(\"PassengerId\", inplace=True)\n",
    "train_df = shuffle(train_df)\n",
    "\n",
    "# Convert the values of numeric column into absolute values\n",
    "train_df.loc[\n",
    "    :, [\"Age\", \"RoomService\", \"FoodCourt\", \"ShoppingMall\", \"Spa\", \"VRDeck\"]\n",
    "] = train_df.loc[\n",
    "    :, [\"Age\", \"RoomService\", \"FoodCourt\", \"ShoppingMall\", \"Spa\", \"VRDeck\"]\n",
    "].abs()\n",
    "train_df"
   ]
  },
  {
   "cell_type": "code",
   "execution_count": 4,
   "id": "1d9c2e3f-d7b0-49f0-8301-1392a6ecfd3a",
   "metadata": {},
   "outputs": [
    {
     "name": "stdout",
     "output_type": "stream",
     "text": [
      "<class 'pandas.core.frame.DataFrame'>\n",
      "Index: 8693 entries, 3152_01 to 6796_01\n",
      "Data columns (total 13 columns):\n",
      " #   Column        Non-Null Count  Dtype  \n",
      "---  ------        --------------  -----  \n",
      " 0   HomePlanet    8492 non-null   object \n",
      " 1   CryoSleep     8476 non-null   object \n",
      " 2   Cabin         8494 non-null   object \n",
      " 3   Destination   8511 non-null   object \n",
      " 4   Age           8514 non-null   float64\n",
      " 5   VIP           8490 non-null   object \n",
      " 6   RoomService   8512 non-null   float64\n",
      " 7   FoodCourt     8510 non-null   float64\n",
      " 8   ShoppingMall  8485 non-null   float64\n",
      " 9   Spa           8510 non-null   float64\n",
      " 10  VRDeck        8505 non-null   float64\n",
      " 11  Name          8493 non-null   object \n",
      " 12  Transported   8693 non-null   bool   \n",
      "dtypes: bool(1), float64(6), object(6)\n",
      "memory usage: 891.4+ KB\n"
     ]
    }
   ],
   "source": [
    "train_df.info()"
   ]
  },
  {
   "cell_type": "code",
   "execution_count": 5,
   "id": "c8badd66-327b-4ada-8180-335c57075273",
   "metadata": {},
   "outputs": [
    {
     "data": {
      "text/plain": [
       "HomePlanet      0.023122\n",
       "CryoSleep       0.024963\n",
       "Cabin           0.022892\n",
       "Destination     0.020936\n",
       "Age             0.020591\n",
       "VIP             0.023352\n",
       "RoomService     0.020821\n",
       "FoodCourt       0.021051\n",
       "ShoppingMall    0.023927\n",
       "Spa             0.021051\n",
       "VRDeck          0.021627\n",
       "Name            0.023007\n",
       "Transported     0.000000\n",
       "dtype: float64"
      ]
     },
     "execution_count": 5,
     "metadata": {},
     "output_type": "execute_result"
    }
   ],
   "source": [
    "train_df.isna().sum()/8693   # percentage of null"
   ]
  },
  {
   "cell_type": "code",
   "execution_count": 6,
   "id": "c79e6a61-ccf2-4113-8710-0d330dd3b881",
   "metadata": {},
   "outputs": [
    {
     "data": {
      "text/plain": [
       "HomePlanet         3\n",
       "CryoSleep          2\n",
       "Cabin           6560\n",
       "Destination        3\n",
       "Age               80\n",
       "VIP                2\n",
       "RoomService     1273\n",
       "FoodCourt       1507\n",
       "ShoppingMall    1115\n",
       "Spa             1327\n",
       "VRDeck          1306\n",
       "Name            8473\n",
       "Transported        2\n",
       "dtype: int64"
      ]
     },
     "execution_count": 6,
     "metadata": {},
     "output_type": "execute_result"
    }
   ],
   "source": [
    "train_df.nunique()"
   ]
  },
  {
   "cell_type": "code",
   "execution_count": 7,
   "id": "a30c6fdb-9974-40cc-a9d4-0bf8238f1e7b",
   "metadata": {},
   "outputs": [
    {
     "data": {
      "text/plain": [
       "0.0       5577\n",
       "1.0        117\n",
       "2.0         79\n",
       "3.0         61\n",
       "4.0         47\n",
       "          ... \n",
       "3839.0       1\n",
       "427.0        1\n",
       "1139.0       1\n",
       "2381.0       1\n",
       "1749.0       1\n",
       "Name: RoomService, Length: 1273, dtype: int64"
      ]
     },
     "execution_count": 7,
     "metadata": {},
     "output_type": "execute_result"
    }
   ],
   "source": [
    "train_df[\"RoomService\"].value_counts()"
   ]
  },
  {
   "cell_type": "markdown",
   "id": "89d4d158-a5d8-474d-b57c-16ecc4a53f05",
   "metadata": {},
   "source": [
    "# Data Wrangling & EDA"
   ]
  },
  {
   "cell_type": "markdown",
   "id": "28965e18-709f-4299-885a-286944f2283c",
   "metadata": {},
   "source": [
    "#### 1. Create new columns for missing data and perform EDA on missing items"
   ]
  },
  {
   "cell_type": "code",
   "execution_count": 8,
   "id": "46a29751-c200-4be7-83ec-9c9459b29067",
   "metadata": {},
   "outputs": [],
   "source": [
    "train_df[\"HomePlanet_missing\"] = train_df[\"HomePlanet\"].isna()\n",
    "train_df[\"CryoSleep_missing\"] = train_df[\"CryoSleep\"].isna()\n",
    "train_df[\"Cabin_missing\"] = train_df[\"Cabin\"].isna()\n",
    "train_df[\"Destination_missing\"] = train_df[\"Destination\"].isna()\n",
    "train_df[\"Age_missing\"] = train_df[\"Age\"].isna()\n",
    "train_df[\"VIP_missing\"] = train_df[\"VIP\"].isna()\n",
    "train_df[\"RoomService_missing\"] = train_df[\"RoomService\"].isna()\n",
    "train_df[\"FoodCourt_missing\"] = train_df[\"FoodCourt\"].isna()\n",
    "train_df[\"ShoppingMall_missing\"] = train_df[\"ShoppingMall\"].isna()\n",
    "train_df[\"Spa_missing\"] = train_df[\"Spa\"].isna()\n",
    "train_df[\"VRDeck_missing\"] = train_df[\"VRDeck\"].isna()\n",
    "train_df[\"Name_missing\"] = train_df[\"Name\"].isna()"
   ]
  },
  {
   "cell_type": "code",
   "execution_count": 9,
   "id": "a5a3af9f-a78d-4a86-8c05-40257f1cae01",
   "metadata": {},
   "outputs": [
    {
     "data": {
      "application/vnd.vegalite.v4+json": {
       "$schema": "https://vega.github.io/schema/vega-lite/v4.8.1.json",
       "columns": 3,
       "config": {
        "view": {
         "continuousHeight": 300,
         "continuousWidth": 400
        }
       },
       "repeat": [
        "HomePlanet_missing",
        "CryoSleep_missing",
        "Cabin_missing",
        "Destination_missing",
        "Age_missing",
        "VIP_missing",
        "RoomService_missing",
        "FoodCourt_missing",
        "ShoppingMall_missing",
        "Spa_missing",
        "VRDeck_missing",
        "Name_missing"
       ],
       "spec": {
        "data": {
         "url": "http://localhost:18928/a298f5113877ee0dccc509b17376d21f.json"
        },
        "encoding": {
         "fill": {
          "field": "Transported",
          "type": "nominal"
         },
         "x": {
          "bin": {
           "maxbins": 2
          },
          "field": {
           "repeat": "repeat"
          },
          "type": "quantitative"
         },
         "y": {
          "aggregate": "count",
          "scale": {
           "domain": [
            0,
            250
           ]
          },
          "type": "quantitative"
         }
        },
        "height": 150,
        "mark": {
         "clip": true,
         "type": "bar"
        },
        "width": 200
       }
      },
      "image/png": "[encoded data removed]",
      "text/plain": [
       "<VegaLite 4 object>\n",
       "\n",
       "If you see this message, it means the renderer has not been properly enabled\n",
       "for the frontend that you are using. For more information, see\n",
       "https://altair-viz.github.io/user_guide/troubleshooting.html\n"
      ]
     },
     "execution_count": 9,
     "metadata": {},
     "output_type": "execute_result"
    }
   ],
   "source": [
    "alt.Chart(train_df).mark_bar(clip=True).encode(\n",
    "    alt.X(alt.repeat(), type='quantitative', bin=alt.Bin(maxbins=2)),\n",
    "    alt.Y('count()', scale=alt.Scale(domain=(0, 250))),\n",
    "    fill='Transported'\n",
    ").properties(\n",
    "    width=200,\n",
    "    height=150\n",
    ").repeat(\n",
    "    [\"HomePlanet_missing\", \"CryoSleep_missing\", \"Cabin_missing\",\n",
    "     \"Destination_missing\", \"Age_missing\", \"VIP_missing\", \"RoomService_missing\",\n",
    "     \"FoodCourt_missing\", \"ShoppingMall_missing\",\n",
    "     \"Spa_missing\", \"VRDeck_missing\", \"Name_missing\"],\n",
    "    columns=3\n",
    ")"
   ]
  },
  {
   "cell_type": "markdown",
   "id": "6fcd3be7-c333-4486-90c9-6c88e31b268a",
   "metadata": {},
   "source": [
    "#### 2. Categorical Variables"
   ]
  },
  {
   "cell_type": "code",
   "execution_count": 10,
   "id": "ad111a7a-55c8-4411-a805-bd3b972156ef",
   "metadata": {},
   "outputs": [
    {
     "data": {
      "application/vnd.vegalite.v4+json": {
       "$schema": "https://vega.github.io/schema/vega-lite/v4.8.1.json",
       "config": {
        "view": {
         "continuousHeight": 300,
         "continuousWidth": 400
        }
       },
       "data": {
        "url": "http://localhost:18928/402b14cb029c28e34a349aa25bb054f1.json"
       },
       "vconcat": [
        {
         "encoding": {
          "fill": {
           "field": "Transported",
           "type": "nominal"
          },
          "x": {
           "aggregate": "count",
           "type": "quantitative"
          },
          "y": {
           "field": "HomePlanet",
           "type": "nominal"
          }
         },
         "mark": "bar"
        },
        {
         "encoding": {
          "fill": {
           "field": "Transported",
           "type": "nominal"
          },
          "x": {
           "aggregate": "count",
           "type": "quantitative"
          },
          "y": {
           "field": "CryoSleep",
           "type": "nominal"
          }
         },
         "mark": "bar"
        },
        {
         "encoding": {
          "fill": {
           "field": "Transported",
           "type": "nominal"
          },
          "x": {
           "aggregate": "count",
           "type": "quantitative"
          },
          "y": {
           "field": "Destination",
           "type": "nominal"
          }
         },
         "mark": "bar"
        },
        {
         "encoding": {
          "fill": {
           "field": "Transported",
           "type": "nominal"
          },
          "x": {
           "aggregate": "count",
           "type": "quantitative"
          },
          "y": {
           "field": "VIP",
           "type": "nominal"
          }
         },
         "mark": "bar"
        }
       ]
      },
      "image/png": "[encoded data removed]",
      "text/plain": [
       "<VegaLite 4 object>\n",
       "\n",
       "If you see this message, it means the renderer has not been properly enabled\n",
       "for the frontend that you are using. For more information, see\n",
       "https://altair-viz.github.io/user_guide/troubleshooting.html\n"
      ]
     },
     "execution_count": 10,
     "metadata": {},
     "output_type": "execute_result"
    }
   ],
   "source": [
    "# Replace null with \"unknown\" and perform EDA\n",
    "\n",
    "train_df.loc[train_df[\"HomePlanet\"].isna(), \"HomePlanet\"] = \"unknown\"\n",
    "train_df.loc[train_df[\"CryoSleep\"].isna(), \"CryoSleep\"] = \"unknown\"\n",
    "train_df.loc[train_df[\"Destination\"].isna(), \"Destination\"] = \"unknown\"\n",
    "train_df.loc[train_df[\"VIP\"].isna(), \"VIP\"] = \"unknown\"\n",
    "\n",
    "plot_homeplanet = alt.Chart(train_df).mark_bar().encode(\n",
    "    y=\"HomePlanet\",\n",
    "    x='count()',\n",
    "    fill='Transported'\n",
    ")\n",
    "plot_cryosleep = alt.Chart(train_df).mark_bar().encode(\n",
    "    y=\"CryoSleep\",\n",
    "    x='count()',\n",
    "    fill='Transported'\n",
    ")\n",
    "plot_destination = alt.Chart(train_df).mark_bar().encode(\n",
    "    y=\"Destination\",\n",
    "    x='count()',\n",
    "    fill='Transported'\n",
    ")\n",
    "plot_vip = alt.Chart(train_df).mark_bar().encode(\n",
    "    y=\"VIP\",\n",
    "    x='count()',\n",
    "    fill='Transported'\n",
    ")\n",
    "\n",
    "plot_homeplanet & plot_cryosleep & plot_destination & plot_vip"
   ]
  },
  {
   "cell_type": "markdown",
   "id": "9659b5f3-0406-49b1-9e70-69d0fa39e504",
   "metadata": {},
   "source": [
    "#### 3. Wrangling on `Cabin`"
   ]
  },
  {
   "cell_type": "code",
   "execution_count": 11,
   "id": "562ae527-202b-4c6c-bcd9-19117d3b4b49",
   "metadata": {},
   "outputs": [],
   "source": [
    "# Divide Cabin in to sub 3 section\n",
    "\n",
    "train_df[['Cabin_dec', 'Cabin_num', 'Cabin_side']] = train_df[\"Cabin\"].str.split(\"/\", expand=True)"
   ]
  },
  {
   "cell_type": "code",
   "execution_count": 12,
   "id": "a7cdfd95-acc0-4083-bfdc-b0607f9baeed",
   "metadata": {},
   "outputs": [
    {
     "data": {
      "application/vnd.vegalite.v4+json": {
       "$schema": "https://vega.github.io/schema/vega-lite/v4.8.1.json",
       "config": {
        "view": {
         "continuousHeight": 300,
         "continuousWidth": 400
        }
       },
       "data": {
        "url": "http://localhost:18928/c43ccce93e48384dbf63589218315933.json"
       },
       "vconcat": [
        {
         "encoding": {
          "fill": {
           "field": "Transported",
           "type": "nominal"
          },
          "x": {
           "aggregate": "count",
           "type": "quantitative"
          },
          "y": {
           "field": "Cabin_dec",
           "type": "nominal"
          }
         },
         "mark": "bar"
        },
        {
         "encoding": {
          "fill": {
           "field": "Transported",
           "type": "nominal"
          },
          "x": {
           "aggregate": "count",
           "type": "quantitative"
          },
          "y": {
           "field": "Cabin_side",
           "type": "nominal"
          }
         },
         "mark": "bar"
        }
       ]
      },
      "image/png": "[encoded data removed]",
      "text/plain": [
       "<VegaLite 4 object>\n",
       "\n",
       "If you see this message, it means the renderer has not been properly enabled\n",
       "for the frontend that you are using. For more information, see\n",
       "https://altair-viz.github.io/user_guide/troubleshooting.html\n"
      ]
     },
     "execution_count": 12,
     "metadata": {},
     "output_type": "execute_result"
    }
   ],
   "source": [
    "# Replace null with \"unknown\" and perform EDA\n",
    "\n",
    "train_df.loc[train_df[\"Cabin_dec\"].isna(), \"Cabin_dec\"] = \"unknown\"\n",
    "train_df.loc[train_df[\"Cabin_side\"].isna(), \"Cabin_side\"] = \"unknown\"\n",
    "\n",
    "plot_cabin_dec = alt.Chart(train_df).mark_bar().encode(\n",
    "    y=\"Cabin_dec\",\n",
    "    x='count()',\n",
    "    fill='Transported'\n",
    ")\n",
    "plot_cabin_side = alt.Chart(train_df).mark_bar().encode(\n",
    "    y=\"Cabin_side\",\n",
    "    x='count()',\n",
    "    fill='Transported'\n",
    ")\n",
    "\n",
    "plot_cabin_dec & plot_cabin_side"
   ]
  },
  {
   "cell_type": "markdown",
   "id": "23556ca0-5b2a-4b46-935f-7963b2393b85",
   "metadata": {},
   "source": [
    "#### 4. Wrangling on `Age`"
   ]
  },
  {
   "cell_type": "code",
   "execution_count": 13,
   "id": "f7b551c9-ab20-4003-af83-b1f32f08af86",
   "metadata": {},
   "outputs": [
    {
     "data": {
      "application/vnd.vegalite.v4+json": {
       "$schema": "https://vega.github.io/schema/vega-lite/v4.8.1.json",
       "config": {
        "view": {
         "continuousHeight": 300,
         "continuousWidth": 400
        }
       },
       "data": {
        "url": "http://localhost:18928/c43ccce93e48384dbf63589218315933.json"
       },
       "encoding": {
        "fill": {
         "field": "Transported",
         "type": "nominal"
        },
        "x": {
         "bin": {
          "maxbins": 40
         },
         "field": "Age",
         "type": "quantitative"
        },
        "y": {
         "aggregate": "count",
         "type": "quantitative"
        }
       },
       "mark": "bar"
      },
      "image/png": "[encoded data removed]",
      "text/plain": [
       "<VegaLite 4 object>\n",
       "\n",
       "If you see this message, it means the renderer has not been properly enabled\n",
       "for the frontend that you are using. For more information, see\n",
       "https://altair-viz.github.io/user_guide/troubleshooting.html\n"
      ]
     },
     "execution_count": 13,
     "metadata": {},
     "output_type": "execute_result"
    }
   ],
   "source": [
    "age_histogram = alt.Chart(train_df).mark_bar().encode(\n",
    "    alt.X('Age', bin=alt.Bin(maxbins=40)), \n",
    "    y='count()',\n",
    "    fill='Transported')\n",
    "age_histogram"
   ]
  },
  {
   "cell_type": "code",
   "execution_count": 14,
   "id": "e3f20895-10de-4270-a710-5f5fd189a5d1",
   "metadata": {},
   "outputs": [],
   "source": [
    "# Create Age groups\n",
    "train_df['Age_bin'] = pd.cut(\n",
    "    train_df['Age'], \n",
    "    bins=[-0.1, 12, 18, 30, 50, 66, 90], \n",
    "    labels=['Children', 'Teenage', '20s', '30-40s', '50-60s', 'Elder']\n",
    ")"
   ]
  },
  {
   "cell_type": "code",
   "execution_count": 15,
   "id": "84e5fa0c-f229-4aa1-925b-d984f8127a0e",
   "metadata": {},
   "outputs": [
    {
     "data": {
      "application/vnd.vegalite.v4+json": {
       "$schema": "https://vega.github.io/schema/vega-lite/v4.8.1.json",
       "config": {
        "view": {
         "continuousHeight": 300,
         "continuousWidth": 400
        }
       },
       "data": {
        "url": "http://localhost:18928/308b610d06723d726be75be03c8e0a5d.json"
       },
       "encoding": {
        "fill": {
         "field": "Transported",
         "type": "nominal"
        },
        "x": {
         "aggregate": "count",
         "type": "quantitative"
        },
        "y": {
         "field": "Age_bin",
         "type": "nominal"
        }
       },
       "mark": "bar"
      },
      "image/png": "[encoded data removed]",
      "text/plain": [
       "<VegaLite 4 object>\n",
       "\n",
       "If you see this message, it means the renderer has not been properly enabled\n",
       "for the frontend that you are using. For more information, see\n",
       "https://altair-viz.github.io/user_guide/troubleshooting.html\n"
      ]
     },
     "execution_count": 15,
     "metadata": {},
     "output_type": "execute_result"
    }
   ],
   "source": [
    "# Replace null with \"unknown\" and perform EDA\n",
    "\n",
    "train_df[\"Age_bin\"] = (\n",
    "    train_df[\"Age_bin\"]\n",
    "    .cat\n",
    "    .add_categories('unknown')\n",
    "    .fillna('unknown')\n",
    ")\n",
    "\n",
    "plot_age_bin = alt.Chart(train_df).mark_bar().encode(\n",
    "    y=\"Age_bin\",\n",
    "    x='count()',\n",
    "    fill='Transported'\n",
    ")\n",
    "plot_age_bin"
   ]
  },
  {
   "cell_type": "markdown",
   "id": "fc3230f1-3c08-4eee-8a1c-fc2d65d82173",
   "metadata": {},
   "source": [
    "#### 5. Wrangling on `RoomService`"
   ]
  },
  {
   "cell_type": "code",
   "execution_count": 16,
   "id": "ee613079-3e70-4f8a-a634-563e7375a509",
   "metadata": {},
   "outputs": [
    {
     "data": {
      "application/vnd.vegalite.v4+json": {
       "$schema": "https://vega.github.io/schema/vega-lite/v4.8.1.json",
       "config": {
        "view": {
         "continuousHeight": 300,
         "continuousWidth": 400
        }
       },
       "data": {
        "url": "http://localhost:18928/308b610d06723d726be75be03c8e0a5d.json"
       },
       "hconcat": [
        {
         "encoding": {
          "fill": {
           "field": "Transported",
           "type": "nominal"
          },
          "x": {
           "bin": {
            "maxbins": 200
           },
           "field": "RoomService",
           "type": "quantitative"
          },
          "y": {
           "aggregate": "count",
           "type": "quantitative"
          }
         },
         "mark": "bar"
        },
        {
         "encoding": {
          "fill": {
           "field": "Transported",
           "type": "nominal"
          },
          "x": {
           "bin": {
            "maxbins": 200
           },
           "field": "RoomService",
           "scale": {
            "domain": [
             0,
             3000
            ]
           },
           "type": "quantitative"
          },
          "y": {
           "aggregate": "count",
           "scale": {
            "domain": [
             0,
             500
            ]
           },
           "type": "quantitative"
          }
         },
         "mark": {
          "clip": true,
          "type": "bar"
         }
        }
       ]
      },
      "image/png": "[encoded data removed]",
      "text/plain": [
       "<VegaLite 4 object>\n",
       "\n",
       "If you see this message, it means the renderer has not been properly enabled\n",
       "for the frontend that you are using. For more information, see\n",
       "https://altair-viz.github.io/user_guide/troubleshooting.html\n"
      ]
     },
     "execution_count": 16,
     "metadata": {},
     "output_type": "execute_result"
    }
   ],
   "source": [
    "roomservice_histogram = alt.Chart(train_df).mark_bar().encode(\n",
    "    alt.X('RoomService', bin=alt.Bin(maxbins=200)), \n",
    "    y='count()',\n",
    "    fill='Transported')\n",
    "roomservice_histogram2 = alt.Chart(train_df).mark_bar(clip=True).encode(\n",
    "    alt.X('RoomService', bin=alt.Bin(maxbins=200), scale=alt.Scale(domain=(0, 3000))), \n",
    "    alt.Y('count()', scale=alt.Scale(domain=(0, 500))),\n",
    "    fill='Transported')\n",
    "\n",
    "roomservice_histogram | roomservice_histogram2"
   ]
  },
  {
   "cell_type": "code",
   "execution_count": 17,
   "id": "29a2526e-1ed1-4837-8198-1e72f3ad2b62",
   "metadata": {},
   "outputs": [],
   "source": [
    "# Create RoomService groups\n",
    "\n",
    "train_df['RoomService_bin'] = pd.cut(\n",
    "    train_df['RoomService'], \n",
    "    bins=[-0.1, 0.001, 100, 200, 400, 900, 2400, 15000], \n",
    "    labels=['RS$0', 'RS$0-100', 'RS$100-200', 'RS$200-400', 'RS$400-900', 'RS$900-2400', 'RS$2400-15000']\n",
    ")"
   ]
  },
  {
   "cell_type": "code",
   "execution_count": 18,
   "id": "2694942b-5ba6-4e5a-b4b4-6aab557e0465",
   "metadata": {},
   "outputs": [
    {
     "data": {
      "application/vnd.vegalite.v4+json": {
       "$schema": "https://vega.github.io/schema/vega-lite/v4.8.1.json",
       "config": {
        "view": {
         "continuousHeight": 300,
         "continuousWidth": 400
        }
       },
       "data": {
        "url": "http://localhost:18928/ceb915db55ca0d1b1afa47bf319978b6.json"
       },
       "encoding": {
        "fill": {
         "field": "Transported",
         "type": "nominal"
        },
        "x": {
         "aggregate": "count",
         "type": "quantitative"
        },
        "y": {
         "field": "RoomService_bin",
         "type": "nominal"
        }
       },
       "mark": "bar"
      },
      "image/png": "[encoded data removed]",
      "text/plain": [
       "<VegaLite 4 object>\n",
       "\n",
       "If you see this message, it means the renderer has not been properly enabled\n",
       "for the frontend that you are using. For more information, see\n",
       "https://altair-viz.github.io/user_guide/troubleshooting.html\n"
      ]
     },
     "execution_count": 18,
     "metadata": {},
     "output_type": "execute_result"
    }
   ],
   "source": [
    "# Replace null with \"unknown\" and perform EDA\n",
    "\n",
    "train_df[\"RoomService_bin\"] = (\n",
    "    train_df[\"RoomService_bin\"]\n",
    "    .cat\n",
    "    .add_categories('unknown')\n",
    "    .fillna('unknown')\n",
    ")\n",
    "\n",
    "plot_roomservice_bin = alt.Chart(train_df).mark_bar().encode(\n",
    "    y=\"RoomService_bin\",\n",
    "    x='count()',\n",
    "    fill='Transported'\n",
    ")\n",
    "plot_roomservice_bin"
   ]
  },
  {
   "cell_type": "markdown",
   "id": "cd6e2aa2-b2d9-4aed-8a29-2f3dd8bf19d9",
   "metadata": {},
   "source": [
    "#### 6. Wrangling on `FoodCourt`"
   ]
  },
  {
   "cell_type": "code",
   "execution_count": 19,
   "id": "7428652f-37a3-4f59-a4e9-83a994bcfbb9",
   "metadata": {},
   "outputs": [
    {
     "data": {
      "application/vnd.vegalite.v4+json": {
       "$schema": "https://vega.github.io/schema/vega-lite/v4.8.1.json",
       "config": {
        "view": {
         "continuousHeight": 300,
         "continuousWidth": 400
        }
       },
       "data": {
        "url": "http://localhost:18928/ceb915db55ca0d1b1afa47bf319978b6.json"
       },
       "hconcat": [
        {
         "encoding": {
          "fill": {
           "field": "Transported",
           "type": "nominal"
          },
          "x": {
           "bin": {
            "maxbins": 400
           },
           "field": "FoodCourt",
           "type": "quantitative"
          },
          "y": {
           "aggregate": "count",
           "type": "quantitative"
          }
         },
         "mark": "bar"
        },
        {
         "encoding": {
          "fill": {
           "field": "Transported",
           "type": "nominal"
          },
          "x": {
           "bin": {
            "maxbins": 400
           },
           "field": "FoodCourt",
           "scale": {
            "domain": [
             0,
             3000
            ]
           },
           "type": "quantitative"
          },
          "y": {
           "aggregate": "count",
           "scale": {
            "domain": [
             0,
             500
            ]
           },
           "type": "quantitative"
          }
         },
         "mark": {
          "clip": true,
          "type": "bar"
         }
        }
       ]
      },
      "image/png": "[encoded data removed]",
      "text/plain": [
       "<VegaLite 4 object>\n",
       "\n",
       "If you see this message, it means the renderer has not been properly enabled\n",
       "for the frontend that you are using. For more information, see\n",
       "https://altair-viz.github.io/user_guide/troubleshooting.html\n"
      ]
     },
     "execution_count": 19,
     "metadata": {},
     "output_type": "execute_result"
    }
   ],
   "source": [
    "foodcourt_histogram = alt.Chart(train_df).mark_bar().encode(\n",
    "    alt.X('FoodCourt', bin=alt.Bin(maxbins=400)), \n",
    "    y='count()',\n",
    "    fill='Transported')\n",
    "foodcourt_histogram2 = alt.Chart(train_df).mark_bar(clip=True).encode(\n",
    "    alt.X('FoodCourt', bin=alt.Bin(maxbins=400), scale=alt.Scale(domain=(0, 3000))), \n",
    "    alt.Y('count()', scale=alt.Scale(domain=(0, 500))),\n",
    "    fill='Transported')\n",
    "foodcourt_histogram | foodcourt_histogram2"
   ]
  },
  {
   "cell_type": "code",
   "execution_count": 20,
   "id": "0118e106-258c-484c-950d-81b8271de6c6",
   "metadata": {},
   "outputs": [],
   "source": [
    "# Create FoodCourt groups\n",
    "\n",
    "train_df['FoodCourt_bin'] = pd.cut(\n",
    "    train_df['FoodCourt'], \n",
    "    bins=[-0.1, 0.001, 100, 500, 900, 2000, 30000], \n",
    "    labels=['FC$0', 'FC$0-100', 'FC$100-500', 'FC$500-900', 'FC$900-2000', 'FC$2000-30000']\n",
    ")"
   ]
  },
  {
   "cell_type": "code",
   "execution_count": 21,
   "id": "08d4c517-87b0-4079-a14e-006ae9937b45",
   "metadata": {},
   "outputs": [
    {
     "data": {
      "application/vnd.vegalite.v4+json": {
       "$schema": "https://vega.github.io/schema/vega-lite/v4.8.1.json",
       "config": {
        "view": {
         "continuousHeight": 300,
         "continuousWidth": 400
        }
       },
       "data": {
        "url": "http://localhost:18928/201e8476e59349a604ae934bdc91c369.json"
       },
       "encoding": {
        "fill": {
         "field": "Transported",
         "type": "nominal"
        },
        "x": {
         "aggregate": "count",
         "type": "quantitative"
        },
        "y": {
         "field": "FoodCourt_bin",
         "type": "nominal"
        }
       },
       "mark": "bar"
      },
      "image/png": "[encoded data removed]",
      "text/plain": [
       "<VegaLite 4 object>\n",
       "\n",
       "If you see this message, it means the renderer has not been properly enabled\n",
       "for the frontend that you are using. For more information, see\n",
       "https://altair-viz.github.io/user_guide/troubleshooting.html\n"
      ]
     },
     "execution_count": 21,
     "metadata": {},
     "output_type": "execute_result"
    }
   ],
   "source": [
    "# Replace null with \"unknown\" and perform EDA\n",
    "\n",
    "train_df[\"FoodCourt_bin\"] = (\n",
    "    train_df[\"FoodCourt_bin\"]\n",
    "    .cat\n",
    "    .add_categories('unknown')\n",
    "    .fillna('unknown')\n",
    ")\n",
    "\n",
    "plot_roomservice_bin = alt.Chart(train_df).mark_bar().encode(\n",
    "    y=\"FoodCourt_bin\",\n",
    "    x='count()',\n",
    "    fill='Transported'\n",
    ")\n",
    "plot_roomservice_bin"
   ]
  },
  {
   "cell_type": "markdown",
   "id": "321e2e73-8e44-4011-9872-a7aeb784f51a",
   "metadata": {},
   "source": [
    "#### 7. Wrangling on `ShoppingMall`"
   ]
  },
  {
   "cell_type": "code",
   "execution_count": 22,
   "id": "369a3b3d-c7b6-4c45-bcbf-38d9ece0cd9e",
   "metadata": {},
   "outputs": [
    {
     "data": {
      "application/vnd.vegalite.v4+json": {
       "$schema": "https://vega.github.io/schema/vega-lite/v4.8.1.json",
       "config": {
        "view": {
         "continuousHeight": 300,
         "continuousWidth": 400
        }
       },
       "data": {
        "url": "http://localhost:18928/201e8476e59349a604ae934bdc91c369.json"
       },
       "hconcat": [
        {
         "encoding": {
          "fill": {
           "field": "Transported",
           "type": "nominal"
          },
          "x": {
           "bin": {
            "maxbins": 400
           },
           "field": "ShoppingMall",
           "type": "quantitative"
          },
          "y": {
           "aggregate": "count",
           "type": "quantitative"
          }
         },
         "mark": "bar"
        },
        {
         "encoding": {
          "fill": {
           "field": "Transported",
           "type": "nominal"
          },
          "x": {
           "bin": {
            "maxbins": 400
           },
           "field": "ShoppingMall",
           "scale": {
            "domain": [
             0,
             3000
            ]
           },
           "type": "quantitative"
          },
          "y": {
           "aggregate": "count",
           "scale": {
            "domain": [
             0,
             500
            ]
           },
           "type": "quantitative"
          }
         },
         "mark": {
          "clip": true,
          "type": "bar"
         }
        }
       ]
      },
      "image/png": "[encoded data removed]",
      "text/plain": [
       "<VegaLite 4 object>\n",
       "\n",
       "If you see this message, it means the renderer has not been properly enabled\n",
       "for the frontend that you are using. For more information, see\n",
       "https://altair-viz.github.io/user_guide/troubleshooting.html\n"
      ]
     },
     "execution_count": 22,
     "metadata": {},
     "output_type": "execute_result"
    }
   ],
   "source": [
    "shoppingmall_histogram = alt.Chart(train_df).mark_bar().encode(\n",
    "    alt.X('ShoppingMall', bin=alt.Bin(maxbins=400)), \n",
    "    y='count()',\n",
    "    fill='Transported')\n",
    "shoppingmall_histogram2 = alt.Chart(train_df).mark_bar(clip=True).encode(\n",
    "    alt.X('ShoppingMall', bin=alt.Bin(maxbins=400), scale=alt.Scale(domain=(0, 3000))), \n",
    "    alt.Y('count()', scale=alt.Scale(domain=(0, 500))),\n",
    "    fill='Transported')\n",
    "shoppingmall_histogram | shoppingmall_histogram2"
   ]
  },
  {
   "cell_type": "code",
   "execution_count": 23,
   "id": "a1b271f8-9fd1-42a4-9f42-474be64386af",
   "metadata": {},
   "outputs": [],
   "source": [
    "# Create ShoppingMall groups\n",
    "\n",
    "train_df['ShoppingMall_bin'] = pd.cut(\n",
    "    train_df['ShoppingMall'], \n",
    "    bins=[-0.1, 0.001, 100, 200, 600, 1200, 2000, 30000], \n",
    "    labels=['SM$0', 'SM$0-100', 'SM$100-200', 'SM$200-600', 'SM$600-1200', 'SM$1200-2000', 'SM$2000-30000']\n",
    ")"
   ]
  },
  {
   "cell_type": "code",
   "execution_count": 24,
   "id": "e1f4f9f3-2f0f-4080-849b-c5c37028bba1",
   "metadata": {},
   "outputs": [
    {
     "data": {
      "application/vnd.vegalite.v4+json": {
       "$schema": "https://vega.github.io/schema/vega-lite/v4.8.1.json",
       "config": {
        "view": {
         "continuousHeight": 300,
         "continuousWidth": 400
        }
       },
       "data": {
        "url": "http://localhost:18928/ad075171b93852a49b53b540a0a9a97e.json"
       },
       "encoding": {
        "fill": {
         "field": "Transported",
         "type": "nominal"
        },
        "x": {
         "aggregate": "count",
         "type": "quantitative"
        },
        "y": {
         "field": "ShoppingMall_bin",
         "type": "nominal"
        }
       },
       "mark": "bar"
      },
      "image/png": "[encoded data removed]",
      "text/plain": [
       "<VegaLite 4 object>\n",
       "\n",
       "If you see this message, it means the renderer has not been properly enabled\n",
       "for the frontend that you are using. For more information, see\n",
       "https://altair-viz.github.io/user_guide/troubleshooting.html\n"
      ]
     },
     "execution_count": 24,
     "metadata": {},
     "output_type": "execute_result"
    }
   ],
   "source": [
    "# Replace null with \"unknown\" and perform EDA\n",
    "\n",
    "train_df[\"ShoppingMall_bin\"] = (\n",
    "    train_df[\"ShoppingMall_bin\"]\n",
    "    .cat\n",
    "    .add_categories('unknown')\n",
    "    .fillna('unknown')\n",
    ")\n",
    "\n",
    "plot_shoppingmall_bin = alt.Chart(train_df).mark_bar().encode(\n",
    "    y=\"ShoppingMall_bin\",\n",
    "    x='count()',\n",
    "    fill='Transported'\n",
    ")\n",
    "plot_shoppingmall_bin"
   ]
  },
  {
   "cell_type": "markdown",
   "id": "0a3dd823-a4d0-4f5f-85e3-bd92f29c96e7",
   "metadata": {},
   "source": [
    "#### 8. Wrangling on `Spa`"
   ]
  },
  {
   "cell_type": "code",
   "execution_count": 25,
   "id": "2795ab3e-dd68-49b6-ac38-1ddc6076c9e8",
   "metadata": {},
   "outputs": [
    {
     "data": {
      "application/vnd.vegalite.v4+json": {
       "$schema": "https://vega.github.io/schema/vega-lite/v4.8.1.json",
       "config": {
        "view": {
         "continuousHeight": 300,
         "continuousWidth": 400
        }
       },
       "data": {
        "url": "http://localhost:18928/ad075171b93852a49b53b540a0a9a97e.json"
       },
       "hconcat": [
        {
         "encoding": {
          "fill": {
           "field": "Transported",
           "type": "nominal"
          },
          "x": {
           "bin": {
            "maxbins": 400
           },
           "field": "Spa",
           "type": "quantitative"
          },
          "y": {
           "aggregate": "count",
           "type": "quantitative"
          }
         },
         "mark": "bar"
        },
        {
         "encoding": {
          "fill": {
           "field": "Transported",
           "type": "nominal"
          },
          "x": {
           "bin": {
            "maxbins": 400
           },
           "field": "Spa",
           "scale": {
            "domain": [
             0,
             3000
            ]
           },
           "type": "quantitative"
          },
          "y": {
           "aggregate": "count",
           "scale": {
            "domain": [
             0,
             500
            ]
           },
           "type": "quantitative"
          }
         },
         "mark": {
          "clip": true,
          "type": "bar"
         }
        }
       ]
      },
      "image/png": "[encoded data removed]",
      "text/plain": [
       "<VegaLite 4 object>\n",
       "\n",
       "If you see this message, it means the renderer has not been properly enabled\n",
       "for the frontend that you are using. For more information, see\n",
       "https://altair-viz.github.io/user_guide/troubleshooting.html\n"
      ]
     },
     "execution_count": 25,
     "metadata": {},
     "output_type": "execute_result"
    }
   ],
   "source": [
    "spa_histogram = alt.Chart(train_df).mark_bar().encode(\n",
    "    alt.X('Spa', bin=alt.Bin(maxbins=400)), \n",
    "    y='count()',\n",
    "    fill='Transported')\n",
    "spa_histogram2 = alt.Chart(train_df).mark_bar(clip=True).encode(\n",
    "    alt.X('Spa', bin=alt.Bin(maxbins=400), scale=alt.Scale(domain=(0, 3000))), \n",
    "    alt.Y('count()', scale=alt.Scale(domain=(0, 500))),\n",
    "    fill='Transported')\n",
    "spa_histogram | spa_histogram2"
   ]
  },
  {
   "cell_type": "code",
   "execution_count": 26,
   "id": "21c2a080-ac20-4204-9c7d-4dfa72172781",
   "metadata": {},
   "outputs": [],
   "source": [
    "# Create Spa groups\n",
    "\n",
    "train_df['Spa_bin'] = pd.cut(\n",
    "    train_df['Spa'], \n",
    "    bins=[-0.1, 0.001, 100, 200, 600, 1200, 2000, 30000], \n",
    "    labels=['Sp$0', 'Sp$0-100', 'Sp$100-200', 'Sp$200-600', 'Sp$600-1200', 'Sp$1200-2000', 'Sp$2000-30000']\n",
    ")"
   ]
  },
  {
   "cell_type": "code",
   "execution_count": 27,
   "id": "34732772-e26d-4e20-9ff1-e614c933434b",
   "metadata": {},
   "outputs": [
    {
     "data": {
      "application/vnd.vegalite.v4+json": {
       "$schema": "https://vega.github.io/schema/vega-lite/v4.8.1.json",
       "config": {
        "view": {
         "continuousHeight": 300,
         "continuousWidth": 400
        }
       },
       "data": {
        "url": "http://localhost:18928/fa00303e5d36f598dd10c1dff1ac6f7a.json"
       },
       "encoding": {
        "fill": {
         "field": "Transported",
         "type": "nominal"
        },
        "x": {
         "aggregate": "count",
         "type": "quantitative"
        },
        "y": {
         "field": "Spa_bin",
         "type": "nominal"
        }
       },
       "mark": "bar"
      },
      "image/png": "[encoded data removed]",
      "text/plain": [
       "<VegaLite 4 object>\n",
       "\n",
       "If you see this message, it means the renderer has not been properly enabled\n",
       "for the frontend that you are using. For more information, see\n",
       "https://altair-viz.github.io/user_guide/troubleshooting.html\n"
      ]
     },
     "execution_count": 27,
     "metadata": {},
     "output_type": "execute_result"
    }
   ],
   "source": [
    "# Replace null with \"unknown\" and perform EDA\n",
    "\n",
    "train_df[\"Spa_bin\"] = (\n",
    "    train_df[\"Spa_bin\"]\n",
    "    .cat\n",
    "    .add_categories('unknown')\n",
    "    .fillna('unknown')\n",
    ")\n",
    "\n",
    "plot_spa_bin = alt.Chart(train_df).mark_bar().encode(\n",
    "    y=\"Spa_bin\",\n",
    "    x='count()',\n",
    "    fill='Transported'\n",
    ")\n",
    "plot_spa_bin"
   ]
  },
  {
   "cell_type": "markdown",
   "id": "262e5899-e325-4243-a3a1-4e23b9bfdf08",
   "metadata": {},
   "source": [
    "#### 9. Wrangling on `VRDeck`"
   ]
  },
  {
   "cell_type": "code",
   "execution_count": 28,
   "id": "5f3ec21f-2a53-419c-91a7-2678174fdb68",
   "metadata": {},
   "outputs": [
    {
     "data": {
      "application/vnd.vegalite.v4+json": {
       "$schema": "https://vega.github.io/schema/vega-lite/v4.8.1.json",
       "config": {
        "view": {
         "continuousHeight": 300,
         "continuousWidth": 400
        }
       },
       "data": {
        "url": "http://localhost:18928/fa00303e5d36f598dd10c1dff1ac6f7a.json"
       },
       "hconcat": [
        {
         "encoding": {
          "fill": {
           "field": "Transported",
           "type": "nominal"
          },
          "x": {
           "bin": {
            "maxbins": 400
           },
           "field": "VRDeck",
           "type": "quantitative"
          },
          "y": {
           "aggregate": "count",
           "type": "quantitative"
          }
         },
         "mark": "bar"
        },
        {
         "encoding": {
          "fill": {
           "field": "Transported",
           "type": "nominal"
          },
          "x": {
           "bin": {
            "maxbins": 400
           },
           "field": "VRDeck",
           "scale": {
            "domain": [
             0,
             3000
            ]
           },
           "type": "quantitative"
          },
          "y": {
           "aggregate": "count",
           "scale": {
            "domain": [
             0,
             500
            ]
           },
           "type": "quantitative"
          }
         },
         "mark": {
          "clip": true,
          "type": "bar"
         }
        }
       ]
      },
      "image/png": "[encoded data removed]",
      "text/plain": [
       "<VegaLite 4 object>\n",
       "\n",
       "If you see this message, it means the renderer has not been properly enabled\n",
       "for the frontend that you are using. For more information, see\n",
       "https://altair-viz.github.io/user_guide/troubleshooting.html\n"
      ]
     },
     "execution_count": 28,
     "metadata": {},
     "output_type": "execute_result"
    }
   ],
   "source": [
    "vrdeck_histogram = alt.Chart(train_df).mark_bar().encode(\n",
    "    alt.X('VRDeck', bin=alt.Bin(maxbins=400)), \n",
    "    y='count()',\n",
    "    fill='Transported')\n",
    "vrdeck_histogram2 = alt.Chart(train_df).mark_bar(clip=True).encode(\n",
    "    alt.X('VRDeck', bin=alt.Bin(maxbins=400), scale=alt.Scale(domain=(0, 3000))), \n",
    "    alt.Y('count()', scale=alt.Scale(domain=(0, 500))),\n",
    "    fill='Transported')\n",
    "vrdeck_histogram | vrdeck_histogram2"
   ]
  },
  {
   "cell_type": "code",
   "execution_count": 29,
   "id": "4e40639b-6af0-4c54-9dc3-95ea368d6962",
   "metadata": {},
   "outputs": [],
   "source": [
    "# Create VRDeck groups\n",
    "\n",
    "train_df['VRDeck_bin'] = pd.cut(\n",
    "    train_df['VRDeck'], \n",
    "    bins=[-0.1, 0.001, 100, 200, 600, 1000, 2000, 30000], \n",
    "    labels=['VR$0', 'VR$0-100', 'VR$100-200', 'VR$200-600', 'VR$600-1000', 'VR$1000-2000', 'VR$2000-30000']\n",
    ")"
   ]
  },
  {
   "cell_type": "code",
   "execution_count": 30,
   "id": "aab3283f-7790-4892-b26d-80f9ca353d7c",
   "metadata": {},
   "outputs": [
    {
     "data": {
      "application/vnd.vegalite.v4+json": {
       "$schema": "https://vega.github.io/schema/vega-lite/v4.8.1.json",
       "config": {
        "view": {
         "continuousHeight": 300,
         "continuousWidth": 400
        }
       },
       "data": {
        "url": "http://localhost:18928/843d12c8d3bc1dea8bd0f63a05e20e98.json"
       },
       "encoding": {
        "fill": {
         "field": "Transported",
         "type": "nominal"
        },
        "x": {
         "aggregate": "count",
         "type": "quantitative"
        },
        "y": {
         "field": "VRDeck_bin",
         "type": "nominal"
        }
       },
       "mark": "bar"
      },
      "image/png": "[encoded data removed]",
      "text/plain": [
       "<VegaLite 4 object>\n",
       "\n",
       "If you see this message, it means the renderer has not been properly enabled\n",
       "for the frontend that you are using. For more information, see\n",
       "https://altair-viz.github.io/user_guide/troubleshooting.html\n"
      ]
     },
     "execution_count": 30,
     "metadata": {},
     "output_type": "execute_result"
    }
   ],
   "source": [
    "# Replace null with \"unknown\" and perform EDA\n",
    "\n",
    "train_df[\"VRDeck_bin\"] = (\n",
    "    train_df[\"VRDeck_bin\"]\n",
    "    .cat\n",
    "    .add_categories('unknown')\n",
    "    .fillna('unknown')\n",
    ")\n",
    "\n",
    "plot_vrdeck_bin = alt.Chart(train_df).mark_bar().encode(\n",
    "    y=\"VRDeck_bin\",\n",
    "    x='count()',\n",
    "    fill='Transported'\n",
    ")\n",
    "plot_vrdeck_bin"
   ]
  },
  {
   "cell_type": "markdown",
   "id": "064648c7-8f40-4c2a-835f-2dc3a84f03ea",
   "metadata": {},
   "source": [
    "#### 10. Wrangling on `Name`"
   ]
  },
  {
   "cell_type": "code",
   "execution_count": 31,
   "id": "f25dde9f-abf9-42b0-8e71-9ad6a0ab9097",
   "metadata": {},
   "outputs": [
    {
     "data": {
      "text/plain": [
       "8473"
      ]
     },
     "execution_count": 31,
     "metadata": {},
     "output_type": "execute_result"
    }
   ],
   "source": [
    "train_df[\"Name\"].nunique()"
   ]
  },
  {
   "cell_type": "code",
   "execution_count": 32,
   "id": "196bfea9-f6c5-461e-a5d8-32ff0593a1ad",
   "metadata": {},
   "outputs": [],
   "source": [
    "# Split `Name` into first and last names\n",
    "\n",
    "train_df[['Name_first', 'Name_last']] = train_df[\"Name\"].str.split(\" \", expand=True)"
   ]
  },
  {
   "cell_type": "code",
   "execution_count": 33,
   "id": "48417014-1784-4f69-8bb4-ebdc78a42b2d",
   "metadata": {},
   "outputs": [
    {
     "data": {
      "text/plain": [
       "2706"
      ]
     },
     "execution_count": 33,
     "metadata": {},
     "output_type": "execute_result"
    }
   ],
   "source": [
    "train_df[\"Name_first\"].nunique()"
   ]
  },
  {
   "cell_type": "code",
   "execution_count": 34,
   "id": "6145e08d-dfe1-4cb8-aeb1-7a2c69e8fdb5",
   "metadata": {
    "tags": []
   },
   "outputs": [
    {
     "data": {
      "text/plain": [
       "2217"
      ]
     },
     "execution_count": 34,
     "metadata": {},
     "output_type": "execute_result"
    }
   ],
   "source": [
    "train_df[\"Name_last\"].nunique()"
   ]
  },
  {
   "cell_type": "code",
   "execution_count": 35,
   "id": "0e5a599e-fa13-4d81-98e0-8e7ca5ac5ec3",
   "metadata": {},
   "outputs": [
    {
     "data": {
      "text/plain": [
       "Casonston      18\n",
       "Oneiles        16\n",
       "Litthews       15\n",
       "Domington      15\n",
       "Garnes         14\n",
       "               ..\n",
       "Monsintic       1\n",
       "Cookentaney     1\n",
       "Ortinericey     1\n",
       "Coictrazy       1\n",
       "Swell           1\n",
       "Name: Name_last, Length: 2217, dtype: int64"
      ]
     },
     "execution_count": 35,
     "metadata": {},
     "output_type": "execute_result"
    }
   ],
   "source": [
    "train_df[\"Name_last\"].value_counts()"
   ]
  },
  {
   "cell_type": "code",
   "execution_count": 36,
   "id": "3a67b40f-e7d3-470e-9e3f-d253c6912bfe",
   "metadata": {},
   "outputs": [],
   "source": [
    "# Makes a dictionary using the last name and the number of corresponding last names\n",
    "\n",
    "num_last_name = train_df[\"Name_last\"].value_counts()\n",
    "last_name_dict = dict(num_last_name)"
   ]
  },
  {
   "cell_type": "code",
   "execution_count": 37,
   "id": "dcae7aa3-ccb5-43c3-994b-1d033d29fc48",
   "metadata": {},
   "outputs": [],
   "source": [
    "# Create separate column with the number of the corresponding last names\n",
    "\n",
    "for name, num in last_name_dict.items():\n",
    "    train_df.loc[train_df[\"Name_last\"] == name, \"num_of_Name_last\"] = num"
   ]
  },
  {
   "cell_type": "code",
   "execution_count": 38,
   "id": "77fdd89d-b5a3-4e24-8d24-ab70c2dbd2d2",
   "metadata": {},
   "outputs": [
    {
     "data": {
      "application/vnd.vegalite.v4+json": {
       "$schema": "https://vega.github.io/schema/vega-lite/v4.8.1.json",
       "config": {
        "view": {
         "continuousHeight": 300,
         "continuousWidth": 400
        }
       },
       "data": {
        "url": "http://localhost:18928/c6789208426e4365f63e9e49fe79f719.json"
       },
       "encoding": {
        "fill": {
         "field": "Transported",
         "type": "nominal"
        },
        "x": {
         "bin": {
          "maxbins": 20
         },
         "field": "num_of_Name_last",
         "type": "quantitative"
        },
        "y": {
         "aggregate": "count",
         "type": "quantitative"
        }
       },
       "mark": "bar"
      },
      "image/png": "[encoded data removed]",
      "text/plain": [
       "<VegaLite 4 object>\n",
       "\n",
       "If you see this message, it means the renderer has not been properly enabled\n",
       "for the frontend that you are using. For more information, see\n",
       "https://altair-viz.github.io/user_guide/troubleshooting.html\n"
      ]
     },
     "execution_count": 38,
     "metadata": {},
     "output_type": "execute_result"
    }
   ],
   "source": [
    "lastname_histogram = alt.Chart(train_df).mark_bar().encode(\n",
    "    alt.X('num_of_Name_last', bin=alt.Bin(maxbins=20)), \n",
    "    y='count()',\n",
    "    fill='Transported')\n",
    "lastname_histogram"
   ]
  },
  {
   "cell_type": "code",
   "execution_count": 39,
   "id": "8550b5d0-97c3-4d8a-959f-285656ae99d7",
   "metadata": {},
   "outputs": [],
   "source": [
    "# Create groups for number of last name\n",
    "\n",
    "train_df['num_of_Name_last'] = pd.cut(\n",
    "    train_df['num_of_Name_last'], \n",
    "    bins=[-100, 1.001, 15, 20], \n",
    "    labels=['fam1', 'fam2-15', 'fam15-20']\n",
    ")"
   ]
  },
  {
   "cell_type": "code",
   "execution_count": 40,
   "id": "5bf093ec-3c46-4dc0-8949-06e7e47a2643",
   "metadata": {},
   "outputs": [
    {
     "data": {
      "application/vnd.vegalite.v4+json": {
       "$schema": "https://vega.github.io/schema/vega-lite/v4.8.1.json",
       "config": {
        "view": {
         "continuousHeight": 300,
         "continuousWidth": 400
        }
       },
       "data": {
        "url": "http://localhost:18928/4e9d42e8f46a2a06afb58352dda8fe94.json"
       },
       "encoding": {
        "fill": {
         "field": "Transported",
         "type": "nominal"
        },
        "x": {
         "aggregate": "count",
         "type": "quantitative"
        },
        "y": {
         "field": "num_of_Name_last",
         "type": "nominal"
        }
       },
       "mark": "bar"
      },
      "image/png": "[encoded data removed]",
      "text/plain": [
       "<VegaLite 4 object>\n",
       "\n",
       "If you see this message, it means the renderer has not been properly enabled\n",
       "for the frontend that you are using. For more information, see\n",
       "https://altair-viz.github.io/user_guide/troubleshooting.html\n"
      ]
     },
     "execution_count": 40,
     "metadata": {},
     "output_type": "execute_result"
    }
   ],
   "source": [
    "# Replace null with \"unknown\" and perform EDA\n",
    "\n",
    "train_df[\"num_of_Name_last\"] = (\n",
    "    train_df[\"num_of_Name_last\"]\n",
    "    .cat\n",
    "    .add_categories('unknown')\n",
    "    .fillna('unknown')\n",
    ")\n",
    "\n",
    "plot_num_lastname = alt.Chart(train_df).mark_bar().encode(\n",
    "    y=\"num_of_Name_last\",\n",
    "    x='count()',\n",
    "    fill='Transported'\n",
    ")\n",
    "plot_num_lastname"
   ]
  },
  {
   "cell_type": "code",
   "execution_count": 41,
   "id": "0ee0835f-3a91-4f5c-89ea-7405112da7f1",
   "metadata": {},
   "outputs": [
    {
     "name": "stdout",
     "output_type": "stream",
     "text": [
      "<class 'pandas.core.frame.DataFrame'>\n",
      "Index: 8693 entries, 3152_01 to 6796_01\n",
      "Data columns (total 37 columns):\n",
      " #   Column                Non-Null Count  Dtype   \n",
      "---  ------                --------------  -----   \n",
      " 0   HomePlanet            8693 non-null   object  \n",
      " 1   CryoSleep             8693 non-null   object  \n",
      " 2   Cabin                 8494 non-null   object  \n",
      " 3   Destination           8693 non-null   object  \n",
      " 4   Age                   8514 non-null   float64 \n",
      " 5   VIP                   8693 non-null   object  \n",
      " 6   RoomService           8512 non-null   float64 \n",
      " 7   FoodCourt             8510 non-null   float64 \n",
      " 8   ShoppingMall          8485 non-null   float64 \n",
      " 9   Spa                   8510 non-null   float64 \n",
      " 10  VRDeck                8505 non-null   float64 \n",
      " 11  Name                  8493 non-null   object  \n",
      " 12  Transported           8693 non-null   bool    \n",
      " 13  HomePlanet_missing    8693 non-null   bool    \n",
      " 14  CryoSleep_missing     8693 non-null   bool    \n",
      " 15  Cabin_missing         8693 non-null   bool    \n",
      " 16  Destination_missing   8693 non-null   bool    \n",
      " 17  Age_missing           8693 non-null   bool    \n",
      " 18  VIP_missing           8693 non-null   bool    \n",
      " 19  RoomService_missing   8693 non-null   bool    \n",
      " 20  FoodCourt_missing     8693 non-null   bool    \n",
      " 21  ShoppingMall_missing  8693 non-null   bool    \n",
      " 22  Spa_missing           8693 non-null   bool    \n",
      " 23  VRDeck_missing        8693 non-null   bool    \n",
      " 24  Name_missing          8693 non-null   bool    \n",
      " 25  Cabin_dec             8693 non-null   object  \n",
      " 26  Cabin_num             8494 non-null   object  \n",
      " 27  Cabin_side            8693 non-null   object  \n",
      " 28  Age_bin               8693 non-null   category\n",
      " 29  RoomService_bin       8693 non-null   category\n",
      " 30  FoodCourt_bin         8693 non-null   category\n",
      " 31  ShoppingMall_bin      8693 non-null   category\n",
      " 32  Spa_bin               8693 non-null   category\n",
      " 33  VRDeck_bin            8693 non-null   category\n",
      " 34  Name_first            8493 non-null   object  \n",
      " 35  Name_last             8493 non-null   object  \n",
      " 36  num_of_Name_last      8693 non-null   category\n",
      "dtypes: bool(13), category(7), float64(6), object(11)\n",
      "memory usage: 1.6+ MB\n"
     ]
    }
   ],
   "source": [
    "train_df.info()"
   ]
  },
  {
   "cell_type": "code",
   "execution_count": 42,
   "id": "b5b450cc-1962-4a6c-a0ec-1bdc10b239f7",
   "metadata": {},
   "outputs": [],
   "source": [
    "X_train, y_train = train_df.drop(columns=['Transported']), train_df['Transported']"
   ]
  },
  {
   "cell_type": "code",
   "execution_count": 43,
   "id": "a995b523-42bf-45e9-953a-3b55e275710a",
   "metadata": {},
   "outputs": [],
   "source": [
    "y_train = y_train.astype(int)"
   ]
  },
  {
   "cell_type": "markdown",
   "id": "fa037069-be59-4533-9d9e-7108ecb53f7a",
   "metadata": {},
   "source": [
    "# Feature Selection"
   ]
  },
  {
   "cell_type": "code",
   "execution_count": 44,
   "id": "55b2c404-5442-4c14-a0b1-135c8e5142af",
   "metadata": {},
   "outputs": [],
   "source": [
    "ordinal_age_features = [\"Age_bin\"]\n",
    "ordinal_age_order = [\n",
    "    ['unknown', 'Children', 'Teenage', '20s', '30-40s', '50-60s', 'Elder']\n",
    "]\n",
    "\n",
    "ordinal_roomservice_features = [\"RoomService_bin\"]\n",
    "ordinal_roomservice_order = [\n",
    "    ['unknown', 'RS$0', 'RS$0-100', 'RS$100-200', 'RS$200-400', 'RS$400-900', 'RS$900-2400', 'RS$2400-15000']\n",
    "]\n",
    "\n",
    "ordinal_foodcourt_features = [\"FoodCourt_bin\"]\n",
    "ordinal_foodcourt_order = [\n",
    "    ['unknown', 'FC$0', 'FC$0-100', 'FC$100-500', 'FC$500-900', 'FC$900-2000', 'FC$2000-30000']\n",
    "]\n",
    "\n",
    "ordinal_shoppingmall_features = [\"ShoppingMall_bin\"]\n",
    "ordinal_shoppingmall_order = [\n",
    "    ['unknown', 'SM$0', 'SM$0-100', 'SM$100-200', 'SM$200-600', 'SM$600-1200', 'SM$1200-2000', 'SM$2000-30000']\n",
    "]\n",
    "\n",
    "ordinal_spa_features = [\"Spa_bin\"]\n",
    "ordinal_spa_order = [\n",
    "    ['unknown', 'Sp$0', 'Sp$0-100', 'Sp$100-200', 'Sp$200-600', 'Sp$600-1200', 'Sp$1200-2000', 'Sp$2000-30000']\n",
    "]\n",
    "\n",
    "ordinal_vrdeck_features = [\"VRDeck_bin\"]\n",
    "ordinal_vrdeck_order = [\n",
    "    ['unknown', 'VR$0', 'VR$0-100', 'VR$100-200', 'VR$200-600', 'VR$600-1000', 'VR$1000-2000', 'VR$2000-30000']\n",
    "]\n",
    "\n",
    "ordinal_numlastname_features = [\"num_of_Name_last\"]\n",
    "ordinal_numlastname_order = [\n",
    "    ['unknown', 'fam1', 'fam2-15', 'fam15-20']\n",
    "]\n",
    "\n",
    "categorical_features = [\"HomePlanet\", \"CryoSleep\", \"Destination\", \"VIP\",\n",
    "                        \"Cabin_dec\", \"Cabin_side\"]\n",
    "\n",
    "drop_features = [\"Cabin\", \"Age\", \"RoomService\", \"FoodCourt\", \"ShoppingMall\",\n",
    "                 \"Spa\", \"VRDeck\", \"Name\", \"HomePlanet_missing\",\n",
    "                 \"CryoSleep_missing\", \"Cabin_missing\", \"Destination_missing\",\n",
    "                 \"Age_missing\", \"VIP_missing\", \"RoomService_missing\",\n",
    "                 \"FoodCourt_missing\", \"ShoppingMall_missing\", \"Spa_missing\",\n",
    "                 \"VRDeck_missing\", \"Name_missing\", \"Cabin_num\", \"Name_first\",\n",
    "                 \"Name_last\"]"
   ]
  },
  {
   "cell_type": "code",
   "execution_count": 45,
   "id": "6999de2b-14eb-4221-aea7-d800e5365f33",
   "metadata": {},
   "outputs": [],
   "source": [
    "ct = make_column_transformer(\n",
    "    (\n",
    "        OrdinalEncoder(categories=ordinal_age_order),\n",
    "        ordinal_age_features\n",
    "    ),\n",
    "    (\n",
    "        OrdinalEncoder(categories=ordinal_roomservice_order),\n",
    "        ordinal_roomservice_features\n",
    "    ),\n",
    "    (\n",
    "        OrdinalEncoder(categories=ordinal_foodcourt_order),\n",
    "        ordinal_foodcourt_features\n",
    "    ),\n",
    "    (\n",
    "        OrdinalEncoder(categories=ordinal_shoppingmall_order),\n",
    "        ordinal_shoppingmall_features\n",
    "    ),\n",
    "    (\n",
    "        OrdinalEncoder(categories=ordinal_spa_order),\n",
    "        ordinal_spa_features\n",
    "    ),\n",
    "    (\n",
    "        OrdinalEncoder(categories=ordinal_vrdeck_order),\n",
    "        ordinal_vrdeck_features\n",
    "    ),\n",
    "    (\n",
    "        OrdinalEncoder(categories=ordinal_numlastname_order),\n",
    "        ordinal_numlastname_features\n",
    "    ),\n",
    "    (\n",
    "        make_pipeline(\n",
    "            OneHotEncoder(handle_unknown=\"ignore\")\n",
    "        ), categorical_features\n",
    "    ),\n",
    "    (\"drop\", drop_features)\n",
    ")"
   ]
  },
  {
   "cell_type": "markdown",
   "id": "c36a711b-2961-46c9-8dd6-d1943af999f6",
   "metadata": {},
   "source": [
    "# Machine Learning"
   ]
  },
  {
   "cell_type": "markdown",
   "id": "690fa10f-4ca0-40a0-a1ce-72b26566058c",
   "metadata": {},
   "source": [
    "#### 1. Baseline Model"
   ]
  },
  {
   "cell_type": "code",
   "execution_count": 46,
   "id": "4d4ee99d-6855-49cc-8ddd-967f216b6d7e",
   "metadata": {},
   "outputs": [],
   "source": [
    "# To prevent errors\n",
    "\n",
    "X_train[\"HomePlanet\"] = X_train[\"HomePlanet\"].astype(str)\n",
    "X_train[\"CryoSleep\"] = X_train[\"CryoSleep\"].astype(str)\n",
    "X_train[\"Destination\"] = X_train[\"Destination\"].astype(str)\n",
    "X_train[\"VIP\"] = X_train[\"VIP\"].astype(str)\n",
    "X_train[\"Cabin_dec\"] = X_train[\"Cabin_dec\"].astype(str)\n",
    "X_train[\"Cabin_side\"] = X_train[\"Cabin_side\"].astype(str)"
   ]
  },
  {
   "cell_type": "code",
   "execution_count": 47,
   "id": "d2fb22dc-e41a-4ccb-874f-a74c3f7cb8df",
   "metadata": {},
   "outputs": [],
   "source": [
    "results = {}"
   ]
  },
  {
   "cell_type": "code",
   "execution_count": 48,
   "id": "26bd6024-3e27-445e-9a04-928c24ca47d6",
   "metadata": {
    "tags": []
   },
   "outputs": [],
   "source": [
    "pipe_dummy = make_pipeline(ct, DummyClassifier())"
   ]
  },
  {
   "cell_type": "code",
   "execution_count": 49,
   "id": "684a0ac0-157e-485f-83bc-4254f427d533",
   "metadata": {},
   "outputs": [],
   "source": [
    "results[\"Dummy\"] = mean_std_cross_val_scores(\n",
    "    pipe_dummy, X_train, y_train, return_train_score=True\n",
    ")"
   ]
  },
  {
   "cell_type": "code",
   "execution_count": 50,
   "id": "26d60eed-2d60-409f-816b-bed638772570",
   "metadata": {},
   "outputs": [
    {
     "data": {
      "text/html": [
       "<div>\n",
       "<style scoped>\n",
       "    .dataframe tbody tr th:only-of-type {\n",
       "        vertical-align: middle;\n",
       "    }\n",
       "\n",
       "    .dataframe tbody tr th {\n",
       "        vertical-align: top;\n",
       "    }\n",
       "\n",
       "    .dataframe thead th {\n",
       "        text-align: right;\n",
       "    }\n",
       "</style>\n",
       "<table border=\"1\" class=\"dataframe\">\n",
       "  <thead>\n",
       "    <tr style=\"text-align: right;\">\n",
       "      <th></th>\n",
       "      <th>Dummy</th>\n",
       "    </tr>\n",
       "  </thead>\n",
       "  <tbody>\n",
       "    <tr>\n",
       "      <th>fit_time</th>\n",
       "      <td>0.033 (+/- 0.004)</td>\n",
       "    </tr>\n",
       "    <tr>\n",
       "      <th>score_time</th>\n",
       "      <td>0.011 (+/- 0.001)</td>\n",
       "    </tr>\n",
       "    <tr>\n",
       "      <th>test_score</th>\n",
       "      <td>0.504 (+/- 0.000)</td>\n",
       "    </tr>\n",
       "    <tr>\n",
       "      <th>train_score</th>\n",
       "      <td>0.504 (+/- 0.000)</td>\n",
       "    </tr>\n",
       "  </tbody>\n",
       "</table>\n",
       "</div>"
      ],
      "text/plain": [
       "                         Dummy\n",
       "fit_time     0.033 (+/- 0.004)\n",
       "score_time   0.011 (+/- 0.001)\n",
       "test_score   0.504 (+/- 0.000)\n",
       "train_score  0.504 (+/- 0.000)"
      ]
     },
     "execution_count": 50,
     "metadata": {},
     "output_type": "execute_result"
    }
   ],
   "source": [
    "pd.DataFrame(results)"
   ]
  },
  {
   "cell_type": "markdown",
   "id": "8bf3b172-30c0-4fc6-923f-a04dad52758c",
   "metadata": {},
   "source": [
    "#### 2. Various ML Models"
   ]
  },
  {
   "cell_type": "code",
   "execution_count": 51,
   "id": "a8d4b1bc-24a3-40a5-90b8-8470c22c19be",
   "metadata": {},
   "outputs": [],
   "source": [
    "pipe_dt = make_pipeline(ct, DecisionTreeClassifier(random_state=123))\n",
    "pipe_lr = make_pipeline(ct, LogisticRegression(max_iter=2000, random_state=123))\n",
    "pipe_nb = make_pipeline(ct, MultinomialNB())\n",
    "pipe_svc = make_pipeline(ct, SVC(random_state=123))\n",
    "pipe_rf = make_pipeline(ct, RandomForestClassifier(random_state=123))\n",
    "pipe_xgb = make_pipeline(ct, XGBClassifier(random_state=123, verbosity=0))\n",
    "pipe_lgbm = make_pipeline(ct, LGBMClassifier(random_state=123))\n",
    "pipe_catb = make_pipeline(ct, CatBoostClassifier(random_state=123, verbose=0))"
   ]
  },
  {
   "cell_type": "code",
   "execution_count": 52,
   "id": "26681171-3211-4740-833c-5e4ec763ba1a",
   "metadata": {},
   "outputs": [],
   "source": [
    "models = {\n",
    "    \"decision_tree\": pipe_dt,\n",
    "    \"logistic_regression\": pipe_lr,\n",
    "    \"naive_bayes\": pipe_nb,\n",
    "    \"SVC\": pipe_svc,\n",
    "    \"random_forest\": pipe_rf,\n",
    "    \"XGBoost\": pipe_xgb,\n",
    "    \"LightGBM\": pipe_lgbm,\n",
    "    \"CatBoost\": pipe_catb\n",
    "}"
   ]
  },
  {
   "cell_type": "code",
   "execution_count": 53,
   "id": "5c16555c-2007-4def-94fc-c52d0bdabfab",
   "metadata": {},
   "outputs": [
    {
     "name": "stderr",
     "output_type": "stream",
     "text": [
      "C:\\Users\\johnw\\miniconda3\\envs\\573\\lib\\site-packages\\xgboost\\sklearn.py:888: UserWarning: The use of label encoder in XGBClassifier is deprecated and will be removed in a future release. To remove this warning, do the following: 1) Pass option use_label_encoder=False when constructing XGBClassifier object; and 2) Encode your labels (y) as integers starting with 0, i.e. 0, 1, 2, ..., [num_class - 1].\n",
      "  warnings.warn(label_encoder_deprecation_msg, UserWarning)\n",
      "C:\\Users\\johnw\\miniconda3\\envs\\573\\lib\\site-packages\\xgboost\\sklearn.py:888: UserWarning: The use of label encoder in XGBClassifier is deprecated and will be removed in a future release. To remove this warning, do the following: 1) Pass option use_label_encoder=False when constructing XGBClassifier object; and 2) Encode your labels (y) as integers starting with 0, i.e. 0, 1, 2, ..., [num_class - 1].\n",
      "  warnings.warn(label_encoder_deprecation_msg, UserWarning)\n",
      "C:\\Users\\johnw\\miniconda3\\envs\\573\\lib\\site-packages\\xgboost\\sklearn.py:888: UserWarning: The use of label encoder in XGBClassifier is deprecated and will be removed in a future release. To remove this warning, do the following: 1) Pass option use_label_encoder=False when constructing XGBClassifier object; and 2) Encode your labels (y) as integers starting with 0, i.e. 0, 1, 2, ..., [num_class - 1].\n",
      "  warnings.warn(label_encoder_deprecation_msg, UserWarning)\n",
      "C:\\Users\\johnw\\miniconda3\\envs\\573\\lib\\site-packages\\xgboost\\sklearn.py:888: UserWarning: The use of label encoder in XGBClassifier is deprecated and will be removed in a future release. To remove this warning, do the following: 1) Pass option use_label_encoder=False when constructing XGBClassifier object; and 2) Encode your labels (y) as integers starting with 0, i.e. 0, 1, 2, ..., [num_class - 1].\n",
      "  warnings.warn(label_encoder_deprecation_msg, UserWarning)\n",
      "C:\\Users\\johnw\\miniconda3\\envs\\573\\lib\\site-packages\\xgboost\\sklearn.py:888: UserWarning: The use of label encoder in XGBClassifier is deprecated and will be removed in a future release. To remove this warning, do the following: 1) Pass option use_label_encoder=False when constructing XGBClassifier object; and 2) Encode your labels (y) as integers starting with 0, i.e. 0, 1, 2, ..., [num_class - 1].\n",
      "  warnings.warn(label_encoder_deprecation_msg, UserWarning)\n"
     ]
    }
   ],
   "source": [
    "for (name, model) in models.items():\n",
    "    results[name] = mean_std_cross_val_scores(\n",
    "        model, X_train, y_train, return_train_score=True\n",
    "    )"
   ]
  },
  {
   "cell_type": "code",
   "execution_count": 54,
   "id": "8a2ab42a-939a-4d3b-af2d-a46d95650174",
   "metadata": {},
   "outputs": [
    {
     "data": {
      "text/html": [
       "<div>\n",
       "<style scoped>\n",
       "    .dataframe tbody tr th:only-of-type {\n",
       "        vertical-align: middle;\n",
       "    }\n",
       "\n",
       "    .dataframe tbody tr th {\n",
       "        vertical-align: top;\n",
       "    }\n",
       "\n",
       "    .dataframe thead th {\n",
       "        text-align: right;\n",
       "    }\n",
       "</style>\n",
       "<table border=\"1\" class=\"dataframe\">\n",
       "  <thead>\n",
       "    <tr style=\"text-align: right;\">\n",
       "      <th></th>\n",
       "      <th>Dummy</th>\n",
       "      <th>decision_tree</th>\n",
       "      <th>logistic_regression</th>\n",
       "      <th>naive_bayes</th>\n",
       "      <th>SVC</th>\n",
       "      <th>random_forest</th>\n",
       "      <th>XGBoost</th>\n",
       "      <th>LightGBM</th>\n",
       "      <th>CatBoost</th>\n",
       "    </tr>\n",
       "  </thead>\n",
       "  <tbody>\n",
       "    <tr>\n",
       "      <th>fit_time</th>\n",
       "      <td>0.033 (+/- 0.004)</td>\n",
       "      <td>0.051 (+/- 0.006)</td>\n",
       "      <td>0.146 (+/- 0.008)</td>\n",
       "      <td>0.034 (+/- 0.004)</td>\n",
       "      <td>1.460 (+/- 0.043)</td>\n",
       "      <td>0.479 (+/- 0.011)</td>\n",
       "      <td>0.269 (+/- 0.016)</td>\n",
       "      <td>0.119 (+/- 0.006)</td>\n",
       "      <td>2.978 (+/- 0.070)</td>\n",
       "    </tr>\n",
       "    <tr>\n",
       "      <th>score_time</th>\n",
       "      <td>0.011 (+/- 0.001)</td>\n",
       "      <td>0.011 (+/- 0.001)</td>\n",
       "      <td>0.013 (+/- 0.002)</td>\n",
       "      <td>0.013 (+/- 0.001)</td>\n",
       "      <td>0.559 (+/- 0.021)</td>\n",
       "      <td>0.044 (+/- 0.002)</td>\n",
       "      <td>0.020 (+/- 0.000)</td>\n",
       "      <td>0.020 (+/- 0.001)</td>\n",
       "      <td>0.029 (+/- 0.002)</td>\n",
       "    </tr>\n",
       "    <tr>\n",
       "      <th>test_score</th>\n",
       "      <td>0.504 (+/- 0.000)</td>\n",
       "      <td>0.744 (+/- 0.010)</td>\n",
       "      <td>0.784 (+/- 0.006)</td>\n",
       "      <td>0.757 (+/- 0.005)</td>\n",
       "      <td>0.798 (+/- 0.010)</td>\n",
       "      <td>0.790 (+/- 0.011)</td>\n",
       "      <td>0.798 (+/- 0.012)</td>\n",
       "      <td>0.797 (+/- 0.009)</td>\n",
       "      <td>0.802 (+/- 0.009)</td>\n",
       "    </tr>\n",
       "    <tr>\n",
       "      <th>train_score</th>\n",
       "      <td>0.504 (+/- 0.000)</td>\n",
       "      <td>0.931 (+/- 0.002)</td>\n",
       "      <td>0.787 (+/- 0.002)</td>\n",
       "      <td>0.758 (+/- 0.001)</td>\n",
       "      <td>0.801 (+/- 0.002)</td>\n",
       "      <td>0.931 (+/- 0.002)</td>\n",
       "      <td>0.867 (+/- 0.003)</td>\n",
       "      <td>0.841 (+/- 0.002)</td>\n",
       "      <td>0.851 (+/- 0.002)</td>\n",
       "    </tr>\n",
       "  </tbody>\n",
       "</table>\n",
       "</div>"
      ],
      "text/plain": [
       "                         Dummy      decision_tree logistic_regression  \\\n",
       "fit_time     0.033 (+/- 0.004)  0.051 (+/- 0.006)   0.146 (+/- 0.008)   \n",
       "score_time   0.011 (+/- 0.001)  0.011 (+/- 0.001)   0.013 (+/- 0.002)   \n",
       "test_score   0.504 (+/- 0.000)  0.744 (+/- 0.010)   0.784 (+/- 0.006)   \n",
       "train_score  0.504 (+/- 0.000)  0.931 (+/- 0.002)   0.787 (+/- 0.002)   \n",
       "\n",
       "                   naive_bayes                SVC      random_forest  \\\n",
       "fit_time     0.034 (+/- 0.004)  1.460 (+/- 0.043)  0.479 (+/- 0.011)   \n",
       "score_time   0.013 (+/- 0.001)  0.559 (+/- 0.021)  0.044 (+/- 0.002)   \n",
       "test_score   0.757 (+/- 0.005)  0.798 (+/- 0.010)  0.790 (+/- 0.011)   \n",
       "train_score  0.758 (+/- 0.001)  0.801 (+/- 0.002)  0.931 (+/- 0.002)   \n",
       "\n",
       "                       XGBoost           LightGBM           CatBoost  \n",
       "fit_time     0.269 (+/- 0.016)  0.119 (+/- 0.006)  2.978 (+/- 0.070)  \n",
       "score_time   0.020 (+/- 0.000)  0.020 (+/- 0.001)  0.029 (+/- 0.002)  \n",
       "test_score   0.798 (+/- 0.012)  0.797 (+/- 0.009)  0.802 (+/- 0.009)  \n",
       "train_score  0.867 (+/- 0.003)  0.841 (+/- 0.002)  0.851 (+/- 0.002)  "
      ]
     },
     "execution_count": 54,
     "metadata": {},
     "output_type": "execute_result"
    }
   ],
   "source": [
    "pd.DataFrame(results)"
   ]
  },
  {
   "cell_type": "markdown",
   "id": "c91ececc-a718-4ef0-8b9f-c8fc98f53abd",
   "metadata": {},
   "source": [
    "# Feature Importance"
   ]
  },
  {
   "cell_type": "code",
   "execution_count": 55,
   "id": "ac0bcca1-44c8-424a-9274-491179c22350",
   "metadata": {},
   "outputs": [
    {
     "data": {
      "text/plain": [
       "Pipeline(steps=[('columntransformer',\n",
       "                 ColumnTransformer(transformers=[('ordinalencoder-1',\n",
       "                                                  OrdinalEncoder(categories=[['unknown',\n",
       "                                                                              'Children',\n",
       "                                                                              'Teenage',\n",
       "                                                                              '20s',\n",
       "                                                                              '30-40s',\n",
       "                                                                              '50-60s',\n",
       "                                                                              'Elder']]),\n",
       "                                                  ['Age_bin']),\n",
       "                                                 ('ordinalencoder-2',\n",
       "                                                  OrdinalEncoder(categories=[['unknown',\n",
       "                                                                              'RS$0',\n",
       "                                                                              'RS$0-100',\n",
       "                                                                              'RS$100-200',\n",
       "                                                                              'RS$200-400',\n",
       "                                                                              'RS$400-900',\n",
       "                                                                              'RS$900-2400',\n",
       "                                                                              'RS$2400-15000']]),\n",
       "                                                  ['Room...\n",
       "                                                   'VRDeck', 'Name',\n",
       "                                                   'HomePlanet_missing',\n",
       "                                                   'CryoSleep_missing',\n",
       "                                                   'Cabin_missing',\n",
       "                                                   'Destination_missing',\n",
       "                                                   'Age_missing', 'VIP_missing',\n",
       "                                                   'RoomService_missing',\n",
       "                                                   'FoodCourt_missing',\n",
       "                                                   'ShoppingMall_missing',\n",
       "                                                   'Spa_missing',\n",
       "                                                   'VRDeck_missing',\n",
       "                                                   'Name_missing', 'Cabin_num',\n",
       "                                                   'Name_first',\n",
       "                                                   'Name_last'])])),\n",
       "                ('logisticregression',\n",
       "                 LogisticRegression(max_iter=2000, random_state=123))])"
      ]
     },
     "execution_count": 55,
     "metadata": {},
     "output_type": "execute_result"
    }
   ],
   "source": [
    "pipe_lr.fit(X_train, y_train)"
   ]
  },
  {
   "cell_type": "code",
   "execution_count": 56,
   "id": "39044f06-e8bd-42fd-8f39-5ad49d19b7ed",
   "metadata": {},
   "outputs": [],
   "source": [
    "categorical_columns = pipe_lr.named_steps[\"columntransformer\"].named_transformers_[\"pipeline\"].named_steps[\"onehotencoder\"].get_feature_names_out(categorical_features).tolist()"
   ]
  },
  {
   "cell_type": "code",
   "execution_count": 57,
   "id": "354705f4-1ff6-46b6-8227-671114d28f77",
   "metadata": {},
   "outputs": [],
   "source": [
    "columns = (ordinal_age_features + ordinal_roomservice_features + ordinal_foodcourt_features +\n",
    "           ordinal_shoppingmall_features + ordinal_spa_features + ordinal_vrdeck_features +\n",
    "           ordinal_numlastname_features + categorical_columns)"
   ]
  },
  {
   "cell_type": "code",
   "execution_count": 58,
   "id": "48aaf1e5-098b-4966-87fe-06640ed72ad2",
   "metadata": {},
   "outputs": [
    {
     "data": {
      "image/png": "[encoded data removed]",
      "text/plain": [
       "<Figure size 432x288 with 1 Axes>"
      ]
     },
     "metadata": {
      "needs_background": "light"
     },
     "output_type": "display_data"
    }
   ],
   "source": [
    "top20_lr = pd.Series(abs(pipe_lr.named_steps[\"logisticregression\"].coef_.flatten()), columns).sort_values(ascending=False).head(20)\n",
    "top20_lr.plot.barh().invert_yaxis()\n",
    "plt.show();"
   ]
  },
  {
   "cell_type": "code",
   "execution_count": 59,
   "id": "9f21f114-f331-46d8-a293-abeb4f96cb0a",
   "metadata": {},
   "outputs": [
    {
     "data": {
      "image/png": "[encoded data removed]",
      "text/plain": [
       "<Figure size 432x288 with 1 Axes>"
      ]
     },
     "metadata": {
      "needs_background": "light"
     },
     "output_type": "display_data"
    }
   ],
   "source": [
    "top20_lr = pd.Series((pipe_lr.named_steps[\"logisticregression\"].coef_.flatten()), columns).sort_values(ascending=False).head(20)\n",
    "top20_lr.plot.barh().invert_yaxis()\n",
    "plt.show();"
   ]
  },
  {
   "cell_type": "markdown",
   "id": "6c96773c-e8a0-4c5c-9b44-78c4509d25c2",
   "metadata": {},
   "source": [
    "# Test Set Preparation"
   ]
  },
  {
   "cell_type": "markdown",
   "id": "6fcaca2a-15f6-4c0c-b638-39f66268ea7b",
   "metadata": {},
   "source": [
    "#### 1. Basic Analysis"
   ]
  },
  {
   "cell_type": "code",
   "execution_count": 60,
   "id": "60aeb9eb-6cda-4d79-a66d-dba636ead9d6",
   "metadata": {},
   "outputs": [
    {
     "data": {
      "text/html": [
       "<div>\n",
       "<style scoped>\n",
       "    .dataframe tbody tr th:only-of-type {\n",
       "        vertical-align: middle;\n",
       "    }\n",
       "\n",
       "    .dataframe tbody tr th {\n",
       "        vertical-align: top;\n",
       "    }\n",
       "\n",
       "    .dataframe thead th {\n",
       "        text-align: right;\n",
       "    }\n",
       "</style>\n",
       "<table border=\"1\" class=\"dataframe\">\n",
       "  <thead>\n",
       "    <tr style=\"text-align: right;\">\n",
       "      <th></th>\n",
       "      <th>PassengerId</th>\n",
       "      <th>HomePlanet</th>\n",
       "      <th>CryoSleep</th>\n",
       "      <th>Cabin</th>\n",
       "      <th>Destination</th>\n",
       "      <th>Age</th>\n",
       "      <th>VIP</th>\n",
       "      <th>RoomService</th>\n",
       "      <th>FoodCourt</th>\n",
       "      <th>ShoppingMall</th>\n",
       "      <th>Spa</th>\n",
       "      <th>VRDeck</th>\n",
       "      <th>Name</th>\n",
       "    </tr>\n",
       "  </thead>\n",
       "  <tbody>\n",
       "    <tr>\n",
       "      <th>1459</th>\n",
       "      <td>3129_01</td>\n",
       "      <td>Earth</td>\n",
       "      <td>False</td>\n",
       "      <td>E/205/S</td>\n",
       "      <td>TRAPPIST-1e</td>\n",
       "      <td>20.0</td>\n",
       "      <td>False</td>\n",
       "      <td>0.0</td>\n",
       "      <td>0.0</td>\n",
       "      <td>977.0</td>\n",
       "      <td>0.0</td>\n",
       "      <td>4.0</td>\n",
       "      <td>Eddiey Simpsonks</td>\n",
       "    </tr>\n",
       "    <tr>\n",
       "      <th>2248</th>\n",
       "      <td>4860_01</td>\n",
       "      <td>Earth</td>\n",
       "      <td>False</td>\n",
       "      <td>F/921/S</td>\n",
       "      <td>PSO J318.5-22</td>\n",
       "      <td>22.0</td>\n",
       "      <td>False</td>\n",
       "      <td>0.0</td>\n",
       "      <td>0.0</td>\n",
       "      <td>292.0</td>\n",
       "      <td>261.0</td>\n",
       "      <td>0.0</td>\n",
       "      <td>Matty Clean</td>\n",
       "    </tr>\n",
       "    <tr>\n",
       "      <th>2101</th>\n",
       "      <td>4551_03</td>\n",
       "      <td>Europa</td>\n",
       "      <td>True</td>\n",
       "      <td>C/166/S</td>\n",
       "      <td>55 Cancri e</td>\n",
       "      <td>28.0</td>\n",
       "      <td>False</td>\n",
       "      <td>0.0</td>\n",
       "      <td>0.0</td>\n",
       "      <td>0.0</td>\n",
       "      <td>0.0</td>\n",
       "      <td>0.0</td>\n",
       "      <td>Shellum Dedentive</td>\n",
       "    </tr>\n",
       "    <tr>\n",
       "      <th>2747</th>\n",
       "      <td>6063_01</td>\n",
       "      <td>Earth</td>\n",
       "      <td>True</td>\n",
       "      <td>G/983/P</td>\n",
       "      <td>55 Cancri e</td>\n",
       "      <td>13.0</td>\n",
       "      <td>False</td>\n",
       "      <td>0.0</td>\n",
       "      <td>0.0</td>\n",
       "      <td>0.0</td>\n",
       "      <td>0.0</td>\n",
       "      <td>0.0</td>\n",
       "      <td>Jamela Gainney</td>\n",
       "    </tr>\n",
       "    <tr>\n",
       "      <th>2927</th>\n",
       "      <td>6438_01</td>\n",
       "      <td>Europa</td>\n",
       "      <td>False</td>\n",
       "      <td>C/199/P</td>\n",
       "      <td>TRAPPIST-1e</td>\n",
       "      <td>60.0</td>\n",
       "      <td>False</td>\n",
       "      <td>0.0</td>\n",
       "      <td>60.0</td>\n",
       "      <td>0.0</td>\n",
       "      <td>4.0</td>\n",
       "      <td>3994.0</td>\n",
       "      <td>Phein Obnoble</td>\n",
       "    </tr>\n",
       "    <tr>\n",
       "      <th>...</th>\n",
       "      <td>...</td>\n",
       "      <td>...</td>\n",
       "      <td>...</td>\n",
       "      <td>...</td>\n",
       "      <td>...</td>\n",
       "      <td>...</td>\n",
       "      <td>...</td>\n",
       "      <td>...</td>\n",
       "      <td>...</td>\n",
       "      <td>...</td>\n",
       "      <td>...</td>\n",
       "      <td>...</td>\n",
       "      <td>...</td>\n",
       "    </tr>\n",
       "    <tr>\n",
       "      <th>1509</th>\n",
       "      <td>3249_01</td>\n",
       "      <td>Earth</td>\n",
       "      <td>False</td>\n",
       "      <td>F/678/P</td>\n",
       "      <td>TRAPPIST-1e</td>\n",
       "      <td>44.0</td>\n",
       "      <td>False</td>\n",
       "      <td>0.0</td>\n",
       "      <td>0.0</td>\n",
       "      <td>0.0</td>\n",
       "      <td>0.0</td>\n",
       "      <td>803.0</td>\n",
       "      <td>Jona Mcleandez</td>\n",
       "    </tr>\n",
       "    <tr>\n",
       "      <th>1298</th>\n",
       "      <td>2791_01</td>\n",
       "      <td>Earth</td>\n",
       "      <td>NaN</td>\n",
       "      <td>G/451/P</td>\n",
       "      <td>TRAPPIST-1e</td>\n",
       "      <td>45.0</td>\n",
       "      <td>False</td>\n",
       "      <td>545.0</td>\n",
       "      <td>63.0</td>\n",
       "      <td>38.0</td>\n",
       "      <td>3.0</td>\n",
       "      <td>369.0</td>\n",
       "      <td>Tance Strongers</td>\n",
       "    </tr>\n",
       "    <tr>\n",
       "      <th>252</th>\n",
       "      <td>0536_01</td>\n",
       "      <td>Mars</td>\n",
       "      <td>False</td>\n",
       "      <td>F/94/S</td>\n",
       "      <td>TRAPPIST-1e</td>\n",
       "      <td>15.0</td>\n",
       "      <td>False</td>\n",
       "      <td>4922.0</td>\n",
       "      <td>0.0</td>\n",
       "      <td>2427.0</td>\n",
       "      <td>0.0</td>\n",
       "      <td>0.0</td>\n",
       "      <td>Pid Vloaf</td>\n",
       "    </tr>\n",
       "    <tr>\n",
       "      <th>706</th>\n",
       "      <td>1466_01</td>\n",
       "      <td>Earth</td>\n",
       "      <td>True</td>\n",
       "      <td>G/225/S</td>\n",
       "      <td>TRAPPIST-1e</td>\n",
       "      <td>49.0</td>\n",
       "      <td>False</td>\n",
       "      <td>0.0</td>\n",
       "      <td>0.0</td>\n",
       "      <td>0.0</td>\n",
       "      <td>0.0</td>\n",
       "      <td>0.0</td>\n",
       "      <td>Doryn Raney</td>\n",
       "    </tr>\n",
       "    <tr>\n",
       "      <th>3984</th>\n",
       "      <td>8686_01</td>\n",
       "      <td>Europa</td>\n",
       "      <td>False</td>\n",
       "      <td>E/557/P</td>\n",
       "      <td>TRAPPIST-1e</td>\n",
       "      <td>35.0</td>\n",
       "      <td>False</td>\n",
       "      <td>21.0</td>\n",
       "      <td>5642.0</td>\n",
       "      <td>0.0</td>\n",
       "      <td>54.0</td>\n",
       "      <td>805.0</td>\n",
       "      <td>Algor Bradissive</td>\n",
       "    </tr>\n",
       "  </tbody>\n",
       "</table>\n",
       "<p>4277 rows × 13 columns</p>\n",
       "</div>"
      ],
      "text/plain": [
       "     PassengerId HomePlanet CryoSleep    Cabin    Destination   Age    VIP  \\\n",
       "1459     3129_01      Earth     False  E/205/S    TRAPPIST-1e  20.0  False   \n",
       "2248     4860_01      Earth     False  F/921/S  PSO J318.5-22  22.0  False   \n",
       "2101     4551_03     Europa      True  C/166/S    55 Cancri e  28.0  False   \n",
       "2747     6063_01      Earth      True  G/983/P    55 Cancri e  13.0  False   \n",
       "2927     6438_01     Europa     False  C/199/P    TRAPPIST-1e  60.0  False   \n",
       "...          ...        ...       ...      ...            ...   ...    ...   \n",
       "1509     3249_01      Earth     False  F/678/P    TRAPPIST-1e  44.0  False   \n",
       "1298     2791_01      Earth       NaN  G/451/P    TRAPPIST-1e  45.0  False   \n",
       "252      0536_01       Mars     False   F/94/S    TRAPPIST-1e  15.0  False   \n",
       "706      1466_01      Earth      True  G/225/S    TRAPPIST-1e  49.0  False   \n",
       "3984     8686_01     Europa     False  E/557/P    TRAPPIST-1e  35.0  False   \n",
       "\n",
       "      RoomService  FoodCourt  ShoppingMall    Spa  VRDeck               Name  \n",
       "1459          0.0        0.0         977.0    0.0     4.0   Eddiey Simpsonks  \n",
       "2248          0.0        0.0         292.0  261.0     0.0        Matty Clean  \n",
       "2101          0.0        0.0           0.0    0.0     0.0  Shellum Dedentive  \n",
       "2747          0.0        0.0           0.0    0.0     0.0     Jamela Gainney  \n",
       "2927          0.0       60.0           0.0    4.0  3994.0      Phein Obnoble  \n",
       "...           ...        ...           ...    ...     ...                ...  \n",
       "1509          0.0        0.0           0.0    0.0   803.0     Jona Mcleandez  \n",
       "1298        545.0       63.0          38.0    3.0   369.0    Tance Strongers  \n",
       "252        4922.0        0.0        2427.0    0.0     0.0          Pid Vloaf  \n",
       "706           0.0        0.0           0.0    0.0     0.0        Doryn Raney  \n",
       "3984         21.0     5642.0           0.0   54.0   805.0   Algor Bradissive  \n",
       "\n",
       "[4277 rows x 13 columns]"
      ]
     },
     "execution_count": 60,
     "metadata": {},
     "output_type": "execute_result"
    }
   ],
   "source": [
    "X_test = pd.read_csv(\"data/test.csv\")\n",
    "X_test = shuffle(X_test)\n",
    "\n",
    "# Convert the values of numeric column into absolute values\n",
    "X_test.loc[\n",
    "    :, [\"Age\", \"RoomService\", \"FoodCourt\", \"ShoppingMall\", \"Spa\", \"VRDeck\"]\n",
    "] = X_test.loc[\n",
    "    :, [\"Age\", \"RoomService\", \"FoodCourt\", \"ShoppingMall\", \"Spa\", \"VRDeck\"]\n",
    "].abs()\n",
    "X_test"
   ]
  },
  {
   "cell_type": "code",
   "execution_count": 61,
   "id": "c46932d4-1417-47f2-910f-a42c3cc95940",
   "metadata": {},
   "outputs": [
    {
     "name": "stdout",
     "output_type": "stream",
     "text": [
      "<class 'pandas.core.frame.DataFrame'>\n",
      "Int64Index: 4277 entries, 1459 to 3984\n",
      "Data columns (total 13 columns):\n",
      " #   Column        Non-Null Count  Dtype  \n",
      "---  ------        --------------  -----  \n",
      " 0   PassengerId   4277 non-null   object \n",
      " 1   HomePlanet    4190 non-null   object \n",
      " 2   CryoSleep     4184 non-null   object \n",
      " 3   Cabin         4177 non-null   object \n",
      " 4   Destination   4185 non-null   object \n",
      " 5   Age           4186 non-null   float64\n",
      " 6   VIP           4184 non-null   object \n",
      " 7   RoomService   4195 non-null   float64\n",
      " 8   FoodCourt     4171 non-null   float64\n",
      " 9   ShoppingMall  4179 non-null   float64\n",
      " 10  Spa           4176 non-null   float64\n",
      " 11  VRDeck        4197 non-null   float64\n",
      " 12  Name          4183 non-null   object \n",
      "dtypes: float64(6), object(7)\n",
      "memory usage: 467.8+ KB\n"
     ]
    }
   ],
   "source": [
    "X_test.info()"
   ]
  },
  {
   "cell_type": "code",
   "execution_count": 62,
   "id": "188c978d-b19f-47b9-accd-b0b2c5142a00",
   "metadata": {},
   "outputs": [
    {
     "data": {
      "text/plain": [
       "PassengerId     0.000000\n",
       "HomePlanet      0.020341\n",
       "CryoSleep       0.021744\n",
       "Cabin           0.023381\n",
       "Destination     0.021510\n",
       "Age             0.021277\n",
       "VIP             0.021744\n",
       "RoomService     0.019172\n",
       "FoodCourt       0.024784\n",
       "ShoppingMall    0.022913\n",
       "Spa             0.023615\n",
       "VRDeck          0.018705\n",
       "Name            0.021978\n",
       "dtype: float64"
      ]
     },
     "execution_count": 62,
     "metadata": {},
     "output_type": "execute_result"
    }
   ],
   "source": [
    "X_test.isna().sum()/4277"
   ]
  },
  {
   "cell_type": "markdown",
   "id": "800485c3-46d7-4102-bcf6-b520cf88f7a5",
   "metadata": {},
   "source": [
    "#### 2. Data Wrangling"
   ]
  },
  {
   "cell_type": "code",
   "execution_count": 63,
   "id": "c798ed34-83b0-4f83-8dbc-4648c256a085",
   "metadata": {},
   "outputs": [],
   "source": [
    "# Categorical variables\n",
    "X_test.loc[X_test[\"HomePlanet\"].isna(), \"HomePlanet\"] = \"unknown\"\n",
    "X_test.loc[X_test[\"CryoSleep\"].isna(), \"CryoSleep\"] = \"unknown\"\n",
    "X_test.loc[X_test[\"Destination\"].isna(), \"Destination\"] = \"unknown\"\n",
    "X_test.loc[X_test[\"VIP\"].isna(), \"VIP\"] = \"unknown\"\n",
    "\n",
    "# Cabin\n",
    "X_test[['Cabin_dec', 'Cabin_num', 'Cabin_side']] = X_test[\"Cabin\"].str.split(\"/\", expand=True)\n",
    "X_test.loc[X_test[\"Cabin_dec\"].isna(), \"Cabin_dec\"] = \"unknown\"\n",
    "X_test.loc[X_test[\"Cabin_side\"].isna(), \"Cabin_side\"] = \"unknown\"\n",
    "\n",
    "# Age\n",
    "X_test['Age_bin'] = pd.cut(\n",
    "    X_test['Age'], \n",
    "    bins=[-0.1, 12, 18, 30, 50, 66, 90], \n",
    "    labels=['Children', 'Teenage', '20s', '30-40s', '50-60s', 'Elder']\n",
    ")\n",
    "X_test[\"Age_bin\"] = (\n",
    "    X_test[\"Age_bin\"]\n",
    "    .cat\n",
    "    .add_categories('unknown')\n",
    "    .fillna('unknown')\n",
    ")\n",
    "\n",
    "# RoomService\n",
    "X_test['RoomService_bin'] = pd.cut(\n",
    "    X_test['RoomService'], \n",
    "    bins=[-0.1, 0.001, 100, 200, 400, 900, 2400, 15000], \n",
    "    labels=['RS$0', 'RS$0-100', 'RS$100-200', 'RS$200-400', 'RS$400-900', 'RS$900-2400', 'RS$2400-15000']\n",
    ")\n",
    "X_test[\"RoomService_bin\"] = (\n",
    "    X_test[\"RoomService_bin\"]\n",
    "    .cat\n",
    "    .add_categories('unknown')\n",
    "    .fillna('unknown')\n",
    ")\n",
    "\n",
    "# FoodCourt\n",
    "X_test['FoodCourt_bin'] = pd.cut(\n",
    "    X_test['FoodCourt'], \n",
    "    bins=[-0.1, 0.001, 100, 500, 900, 2000, 30000], \n",
    "    labels=['FC$0', 'FC$0-100', 'FC$100-500', 'FC$500-900', 'FC$900-2000', 'FC$2000-30000']\n",
    ")\n",
    "X_test[\"FoodCourt_bin\"] = (\n",
    "    X_test[\"FoodCourt_bin\"]\n",
    "    .cat\n",
    "    .add_categories('unknown')\n",
    "    .fillna('unknown')\n",
    ")\n",
    "\n",
    "# ShoppingMall\n",
    "X_test['ShoppingMall_bin'] = pd.cut(\n",
    "    X_test['ShoppingMall'], \n",
    "    bins=[-0.1, 0.001, 100, 200, 600, 1200, 2000, 30000], \n",
    "    labels=['SM$0', 'SM$0-100', 'SM$100-200', 'SM$200-600', 'SM$600-1200', 'SM$1200-2000', 'SM$2000-30000']\n",
    ")\n",
    "X_test[\"ShoppingMall_bin\"] = (\n",
    "    X_test[\"ShoppingMall_bin\"]\n",
    "    .cat\n",
    "    .add_categories('unknown')\n",
    "    .fillna('unknown')\n",
    ")\n",
    "\n",
    "# Spa\n",
    "X_test['Spa_bin'] = pd.cut(\n",
    "    X_test['Spa'], \n",
    "    bins=[-0.1, 0.001, 100, 200, 600, 1200, 2000, 30000], \n",
    "    labels=['Sp$0', 'Sp$0-100', 'Sp$100-200', 'Sp$200-600', 'Sp$600-1200', 'Sp$1200-2000', 'Sp$2000-30000']\n",
    ")\n",
    "X_test[\"Spa_bin\"] = (\n",
    "    X_test[\"Spa_bin\"]\n",
    "    .cat\n",
    "    .add_categories('unknown')\n",
    "    .fillna('unknown')\n",
    ")\n",
    "\n",
    "# VRDeck\n",
    "X_test['VRDeck_bin'] = pd.cut(\n",
    "    X_test['VRDeck'], \n",
    "    bins=[-0.1, 0.001, 100, 200, 600, 1000, 2000, 30000], \n",
    "    labels=['VR$0', 'VR$0-100', 'VR$100-200', 'VR$200-600', 'VR$600-1000', 'VR$1000-2000', 'VR$2000-30000']\n",
    ")\n",
    "X_test[\"VRDeck_bin\"] = (\n",
    "    X_test[\"VRDeck_bin\"]\n",
    "    .cat\n",
    "    .add_categories('unknown')\n",
    "    .fillna('unknown')\n",
    ")\n",
    "\n",
    "# Name\n",
    "X_test[['Name_first', 'Name_last']] = X_test[\"Name\"].str.split(\" \", expand=True)\n",
    "num_last_name = X_test[\"Name_last\"].value_counts()\n",
    "last_name_dict = dict(num_last_name)\n",
    "for name, num in last_name_dict.items():\n",
    "    X_test.loc[X_test[\"Name_last\"] == name, \"num_of_Name_last\"] = num\n",
    "\n",
    "X_test['num_of_Name_last'] = pd.cut(\n",
    "    X_test['num_of_Name_last'], \n",
    "    bins=[-100, 1.001, 15, 20], \n",
    "    labels=['fam1', 'fam2-15', 'fam15-20']\n",
    ")\n",
    "\n",
    "X_test[\"num_of_Name_last\"] = (\n",
    "    X_test[\"num_of_Name_last\"]\n",
    "    .cat\n",
    "    .add_categories('unknown')\n",
    "    .fillna('unknown')\n",
    ")\n",
    "\n",
    "# Change data type to prevent error\n",
    "X_test[\"HomePlanet\"] = X_test[\"HomePlanet\"].astype(str)\n",
    "X_test[\"CryoSleep\"] = X_test[\"CryoSleep\"].astype(str)\n",
    "X_test[\"Destination\"] = X_test[\"Destination\"].astype(str)\n",
    "X_test[\"VIP\"] = X_test[\"VIP\"].astype(str)\n",
    "X_test[\"Cabin_dec\"] = X_test[\"Cabin_dec\"].astype(str)\n",
    "X_test[\"Cabin_side\"] = X_test[\"Cabin_side\"].astype(str)"
   ]
  },
  {
   "cell_type": "code",
   "execution_count": 64,
   "id": "7f8507a2-fa41-4fba-9044-0cfd883e64ee",
   "metadata": {},
   "outputs": [
    {
     "data": {
      "text/html": [
       "<div>\n",
       "<style scoped>\n",
       "    .dataframe tbody tr th:only-of-type {\n",
       "        vertical-align: middle;\n",
       "    }\n",
       "\n",
       "    .dataframe tbody tr th {\n",
       "        vertical-align: top;\n",
       "    }\n",
       "\n",
       "    .dataframe thead th {\n",
       "        text-align: right;\n",
       "    }\n",
       "</style>\n",
       "<table border=\"1\" class=\"dataframe\">\n",
       "  <thead>\n",
       "    <tr style=\"text-align: right;\">\n",
       "      <th></th>\n",
       "      <th>PassengerId</th>\n",
       "      <th>HomePlanet</th>\n",
       "      <th>CryoSleep</th>\n",
       "      <th>Cabin</th>\n",
       "      <th>Destination</th>\n",
       "      <th>Age</th>\n",
       "      <th>VIP</th>\n",
       "      <th>RoomService</th>\n",
       "      <th>FoodCourt</th>\n",
       "      <th>ShoppingMall</th>\n",
       "      <th>...</th>\n",
       "      <th>Cabin_side</th>\n",
       "      <th>Age_bin</th>\n",
       "      <th>RoomService_bin</th>\n",
       "      <th>FoodCourt_bin</th>\n",
       "      <th>ShoppingMall_bin</th>\n",
       "      <th>Spa_bin</th>\n",
       "      <th>VRDeck_bin</th>\n",
       "      <th>Name_first</th>\n",
       "      <th>Name_last</th>\n",
       "      <th>num_of_Name_last</th>\n",
       "    </tr>\n",
       "  </thead>\n",
       "  <tbody>\n",
       "    <tr>\n",
       "      <th>1459</th>\n",
       "      <td>3129_01</td>\n",
       "      <td>Earth</td>\n",
       "      <td>False</td>\n",
       "      <td>E/205/S</td>\n",
       "      <td>TRAPPIST-1e</td>\n",
       "      <td>20.0</td>\n",
       "      <td>False</td>\n",
       "      <td>0.0</td>\n",
       "      <td>0.0</td>\n",
       "      <td>977.0</td>\n",
       "      <td>...</td>\n",
       "      <td>S</td>\n",
       "      <td>20s</td>\n",
       "      <td>RS$0</td>\n",
       "      <td>FC$0</td>\n",
       "      <td>SM$600-1200</td>\n",
       "      <td>Sp$0</td>\n",
       "      <td>VR$0-100</td>\n",
       "      <td>Eddiey</td>\n",
       "      <td>Simpsonks</td>\n",
       "      <td>fam2-15</td>\n",
       "    </tr>\n",
       "    <tr>\n",
       "      <th>2248</th>\n",
       "      <td>4860_01</td>\n",
       "      <td>Earth</td>\n",
       "      <td>False</td>\n",
       "      <td>F/921/S</td>\n",
       "      <td>PSO J318.5-22</td>\n",
       "      <td>22.0</td>\n",
       "      <td>False</td>\n",
       "      <td>0.0</td>\n",
       "      <td>0.0</td>\n",
       "      <td>292.0</td>\n",
       "      <td>...</td>\n",
       "      <td>S</td>\n",
       "      <td>20s</td>\n",
       "      <td>RS$0</td>\n",
       "      <td>FC$0</td>\n",
       "      <td>SM$200-600</td>\n",
       "      <td>Sp$200-600</td>\n",
       "      <td>VR$0</td>\n",
       "      <td>Matty</td>\n",
       "      <td>Clean</td>\n",
       "      <td>fam2-15</td>\n",
       "    </tr>\n",
       "    <tr>\n",
       "      <th>2101</th>\n",
       "      <td>4551_03</td>\n",
       "      <td>Europa</td>\n",
       "      <td>True</td>\n",
       "      <td>C/166/S</td>\n",
       "      <td>55 Cancri e</td>\n",
       "      <td>28.0</td>\n",
       "      <td>False</td>\n",
       "      <td>0.0</td>\n",
       "      <td>0.0</td>\n",
       "      <td>0.0</td>\n",
       "      <td>...</td>\n",
       "      <td>S</td>\n",
       "      <td>20s</td>\n",
       "      <td>RS$0</td>\n",
       "      <td>FC$0</td>\n",
       "      <td>SM$0</td>\n",
       "      <td>Sp$0</td>\n",
       "      <td>VR$0</td>\n",
       "      <td>Shellum</td>\n",
       "      <td>Dedentive</td>\n",
       "      <td>fam2-15</td>\n",
       "    </tr>\n",
       "    <tr>\n",
       "      <th>2747</th>\n",
       "      <td>6063_01</td>\n",
       "      <td>Earth</td>\n",
       "      <td>True</td>\n",
       "      <td>G/983/P</td>\n",
       "      <td>55 Cancri e</td>\n",
       "      <td>13.0</td>\n",
       "      <td>False</td>\n",
       "      <td>0.0</td>\n",
       "      <td>0.0</td>\n",
       "      <td>0.0</td>\n",
       "      <td>...</td>\n",
       "      <td>P</td>\n",
       "      <td>Teenage</td>\n",
       "      <td>RS$0</td>\n",
       "      <td>FC$0</td>\n",
       "      <td>SM$0</td>\n",
       "      <td>Sp$0</td>\n",
       "      <td>VR$0</td>\n",
       "      <td>Jamela</td>\n",
       "      <td>Gainney</td>\n",
       "      <td>fam1</td>\n",
       "    </tr>\n",
       "    <tr>\n",
       "      <th>2927</th>\n",
       "      <td>6438_01</td>\n",
       "      <td>Europa</td>\n",
       "      <td>False</td>\n",
       "      <td>C/199/P</td>\n",
       "      <td>TRAPPIST-1e</td>\n",
       "      <td>60.0</td>\n",
       "      <td>False</td>\n",
       "      <td>0.0</td>\n",
       "      <td>60.0</td>\n",
       "      <td>0.0</td>\n",
       "      <td>...</td>\n",
       "      <td>P</td>\n",
       "      <td>50-60s</td>\n",
       "      <td>RS$0</td>\n",
       "      <td>FC$0-100</td>\n",
       "      <td>SM$0</td>\n",
       "      <td>Sp$0-100</td>\n",
       "      <td>VR$2000-30000</td>\n",
       "      <td>Phein</td>\n",
       "      <td>Obnoble</td>\n",
       "      <td>fam1</td>\n",
       "    </tr>\n",
       "    <tr>\n",
       "      <th>...</th>\n",
       "      <td>...</td>\n",
       "      <td>...</td>\n",
       "      <td>...</td>\n",
       "      <td>...</td>\n",
       "      <td>...</td>\n",
       "      <td>...</td>\n",
       "      <td>...</td>\n",
       "      <td>...</td>\n",
       "      <td>...</td>\n",
       "      <td>...</td>\n",
       "      <td>...</td>\n",
       "      <td>...</td>\n",
       "      <td>...</td>\n",
       "      <td>...</td>\n",
       "      <td>...</td>\n",
       "      <td>...</td>\n",
       "      <td>...</td>\n",
       "      <td>...</td>\n",
       "      <td>...</td>\n",
       "      <td>...</td>\n",
       "      <td>...</td>\n",
       "    </tr>\n",
       "    <tr>\n",
       "      <th>1509</th>\n",
       "      <td>3249_01</td>\n",
       "      <td>Earth</td>\n",
       "      <td>False</td>\n",
       "      <td>F/678/P</td>\n",
       "      <td>TRAPPIST-1e</td>\n",
       "      <td>44.0</td>\n",
       "      <td>False</td>\n",
       "      <td>0.0</td>\n",
       "      <td>0.0</td>\n",
       "      <td>0.0</td>\n",
       "      <td>...</td>\n",
       "      <td>P</td>\n",
       "      <td>30-40s</td>\n",
       "      <td>RS$0</td>\n",
       "      <td>FC$0</td>\n",
       "      <td>SM$0</td>\n",
       "      <td>Sp$0</td>\n",
       "      <td>VR$600-1000</td>\n",
       "      <td>Jona</td>\n",
       "      <td>Mcleandez</td>\n",
       "      <td>fam2-15</td>\n",
       "    </tr>\n",
       "    <tr>\n",
       "      <th>1298</th>\n",
       "      <td>2791_01</td>\n",
       "      <td>Earth</td>\n",
       "      <td>unknown</td>\n",
       "      <td>G/451/P</td>\n",
       "      <td>TRAPPIST-1e</td>\n",
       "      <td>45.0</td>\n",
       "      <td>False</td>\n",
       "      <td>545.0</td>\n",
       "      <td>63.0</td>\n",
       "      <td>38.0</td>\n",
       "      <td>...</td>\n",
       "      <td>P</td>\n",
       "      <td>30-40s</td>\n",
       "      <td>RS$400-900</td>\n",
       "      <td>FC$0-100</td>\n",
       "      <td>SM$0-100</td>\n",
       "      <td>Sp$0-100</td>\n",
       "      <td>VR$200-600</td>\n",
       "      <td>Tance</td>\n",
       "      <td>Strongers</td>\n",
       "      <td>fam2-15</td>\n",
       "    </tr>\n",
       "    <tr>\n",
       "      <th>252</th>\n",
       "      <td>0536_01</td>\n",
       "      <td>Mars</td>\n",
       "      <td>False</td>\n",
       "      <td>F/94/S</td>\n",
       "      <td>TRAPPIST-1e</td>\n",
       "      <td>15.0</td>\n",
       "      <td>False</td>\n",
       "      <td>4922.0</td>\n",
       "      <td>0.0</td>\n",
       "      <td>2427.0</td>\n",
       "      <td>...</td>\n",
       "      <td>S</td>\n",
       "      <td>Teenage</td>\n",
       "      <td>RS$2400-15000</td>\n",
       "      <td>FC$0</td>\n",
       "      <td>SM$2000-30000</td>\n",
       "      <td>Sp$0</td>\n",
       "      <td>VR$0</td>\n",
       "      <td>Pid</td>\n",
       "      <td>Vloaf</td>\n",
       "      <td>fam2-15</td>\n",
       "    </tr>\n",
       "    <tr>\n",
       "      <th>706</th>\n",
       "      <td>1466_01</td>\n",
       "      <td>Earth</td>\n",
       "      <td>True</td>\n",
       "      <td>G/225/S</td>\n",
       "      <td>TRAPPIST-1e</td>\n",
       "      <td>49.0</td>\n",
       "      <td>False</td>\n",
       "      <td>0.0</td>\n",
       "      <td>0.0</td>\n",
       "      <td>0.0</td>\n",
       "      <td>...</td>\n",
       "      <td>S</td>\n",
       "      <td>30-40s</td>\n",
       "      <td>RS$0</td>\n",
       "      <td>FC$0</td>\n",
       "      <td>SM$0</td>\n",
       "      <td>Sp$0</td>\n",
       "      <td>VR$0</td>\n",
       "      <td>Doryn</td>\n",
       "      <td>Raney</td>\n",
       "      <td>fam2-15</td>\n",
       "    </tr>\n",
       "    <tr>\n",
       "      <th>3984</th>\n",
       "      <td>8686_01</td>\n",
       "      <td>Europa</td>\n",
       "      <td>False</td>\n",
       "      <td>E/557/P</td>\n",
       "      <td>TRAPPIST-1e</td>\n",
       "      <td>35.0</td>\n",
       "      <td>False</td>\n",
       "      <td>21.0</td>\n",
       "      <td>5642.0</td>\n",
       "      <td>0.0</td>\n",
       "      <td>...</td>\n",
       "      <td>P</td>\n",
       "      <td>30-40s</td>\n",
       "      <td>RS$0-100</td>\n",
       "      <td>FC$2000-30000</td>\n",
       "      <td>SM$0</td>\n",
       "      <td>Sp$0-100</td>\n",
       "      <td>VR$600-1000</td>\n",
       "      <td>Algor</td>\n",
       "      <td>Bradissive</td>\n",
       "      <td>fam2-15</td>\n",
       "    </tr>\n",
       "  </tbody>\n",
       "</table>\n",
       "<p>4277 rows × 25 columns</p>\n",
       "</div>"
      ],
      "text/plain": [
       "     PassengerId HomePlanet CryoSleep    Cabin    Destination   Age    VIP  \\\n",
       "1459     3129_01      Earth     False  E/205/S    TRAPPIST-1e  20.0  False   \n",
       "2248     4860_01      Earth     False  F/921/S  PSO J318.5-22  22.0  False   \n",
       "2101     4551_03     Europa      True  C/166/S    55 Cancri e  28.0  False   \n",
       "2747     6063_01      Earth      True  G/983/P    55 Cancri e  13.0  False   \n",
       "2927     6438_01     Europa     False  C/199/P    TRAPPIST-1e  60.0  False   \n",
       "...          ...        ...       ...      ...            ...   ...    ...   \n",
       "1509     3249_01      Earth     False  F/678/P    TRAPPIST-1e  44.0  False   \n",
       "1298     2791_01      Earth   unknown  G/451/P    TRAPPIST-1e  45.0  False   \n",
       "252      0536_01       Mars     False   F/94/S    TRAPPIST-1e  15.0  False   \n",
       "706      1466_01      Earth      True  G/225/S    TRAPPIST-1e  49.0  False   \n",
       "3984     8686_01     Europa     False  E/557/P    TRAPPIST-1e  35.0  False   \n",
       "\n",
       "      RoomService  FoodCourt  ShoppingMall  ...  Cabin_side  Age_bin  \\\n",
       "1459          0.0        0.0         977.0  ...           S      20s   \n",
       "2248          0.0        0.0         292.0  ...           S      20s   \n",
       "2101          0.0        0.0           0.0  ...           S      20s   \n",
       "2747          0.0        0.0           0.0  ...           P  Teenage   \n",
       "2927          0.0       60.0           0.0  ...           P   50-60s   \n",
       "...           ...        ...           ...  ...         ...      ...   \n",
       "1509          0.0        0.0           0.0  ...           P   30-40s   \n",
       "1298        545.0       63.0          38.0  ...           P   30-40s   \n",
       "252        4922.0        0.0        2427.0  ...           S  Teenage   \n",
       "706           0.0        0.0           0.0  ...           S   30-40s   \n",
       "3984         21.0     5642.0           0.0  ...           P   30-40s   \n",
       "\n",
       "     RoomService_bin  FoodCourt_bin ShoppingMall_bin     Spa_bin  \\\n",
       "1459            RS$0           FC$0      SM$600-1200        Sp$0   \n",
       "2248            RS$0           FC$0       SM$200-600  Sp$200-600   \n",
       "2101            RS$0           FC$0             SM$0        Sp$0   \n",
       "2747            RS$0           FC$0             SM$0        Sp$0   \n",
       "2927            RS$0       FC$0-100             SM$0    Sp$0-100   \n",
       "...              ...            ...              ...         ...   \n",
       "1509            RS$0           FC$0             SM$0        Sp$0   \n",
       "1298      RS$400-900       FC$0-100         SM$0-100    Sp$0-100   \n",
       "252    RS$2400-15000           FC$0    SM$2000-30000        Sp$0   \n",
       "706             RS$0           FC$0             SM$0        Sp$0   \n",
       "3984        RS$0-100  FC$2000-30000             SM$0    Sp$0-100   \n",
       "\n",
       "         VRDeck_bin Name_first   Name_last num_of_Name_last  \n",
       "1459       VR$0-100     Eddiey   Simpsonks          fam2-15  \n",
       "2248           VR$0      Matty       Clean          fam2-15  \n",
       "2101           VR$0    Shellum   Dedentive          fam2-15  \n",
       "2747           VR$0     Jamela     Gainney             fam1  \n",
       "2927  VR$2000-30000      Phein     Obnoble             fam1  \n",
       "...             ...        ...         ...              ...  \n",
       "1509    VR$600-1000       Jona   Mcleandez          fam2-15  \n",
       "1298     VR$200-600      Tance   Strongers          fam2-15  \n",
       "252            VR$0        Pid       Vloaf          fam2-15  \n",
       "706            VR$0      Doryn       Raney          fam2-15  \n",
       "3984    VR$600-1000      Algor  Bradissive          fam2-15  \n",
       "\n",
       "[4277 rows x 25 columns]"
      ]
     },
     "execution_count": 64,
     "metadata": {},
     "output_type": "execute_result"
    }
   ],
   "source": [
    "X_test"
   ]
  },
  {
   "cell_type": "code",
   "execution_count": 65,
   "id": "7f3a6128-d6cf-4073-8698-868df1e1f682",
   "metadata": {},
   "outputs": [],
   "source": [
    "prediction = {}"
   ]
  },
  {
   "cell_type": "code",
   "execution_count": 66,
   "id": "3da9237e-30c5-4b73-a711-f16e4a0dd759",
   "metadata": {},
   "outputs": [
    {
     "name": "stderr",
     "output_type": "stream",
     "text": [
      "C:\\Users\\johnw\\miniconda3\\envs\\573\\lib\\site-packages\\xgboost\\sklearn.py:888: UserWarning: The use of label encoder in XGBClassifier is deprecated and will be removed in a future release. To remove this warning, do the following: 1) Pass option use_label_encoder=False when constructing XGBClassifier object; and 2) Encode your labels (y) as integers starting with 0, i.e. 0, 1, 2, ..., [num_class - 1].\n",
      "  warnings.warn(label_encoder_deprecation_msg, UserWarning)\n"
     ]
    }
   ],
   "source": [
    "for (name, model) in models.items():\n",
    "    model.fit(X_train, y_train)\n",
    "    prediction[name] = model.predict(X_test)"
   ]
  },
  {
   "cell_type": "code",
   "execution_count": 67,
   "id": "5edcf53b-2372-4133-939b-2a4c325a94df",
   "metadata": {},
   "outputs": [],
   "source": [
    "predictions = pd.DataFrame(prediction).astype(bool)"
   ]
  },
  {
   "cell_type": "code",
   "execution_count": 68,
   "id": "c104ac19-97ce-4cc2-a295-3d3b9f27cfec",
   "metadata": {},
   "outputs": [],
   "source": [
    "for name in models.keys():\n",
    "    temp_df = X_test\n",
    "    temp_df[\"Transported\"] = predictions[name]\n",
    "    temp_df = temp_df.loc[:, [\"PassengerId\", \"Transported\"]]\n",
    "    temp_df.to_csv(f\"spaceship_titanic_220403_{name}.csv\", encoding='utf-8', index=False)"
   ]
  },
  {
   "cell_type": "code",
   "execution_count": null,
   "id": "ec2955d3-b9cb-4655-95fd-9f382d04b21c",
   "metadata": {},
   "outputs": [],
   "source": []
  }
 ],
 "metadata": {
  "kernelspec": {
   "display_name": "Python [conda env:573]",
   "language": "python",
   "name": "conda-env-573-py"
  },
  "language_info": {
   "codemirror_mode": {
    "name": "ipython",
    "version": 3
   },
   "file_extension": ".py",
   "mimetype": "text/x-python",
   "name": "python",
   "nbconvert_exporter": "python",
   "pygments_lexer": "ipython3",
   "version": "3.9.7"
  }
 },
 "nbformat": 4,
 "nbformat_minor": 5
}
