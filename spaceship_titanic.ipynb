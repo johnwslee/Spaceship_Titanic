{
 "cells": [
  {
   "cell_type": "markdown",
   "id": "7da974ed-e318-4cd0-b440-4bac3f6f0c3c",
   "metadata": {},
   "source": [
    "# Imports"
   ]
  },
  {
   "cell_type": "code",
   "execution_count": 1,
   "id": "6a8c4939-a921-4cb2-914a-b693996d20b6",
   "metadata": {},
   "outputs": [],
   "source": [
    "import string\n",
    "import sys\n",
    "from collections import deque\n",
    "\n",
    "import pandas as pd\n",
    "import numpy as np\n",
    "import altair as alt\n",
    "alt.renderers.enable('mimetype')\n",
    "alt.data_transformers.enable('data_server')\n",
    "\n",
    "from sklearn import datasets\n",
    "from sklearn.compose import ColumnTransformer, make_column_transformer\n",
    "from sklearn.dummy import DummyClassifier, DummyRegressor\n",
    "from sklearn.ensemble import RandomForestClassifier, RandomForestRegressor\n",
    "from sklearn.impute import SimpleImputer\n",
    "from sklearn.linear_model import LogisticRegression, Ridge\n",
    "from sklearn.model_selection import (\n",
    "    GridSearchCV,\n",
    "    RandomizedSearchCV,\n",
    "    cross_val_score,\n",
    "    cross_validate,\n",
    "    train_test_split,\n",
    ")\n",
    "from sklearn.feature_extraction.text import CountVectorizer\n",
    "from sklearn.pipeline import Pipeline, make_pipeline\n",
    "from sklearn.preprocessing import OneHotEncoder, OrdinalEncoder, StandardScaler\n",
    "from sklearn.svm import SVC, SVR\n",
    "from sklearn.tree import DecisionTreeClassifier, DecisionTreeRegressor\n",
    "import warnings\n",
    "\n",
    "from catboost import CatBoostClassifier, CatBoostRegressor\n",
    "from lightgbm.sklearn import LGBMClassifier, LGBMRegressor\n",
    "from xgboost import XGBClassifier, XGBRegressor\n",
    "\n",
    "from sklearn.utils import shuffle\n",
    "\n",
    "import kaggle\n",
    "\n",
    "warnings.simplefilter(action=\"ignore\", category=FutureWarning)"
   ]
  },
  {
   "cell_type": "code",
   "execution_count": 2,
   "id": "91746353-7af2-4a79-a45e-10a746fb5d1f",
   "metadata": {},
   "outputs": [],
   "source": [
    "def mean_std_cross_val_scores(model, X_train, y_train, **kwargs):\n",
    "    \"\"\"\n",
    "    Returns mean and std of cross validation\n",
    "\n",
    "    Parameters\n",
    "    ----------\n",
    "    model :\n",
    "        scikit-learn model\n",
    "    X_train : numpy array or pandas DataFrame\n",
    "        X in the training data\n",
    "    y_train :\n",
    "        y in the training data\n",
    "\n",
    "    Returns\n",
    "    ----------\n",
    "        pandas Series with mean scores from cross_validation\n",
    "    \"\"\"\n",
    "\n",
    "    scores = cross_validate(model, X_train, y_train, **kwargs)\n",
    "\n",
    "    mean_scores = pd.DataFrame(scores).mean()\n",
    "    std_scores = pd.DataFrame(scores).std()\n",
    "    out_col = []\n",
    "\n",
    "    for i in range(len(mean_scores)):\n",
    "        out_col.append((f\"%0.3f (+/- %0.3f)\" % (mean_scores[i], std_scores[i])))\n",
    "\n",
    "    return pd.Series(data=out_col, index=mean_scores.index)"
   ]
  },
  {
   "cell_type": "code",
   "execution_count": null,
   "id": "bef166db-8417-4d7d-a2aa-1e12a066f9e2",
   "metadata": {},
   "outputs": [],
   "source": []
  },
  {
   "cell_type": "markdown",
   "id": "cbcba383-b7c4-4c9e-88d2-58497492f73b",
   "metadata": {},
   "source": [
    "# Basic Data Analysis"
   ]
  },
  {
   "cell_type": "code",
   "execution_count": 3,
   "id": "26bba595-2525-4c20-905c-267a9bba647d",
   "metadata": {},
   "outputs": [
    {
     "data": {
      "text/html": [
       "<div>\n",
       "<style scoped>\n",
       "    .dataframe tbody tr th:only-of-type {\n",
       "        vertical-align: middle;\n",
       "    }\n",
       "\n",
       "    .dataframe tbody tr th {\n",
       "        vertical-align: top;\n",
       "    }\n",
       "\n",
       "    .dataframe thead th {\n",
       "        text-align: right;\n",
       "    }\n",
       "</style>\n",
       "<table border=\"1\" class=\"dataframe\">\n",
       "  <thead>\n",
       "    <tr style=\"text-align: right;\">\n",
       "      <th></th>\n",
       "      <th>HomePlanet</th>\n",
       "      <th>CryoSleep</th>\n",
       "      <th>Cabin</th>\n",
       "      <th>Destination</th>\n",
       "      <th>Age</th>\n",
       "      <th>VIP</th>\n",
       "      <th>RoomService</th>\n",
       "      <th>FoodCourt</th>\n",
       "      <th>ShoppingMall</th>\n",
       "      <th>Spa</th>\n",
       "      <th>VRDeck</th>\n",
       "      <th>Name</th>\n",
       "      <th>Transported</th>\n",
       "    </tr>\n",
       "    <tr>\n",
       "      <th>PassengerId</th>\n",
       "      <th></th>\n",
       "      <th></th>\n",
       "      <th></th>\n",
       "      <th></th>\n",
       "      <th></th>\n",
       "      <th></th>\n",
       "      <th></th>\n",
       "      <th></th>\n",
       "      <th></th>\n",
       "      <th></th>\n",
       "      <th></th>\n",
       "      <th></th>\n",
       "      <th></th>\n",
       "    </tr>\n",
       "  </thead>\n",
       "  <tbody>\n",
       "    <tr>\n",
       "      <th>4864_01</th>\n",
       "      <td>Earth</td>\n",
       "      <td>False</td>\n",
       "      <td>G/784/P</td>\n",
       "      <td>55 Cancri e</td>\n",
       "      <td>24.0</td>\n",
       "      <td>False</td>\n",
       "      <td>0.0</td>\n",
       "      <td>0.0</td>\n",
       "      <td>0.0</td>\n",
       "      <td>734.0</td>\n",
       "      <td>21.0</td>\n",
       "      <td>NaN</td>\n",
       "      <td>False</td>\n",
       "    </tr>\n",
       "    <tr>\n",
       "      <th>1130_01</th>\n",
       "      <td>Mars</td>\n",
       "      <td>True</td>\n",
       "      <td>E/81/S</td>\n",
       "      <td>TRAPPIST-1e</td>\n",
       "      <td>23.0</td>\n",
       "      <td>False</td>\n",
       "      <td>NaN</td>\n",
       "      <td>0.0</td>\n",
       "      <td>0.0</td>\n",
       "      <td>0.0</td>\n",
       "      <td>0.0</td>\n",
       "      <td>Guaney Cako</td>\n",
       "      <td>False</td>\n",
       "    </tr>\n",
       "    <tr>\n",
       "      <th>7630_01</th>\n",
       "      <td>Earth</td>\n",
       "      <td>False</td>\n",
       "      <td>F/1585/P</td>\n",
       "      <td>55 Cancri e</td>\n",
       "      <td>48.0</td>\n",
       "      <td>False</td>\n",
       "      <td>0.0</td>\n",
       "      <td>172.0</td>\n",
       "      <td>115.0</td>\n",
       "      <td>1.0</td>\n",
       "      <td>645.0</td>\n",
       "      <td>Estina Hughriend</td>\n",
       "      <td>False</td>\n",
       "    </tr>\n",
       "    <tr>\n",
       "      <th>2687_01</th>\n",
       "      <td>Earth</td>\n",
       "      <td>False</td>\n",
       "      <td>F/556/P</td>\n",
       "      <td>TRAPPIST-1e</td>\n",
       "      <td>51.0</td>\n",
       "      <td>False</td>\n",
       "      <td>0.0</td>\n",
       "      <td>1347.0</td>\n",
       "      <td>0.0</td>\n",
       "      <td>43.0</td>\n",
       "      <td>0.0</td>\n",
       "      <td>Carry Kimons</td>\n",
       "      <td>True</td>\n",
       "    </tr>\n",
       "    <tr>\n",
       "      <th>6810_03</th>\n",
       "      <td>Mars</td>\n",
       "      <td>True</td>\n",
       "      <td>NaN</td>\n",
       "      <td>TRAPPIST-1e</td>\n",
       "      <td>16.0</td>\n",
       "      <td>False</td>\n",
       "      <td>NaN</td>\n",
       "      <td>0.0</td>\n",
       "      <td>0.0</td>\n",
       "      <td>0.0</td>\n",
       "      <td>0.0</td>\n",
       "      <td>Cings Knik</td>\n",
       "      <td>True</td>\n",
       "    </tr>\n",
       "    <tr>\n",
       "      <th>...</th>\n",
       "      <td>...</td>\n",
       "      <td>...</td>\n",
       "      <td>...</td>\n",
       "      <td>...</td>\n",
       "      <td>...</td>\n",
       "      <td>...</td>\n",
       "      <td>...</td>\n",
       "      <td>...</td>\n",
       "      <td>...</td>\n",
       "      <td>...</td>\n",
       "      <td>...</td>\n",
       "      <td>...</td>\n",
       "      <td>...</td>\n",
       "    </tr>\n",
       "    <tr>\n",
       "      <th>7507_01</th>\n",
       "      <td>Earth</td>\n",
       "      <td>False</td>\n",
       "      <td>E/499/S</td>\n",
       "      <td>TRAPPIST-1e</td>\n",
       "      <td>19.0</td>\n",
       "      <td>False</td>\n",
       "      <td>0.0</td>\n",
       "      <td>789.0</td>\n",
       "      <td>0.0</td>\n",
       "      <td>0.0</td>\n",
       "      <td>0.0</td>\n",
       "      <td>Marlly Santin</td>\n",
       "      <td>False</td>\n",
       "    </tr>\n",
       "    <tr>\n",
       "      <th>5366_01</th>\n",
       "      <td>Europa</td>\n",
       "      <td>True</td>\n",
       "      <td>E/338/P</td>\n",
       "      <td>TRAPPIST-1e</td>\n",
       "      <td>31.0</td>\n",
       "      <td>False</td>\n",
       "      <td>0.0</td>\n",
       "      <td>0.0</td>\n",
       "      <td>0.0</td>\n",
       "      <td>0.0</td>\n",
       "      <td>0.0</td>\n",
       "      <td>Asellan Calved</td>\n",
       "      <td>True</td>\n",
       "    </tr>\n",
       "    <tr>\n",
       "      <th>1013_01</th>\n",
       "      <td>Earth</td>\n",
       "      <td>True</td>\n",
       "      <td>G/158/S</td>\n",
       "      <td>TRAPPIST-1e</td>\n",
       "      <td>29.0</td>\n",
       "      <td>False</td>\n",
       "      <td>0.0</td>\n",
       "      <td>0.0</td>\n",
       "      <td>0.0</td>\n",
       "      <td>0.0</td>\n",
       "      <td>0.0</td>\n",
       "      <td>Weslie Farleyatton</td>\n",
       "      <td>False</td>\n",
       "    </tr>\n",
       "    <tr>\n",
       "      <th>8136_02</th>\n",
       "      <td>Europa</td>\n",
       "      <td>False</td>\n",
       "      <td>C/268/P</td>\n",
       "      <td>TRAPPIST-1e</td>\n",
       "      <td>60.0</td>\n",
       "      <td>False</td>\n",
       "      <td>0.0</td>\n",
       "      <td>5998.0</td>\n",
       "      <td>0.0</td>\n",
       "      <td>4794.0</td>\n",
       "      <td>8.0</td>\n",
       "      <td>Achium Inderad</td>\n",
       "      <td>False</td>\n",
       "    </tr>\n",
       "    <tr>\n",
       "      <th>2954_01</th>\n",
       "      <td>Earth</td>\n",
       "      <td>False</td>\n",
       "      <td>F/619/P</td>\n",
       "      <td>55 Cancri e</td>\n",
       "      <td>18.0</td>\n",
       "      <td>False</td>\n",
       "      <td>235.0</td>\n",
       "      <td>0.0</td>\n",
       "      <td>101.0</td>\n",
       "      <td>0.0</td>\n",
       "      <td>316.0</td>\n",
       "      <td>Karlie Gordanieves</td>\n",
       "      <td>True</td>\n",
       "    </tr>\n",
       "  </tbody>\n",
       "</table>\n",
       "<p>8693 rows × 13 columns</p>\n",
       "</div>"
      ],
      "text/plain": [
       "            HomePlanet CryoSleep     Cabin  Destination   Age    VIP  \\\n",
       "PassengerId                                                            \n",
       "4864_01          Earth     False   G/784/P  55 Cancri e  24.0  False   \n",
       "1130_01           Mars      True    E/81/S  TRAPPIST-1e  23.0  False   \n",
       "7630_01          Earth     False  F/1585/P  55 Cancri e  48.0  False   \n",
       "2687_01          Earth     False   F/556/P  TRAPPIST-1e  51.0  False   \n",
       "6810_03           Mars      True       NaN  TRAPPIST-1e  16.0  False   \n",
       "...                ...       ...       ...          ...   ...    ...   \n",
       "7507_01          Earth     False   E/499/S  TRAPPIST-1e  19.0  False   \n",
       "5366_01         Europa      True   E/338/P  TRAPPIST-1e  31.0  False   \n",
       "1013_01          Earth      True   G/158/S  TRAPPIST-1e  29.0  False   \n",
       "8136_02         Europa     False   C/268/P  TRAPPIST-1e  60.0  False   \n",
       "2954_01          Earth     False   F/619/P  55 Cancri e  18.0  False   \n",
       "\n",
       "             RoomService  FoodCourt  ShoppingMall     Spa  VRDeck  \\\n",
       "PassengerId                                                         \n",
       "4864_01              0.0        0.0           0.0   734.0    21.0   \n",
       "1130_01              NaN        0.0           0.0     0.0     0.0   \n",
       "7630_01              0.0      172.0         115.0     1.0   645.0   \n",
       "2687_01              0.0     1347.0           0.0    43.0     0.0   \n",
       "6810_03              NaN        0.0           0.0     0.0     0.0   \n",
       "...                  ...        ...           ...     ...     ...   \n",
       "7507_01              0.0      789.0           0.0     0.0     0.0   \n",
       "5366_01              0.0        0.0           0.0     0.0     0.0   \n",
       "1013_01              0.0        0.0           0.0     0.0     0.0   \n",
       "8136_02              0.0     5998.0           0.0  4794.0     8.0   \n",
       "2954_01            235.0        0.0         101.0     0.0   316.0   \n",
       "\n",
       "                           Name  Transported  \n",
       "PassengerId                                   \n",
       "4864_01                     NaN        False  \n",
       "1130_01             Guaney Cako        False  \n",
       "7630_01        Estina Hughriend        False  \n",
       "2687_01            Carry Kimons         True  \n",
       "6810_03              Cings Knik         True  \n",
       "...                         ...          ...  \n",
       "7507_01           Marlly Santin        False  \n",
       "5366_01          Asellan Calved         True  \n",
       "1013_01      Weslie Farleyatton        False  \n",
       "8136_02          Achium Inderad        False  \n",
       "2954_01      Karlie Gordanieves         True  \n",
       "\n",
       "[8693 rows x 13 columns]"
      ]
     },
     "execution_count": 3,
     "metadata": {},
     "output_type": "execute_result"
    }
   ],
   "source": [
    "train_df = pd.read_csv(\"data/train.csv\")\n",
    "train_df.set_index(\"PassengerId\", inplace=True)\n",
    "train_df = shuffle(train_df)\n",
    "train_df"
   ]
  },
  {
   "cell_type": "code",
   "execution_count": 4,
   "id": "1d9c2e3f-d7b0-49f0-8301-1392a6ecfd3a",
   "metadata": {},
   "outputs": [
    {
     "name": "stdout",
     "output_type": "stream",
     "text": [
      "<class 'pandas.core.frame.DataFrame'>\n",
      "Index: 8693 entries, 4864_01 to 2954_01\n",
      "Data columns (total 13 columns):\n",
      " #   Column        Non-Null Count  Dtype  \n",
      "---  ------        --------------  -----  \n",
      " 0   HomePlanet    8492 non-null   object \n",
      " 1   CryoSleep     8476 non-null   object \n",
      " 2   Cabin         8494 non-null   object \n",
      " 3   Destination   8511 non-null   object \n",
      " 4   Age           8514 non-null   float64\n",
      " 5   VIP           8490 non-null   object \n",
      " 6   RoomService   8512 non-null   float64\n",
      " 7   FoodCourt     8510 non-null   float64\n",
      " 8   ShoppingMall  8485 non-null   float64\n",
      " 9   Spa           8510 non-null   float64\n",
      " 10  VRDeck        8505 non-null   float64\n",
      " 11  Name          8493 non-null   object \n",
      " 12  Transported   8693 non-null   bool   \n",
      "dtypes: bool(1), float64(6), object(6)\n",
      "memory usage: 891.4+ KB\n"
     ]
    }
   ],
   "source": [
    "train_df.info()"
   ]
  },
  {
   "cell_type": "code",
   "execution_count": 5,
   "id": "c8badd66-327b-4ada-8180-335c57075273",
   "metadata": {},
   "outputs": [
    {
     "data": {
      "text/plain": [
       "HomePlanet      0.023122\n",
       "CryoSleep       0.024963\n",
       "Cabin           0.022892\n",
       "Destination     0.020936\n",
       "Age             0.020591\n",
       "VIP             0.023352\n",
       "RoomService     0.020821\n",
       "FoodCourt       0.021051\n",
       "ShoppingMall    0.023927\n",
       "Spa             0.021051\n",
       "VRDeck          0.021627\n",
       "Name            0.023007\n",
       "Transported     0.000000\n",
       "dtype: float64"
      ]
     },
     "execution_count": 5,
     "metadata": {},
     "output_type": "execute_result"
    }
   ],
   "source": [
    "train_df.isna().sum()/8693   # percentage of null"
   ]
  },
  {
   "cell_type": "code",
   "execution_count": 6,
   "id": "c79e6a61-ccf2-4113-8710-0d330dd3b881",
   "metadata": {},
   "outputs": [
    {
     "data": {
      "text/plain": [
       "HomePlanet         3\n",
       "CryoSleep          2\n",
       "Cabin           6560\n",
       "Destination        3\n",
       "Age               80\n",
       "VIP                2\n",
       "RoomService     1273\n",
       "FoodCourt       1507\n",
       "ShoppingMall    1115\n",
       "Spa             1327\n",
       "VRDeck          1306\n",
       "Name            8473\n",
       "Transported        2\n",
       "dtype: int64"
      ]
     },
     "execution_count": 6,
     "metadata": {},
     "output_type": "execute_result"
    }
   ],
   "source": [
    "train_df.nunique()"
   ]
  },
  {
   "cell_type": "code",
   "execution_count": 7,
   "id": "a30c6fdb-9974-40cc-a9d4-0bf8238f1e7b",
   "metadata": {},
   "outputs": [
    {
     "data": {
      "text/plain": [
       "0.0       5577\n",
       "1.0        117\n",
       "2.0         79\n",
       "3.0         61\n",
       "4.0         47\n",
       "          ... \n",
       "731.0        1\n",
       "1130.0       1\n",
       "813.0        1\n",
       "967.0        1\n",
       "303.0        1\n",
       "Name: RoomService, Length: 1273, dtype: int64"
      ]
     },
     "execution_count": 7,
     "metadata": {},
     "output_type": "execute_result"
    }
   ],
   "source": [
    "train_df[\"RoomService\"].value_counts()"
   ]
  },
  {
   "cell_type": "code",
   "execution_count": null,
   "id": "3f345728-6127-4786-adb1-8072e343fbc2",
   "metadata": {},
   "outputs": [],
   "source": []
  },
  {
   "cell_type": "code",
   "execution_count": null,
   "id": "101d1957-4074-441d-88db-b06424d3bd6e",
   "metadata": {},
   "outputs": [],
   "source": []
  },
  {
   "cell_type": "markdown",
   "id": "89d4d158-a5d8-474d-b57c-16ecc4a53f05",
   "metadata": {},
   "source": [
    "# Data Wrangling & EDA"
   ]
  },
  {
   "cell_type": "code",
   "execution_count": 8,
   "id": "46a29751-c200-4be7-83ec-9c9459b29067",
   "metadata": {},
   "outputs": [],
   "source": [
    "# 1. Create new columns for missing data\n",
    "\n",
    "train_df[\"HomePlanet_missing\"] = train_df[\"HomePlanet\"].isna()\n",
    "train_df[\"CryoSleep_missing\"] = train_df[\"CryoSleep\"].isna()\n",
    "train_df[\"Cabin_missing\"] = train_df[\"Cabin\"].isna()\n",
    "train_df[\"Destination_missing\"] = train_df[\"Destination\"].isna()\n",
    "train_df[\"Age_missing\"] = train_df[\"Age\"].isna()\n",
    "train_df[\"VIP_missing\"] = train_df[\"VIP\"].isna()\n",
    "train_df[\"RoomService_missing\"] = train_df[\"RoomService\"].isna()\n",
    "train_df[\"FoodCourt_missing\"] = train_df[\"FoodCourt\"].isna()\n",
    "train_df[\"ShoppingMall_missing\"] = train_df[\"ShoppingMall\"].isna()\n",
    "train_df[\"Spa_missing\"] = train_df[\"Spa\"].isna()\n",
    "train_df[\"VRDeck_missing\"] = train_df[\"VRDeck\"].isna()\n",
    "train_df[\"Name_missing\"] = train_df[\"Name\"].isna()"
   ]
  },
  {
   "cell_type": "code",
   "execution_count": 9,
   "id": "a5a3af9f-a78d-4a86-8c05-40257f1cae01",
   "metadata": {},
   "outputs": [
    {
     "data": {
      "application/vnd.vegalite.v4+json": {
       "$schema": "https://vega.github.io/schema/vega-lite/v4.8.1.json",
       "columns": 3,
       "config": {
        "view": {
         "continuousHeight": 300,
         "continuousWidth": 400
        }
       },
       "repeat": [
        "HomePlanet_missing",
        "CryoSleep_missing",
        "Cabin_missing",
        "Destination_missing",
        "Age_missing",
        "VIP_missing",
        "RoomService_missing",
        "FoodCourt_missing",
        "ShoppingMall_missing",
        "Spa_missing",
        "VRDeck_missing",
        "Name_missing"
       ],
       "spec": {
        "data": {
         "url": "http://localhost:17203/9a0d777c82a1e2664381763f4ec7e5f7.json"
        },
        "encoding": {
         "fill": {
          "field": "Transported",
          "type": "nominal"
         },
         "x": {
          "bin": {
           "maxbins": 2
          },
          "field": {
           "repeat": "repeat"
          },
          "type": "quantitative"
         },
         "y": {
          "aggregate": "count",
          "scale": {
           "domain": [
            0,
            250
           ]
          },
          "type": "quantitative"
         }
        },
        "height": 150,
        "mark": {
         "clip": true,
         "type": "bar"
        },
        "width": 200
       }
      },
      "image/png": "[encoded data removed]",
      "text/plain": [
       "<VegaLite 4 object>\n",
       "\n",
       "If you see this message, it means the renderer has not been properly enabled\n",
       "for the frontend that you are using. For more information, see\n",
       "https://altair-viz.github.io/user_guide/troubleshooting.html\n"
      ]
     },
     "execution_count": 9,
     "metadata": {},
     "output_type": "execute_result"
    }
   ],
   "source": [
    "# 2. EDA on missing items\n",
    "\n",
    "alt.Chart(train_df).mark_bar(clip=True).encode(\n",
    "    alt.X(alt.repeat(), type='quantitative', bin=alt.Bin(maxbins=2)),\n",
    "    alt.Y('count()', scale=alt.Scale(domain=(0, 250))),\n",
    "    fill='Transported'\n",
    ").properties(\n",
    "    width=200,\n",
    "    height=150\n",
    ").repeat(\n",
    "    [\"HomePlanet_missing\", \"CryoSleep_missing\", \"Cabin_missing\",\n",
    "     \"Destination_missing\", \"Age_missing\", \"VIP_missing\", \"RoomService_missing\",\n",
    "     \"FoodCourt_missing\", \"ShoppingMall_missing\",\n",
    "     \"Spa_missing\", \"VRDeck_missing\", \"Name_missing\"],\n",
    "    columns=3\n",
    ")"
   ]
  },
  {
   "cell_type": "code",
   "execution_count": 10,
   "id": "ad111a7a-55c8-4411-a805-bd3b972156ef",
   "metadata": {},
   "outputs": [
    {
     "data": {
      "application/vnd.vegalite.v4+json": {
       "$schema": "https://vega.github.io/schema/vega-lite/v4.8.1.json",
       "config": {
        "view": {
         "continuousHeight": 300,
         "continuousWidth": 400
        }
       },
       "data": {
        "url": "http://localhost:17203/9a0d777c82a1e2664381763f4ec7e5f7.json"
       },
       "vconcat": [
        {
         "encoding": {
          "fill": {
           "field": "Transported",
           "type": "nominal"
          },
          "x": {
           "aggregate": "count",
           "type": "quantitative"
          },
          "y": {
           "field": "HomePlanet",
           "type": "nominal"
          }
         },
         "mark": "bar"
        },
        {
         "encoding": {
          "fill": {
           "field": "Transported",
           "type": "nominal"
          },
          "x": {
           "aggregate": "count",
           "type": "quantitative"
          },
          "y": {
           "field": "CryoSleep",
           "type": "nominal"
          }
         },
         "mark": "bar"
        },
        {
         "encoding": {
          "fill": {
           "field": "Transported",
           "type": "nominal"
          },
          "x": {
           "aggregate": "count",
           "type": "quantitative"
          },
          "y": {
           "field": "Destination",
           "type": "nominal"
          }
         },
         "mark": "bar"
        },
        {
         "encoding": {
          "fill": {
           "field": "Transported",
           "type": "nominal"
          },
          "x": {
           "aggregate": "count",
           "type": "quantitative"
          },
          "y": {
           "field": "VIP",
           "type": "nominal"
          }
         },
         "mark": "bar"
        }
       ]
      },
      "image/png": "[encoded data removed]",
      "text/plain": [
       "<VegaLite 4 object>\n",
       "\n",
       "If you see this message, it means the renderer has not been properly enabled\n",
       "for the frontend that you are using. For more information, see\n",
       "https://altair-viz.github.io/user_guide/troubleshooting.html\n"
      ]
     },
     "execution_count": 10,
     "metadata": {},
     "output_type": "execute_result"
    }
   ],
   "source": [
    "#3. EDA on Categorical variables\n",
    "\n",
    "plot_homeplanet = alt.Chart(train_df).mark_bar().encode(\n",
    "    y=\"HomePlanet\",\n",
    "    x='count()',\n",
    "    fill='Transported'\n",
    ")\n",
    "plot_cryosleep = alt.Chart(train_df).mark_bar().encode(\n",
    "    y=\"CryoSleep\",\n",
    "    x='count()',\n",
    "    fill='Transported'\n",
    ")\n",
    "plot_destination = alt.Chart(train_df).mark_bar().encode(\n",
    "    y=\"Destination\",\n",
    "    x='count()',\n",
    "    fill='Transported'\n",
    ")\n",
    "plot_vip = alt.Chart(train_df).mark_bar().encode(\n",
    "    y=\"VIP\",\n",
    "    x='count()',\n",
    "    fill='Transported'\n",
    ")\n",
    "\n",
    "plot_homeplanet & plot_cryosleep & plot_destination & plot_vip"
   ]
  },
  {
   "cell_type": "code",
   "execution_count": 11,
   "id": "562ae527-202b-4c6c-bcd9-19117d3b4b49",
   "metadata": {},
   "outputs": [],
   "source": [
    "# 4. Divide Cabin in to sub 3 section\n",
    "\n",
    "train_df[['Cabin_dec', 'Cabin_num', 'Cabin_side']] = train_df[\"Cabin\"].str.split(\"/\", expand=True)"
   ]
  },
  {
   "cell_type": "code",
   "execution_count": 12,
   "id": "bbeef82e-d9a4-4ef7-961b-af80cd4d91f5",
   "metadata": {},
   "outputs": [
    {
     "data": {
      "text/plain": [
       "HomePlanet                 3\n",
       "CryoSleep                  2\n",
       "Cabin                   6560\n",
       "Destination                3\n",
       "Age                       80\n",
       "VIP                        2\n",
       "RoomService             1273\n",
       "FoodCourt               1507\n",
       "ShoppingMall            1115\n",
       "Spa                     1327\n",
       "VRDeck                  1306\n",
       "Name                    8473\n",
       "Transported                2\n",
       "HomePlanet_missing         2\n",
       "CryoSleep_missing          2\n",
       "Cabin_missing              2\n",
       "Destination_missing        2\n",
       "Age_missing                2\n",
       "VIP_missing                2\n",
       "RoomService_missing        2\n",
       "FoodCourt_missing          2\n",
       "ShoppingMall_missing       2\n",
       "Spa_missing                2\n",
       "VRDeck_missing             2\n",
       "Name_missing               2\n",
       "Cabin_dec                  8\n",
       "Cabin_num               1817\n",
       "Cabin_side                 2\n",
       "dtype: int64"
      ]
     },
     "execution_count": 12,
     "metadata": {},
     "output_type": "execute_result"
    }
   ],
   "source": [
    "train_df.nunique()"
   ]
  },
  {
   "cell_type": "code",
   "execution_count": 13,
   "id": "a7cdfd95-acc0-4083-bfdc-b0607f9baeed",
   "metadata": {},
   "outputs": [
    {
     "data": {
      "application/vnd.vegalite.v4+json": {
       "$schema": "https://vega.github.io/schema/vega-lite/v4.8.1.json",
       "config": {
        "view": {
         "continuousHeight": 300,
         "continuousWidth": 400
        }
       },
       "data": {
        "url": "http://localhost:17203/65e41218b52caed027ff7aeb8e1e4884.json"
       },
       "vconcat": [
        {
         "encoding": {
          "fill": {
           "field": "Transported",
           "type": "nominal"
          },
          "x": {
           "aggregate": "count",
           "type": "quantitative"
          },
          "y": {
           "field": "Cabin_dec",
           "type": "nominal"
          }
         },
         "mark": "bar"
        },
        {
         "encoding": {
          "fill": {
           "field": "Transported",
           "type": "nominal"
          },
          "x": {
           "aggregate": "count",
           "type": "quantitative"
          },
          "y": {
           "field": "Cabin_side",
           "type": "nominal"
          }
         },
         "mark": "bar"
        }
       ]
      },
      "image/png": "[encoded data removed]",
      "text/plain": [
       "<VegaLite 4 object>\n",
       "\n",
       "If you see this message, it means the renderer has not been properly enabled\n",
       "for the frontend that you are using. For more information, see\n",
       "https://altair-viz.github.io/user_guide/troubleshooting.html\n"
      ]
     },
     "execution_count": 13,
     "metadata": {},
     "output_type": "execute_result"
    }
   ],
   "source": [
    "plot_cabin_dec = alt.Chart(train_df).mark_bar().encode(\n",
    "    y=\"Cabin_dec\",\n",
    "    x='count()',\n",
    "    fill='Transported'\n",
    ")\n",
    "plot_cabin_side = alt.Chart(train_df).mark_bar().encode(\n",
    "    y=\"Cabin_side\",\n",
    "    x='count()',\n",
    "    fill='Transported'\n",
    ")\n",
    "\n",
    "plot_cabin_dec & plot_cabin_side"
   ]
  },
  {
   "cell_type": "code",
   "execution_count": 14,
   "id": "f7b551c9-ab20-4003-af83-b1f32f08af86",
   "metadata": {},
   "outputs": [
    {
     "data": {
      "application/vnd.vegalite.v4+json": {
       "$schema": "https://vega.github.io/schema/vega-lite/v4.8.1.json",
       "config": {
        "view": {
         "continuousHeight": 300,
         "continuousWidth": 400
        }
       },
       "data": {
        "url": "http://localhost:17203/65e41218b52caed027ff7aeb8e1e4884.json"
       },
       "encoding": {
        "fill": {
         "field": "Transported",
         "type": "nominal"
        },
        "x": {
         "bin": {
          "maxbins": 40
         },
         "field": "Age",
         "type": "quantitative"
        },
        "y": {
         "aggregate": "count",
         "type": "quantitative"
        }
       },
       "mark": "bar"
      },
      "image/png": "[encoded data removed]",
      "text/plain": [
       "<VegaLite 4 object>\n",
       "\n",
       "If you see this message, it means the renderer has not been properly enabled\n",
       "for the frontend that you are using. For more information, see\n",
       "https://altair-viz.github.io/user_guide/troubleshooting.html\n"
      ]
     },
     "execution_count": 14,
     "metadata": {},
     "output_type": "execute_result"
    }
   ],
   "source": [
    "age_histogram = alt.Chart(train_df).mark_bar().encode(\n",
    "    alt.X('Age', bin=alt.Bin(maxbins=40)), \n",
    "    y='count()',\n",
    "    fill='Transported')\n",
    "age_histogram"
   ]
  },
  {
   "cell_type": "code",
   "execution_count": 15,
   "id": "e3f20895-10de-4270-a710-5f5fd189a5d1",
   "metadata": {},
   "outputs": [],
   "source": [
    "# 5. Create Age groups\n",
    "\n",
    "train_df['Age_bin'] = pd.cut(\n",
    "    train_df['Age'], \n",
    "    bins=[0, 12, 18, 30, 50, 66, 90], \n",
    "    labels=['Children', 'Teenage', '20s', '30-40s', '50-60s', 'Elder']\n",
    ")"
   ]
  },
  {
   "cell_type": "code",
   "execution_count": 16,
   "id": "84e5fa0c-f229-4aa1-925b-d984f8127a0e",
   "metadata": {},
   "outputs": [
    {
     "data": {
      "application/vnd.vegalite.v4+json": {
       "$schema": "https://vega.github.io/schema/vega-lite/v4.8.1.json",
       "config": {
        "view": {
         "continuousHeight": 300,
         "continuousWidth": 400
        }
       },
       "data": {
        "url": "http://localhost:17203/6ac86e192920ac36f59fe32ac713c139.json"
       },
       "encoding": {
        "fill": {
         "field": "Transported",
         "type": "nominal"
        },
        "x": {
         "aggregate": "count",
         "type": "quantitative"
        },
        "y": {
         "field": "Age_bin",
         "type": "nominal"
        }
       },
       "mark": "bar"
      },
      "image/png": "[encoded data removed]",
      "text/plain": [
       "<VegaLite 4 object>\n",
       "\n",
       "If you see this message, it means the renderer has not been properly enabled\n",
       "for the frontend that you are using. For more information, see\n",
       "https://altair-viz.github.io/user_guide/troubleshooting.html\n"
      ]
     },
     "execution_count": 16,
     "metadata": {},
     "output_type": "execute_result"
    }
   ],
   "source": [
    "plot_age_bin = alt.Chart(train_df).mark_bar().encode(\n",
    "    y=\"Age_bin\",\n",
    "    x='count()',\n",
    "    fill='Transported'\n",
    ")\n",
    "plot_age_bin"
   ]
  },
  {
   "cell_type": "code",
   "execution_count": 17,
   "id": "ee613079-3e70-4f8a-a634-563e7375a509",
   "metadata": {},
   "outputs": [
    {
     "data": {
      "application/vnd.vegalite.v4+json": {
       "$schema": "https://vega.github.io/schema/vega-lite/v4.8.1.json",
       "config": {
        "view": {
         "continuousHeight": 300,
         "continuousWidth": 400
        }
       },
       "data": {
        "url": "http://localhost:17203/6ac86e192920ac36f59fe32ac713c139.json"
       },
       "encoding": {
        "fill": {
         "field": "Transported",
         "type": "nominal"
        },
        "x": {
         "bin": {
          "maxbins": 200
         },
         "field": "RoomService",
         "type": "quantitative"
        },
        "y": {
         "aggregate": "count",
         "type": "quantitative"
        }
       },
       "mark": "bar"
      },
      "image/png": "[encoded data removed]",
      "text/plain": [
       "<VegaLite 4 object>\n",
       "\n",
       "If you see this message, it means the renderer has not been properly enabled\n",
       "for the frontend that you are using. For more information, see\n",
       "https://altair-viz.github.io/user_guide/troubleshooting.html\n"
      ]
     },
     "execution_count": 17,
     "metadata": {},
     "output_type": "execute_result"
    }
   ],
   "source": [
    "roomservice_histogram = alt.Chart(train_df).mark_bar().encode(\n",
    "    alt.X('RoomService', bin=alt.Bin(maxbins=200)), \n",
    "    y='count()',\n",
    "    fill='Transported')\n",
    "roomservice_histogram"
   ]
  },
  {
   "cell_type": "code",
   "execution_count": 18,
   "id": "d247a78f-6dbe-4af6-ade4-cc2b9898b045",
   "metadata": {},
   "outputs": [
    {
     "data": {
      "application/vnd.vegalite.v4+json": {
       "$schema": "https://vega.github.io/schema/vega-lite/v4.8.1.json",
       "config": {
        "view": {
         "continuousHeight": 300,
         "continuousWidth": 400
        }
       },
       "data": {
        "url": "http://localhost:17203/6ac86e192920ac36f59fe32ac713c139.json"
       },
       "encoding": {
        "fill": {
         "field": "Transported",
         "type": "nominal"
        },
        "x": {
         "bin": {
          "maxbins": 200
         },
         "field": "RoomService",
         "scale": {
          "domain": [
           0,
           3000
          ]
         },
         "type": "quantitative"
        },
        "y": {
         "aggregate": "count",
         "scale": {
          "domain": [
           0,
           500
          ]
         },
         "type": "quantitative"
        }
       },
       "mark": {
        "clip": true,
        "type": "bar"
       }
      },
      "image/png": "[encoded data removed]",
      "text/plain": [
       "<VegaLite 4 object>\n",
       "\n",
       "If you see this message, it means the renderer has not been properly enabled\n",
       "for the frontend that you are using. For more information, see\n",
       "https://altair-viz.github.io/user_guide/troubleshooting.html\n"
      ]
     },
     "execution_count": 18,
     "metadata": {},
     "output_type": "execute_result"
    }
   ],
   "source": [
    "roomservice_histogram2 = alt.Chart(train_df).mark_bar(clip=True).encode(\n",
    "    alt.X('RoomService', bin=alt.Bin(maxbins=200), scale=alt.Scale(domain=(0, 3000))), \n",
    "    alt.Y('count()', scale=alt.Scale(domain=(0, 500))),\n",
    "    fill='Transported')\n",
    "roomservice_histogram2"
   ]
  },
  {
   "cell_type": "code",
   "execution_count": 19,
   "id": "29a2526e-1ed1-4837-8198-1e72f3ad2b62",
   "metadata": {},
   "outputs": [],
   "source": [
    "# 6. Create RoomService groups\n",
    "\n",
    "train_df.loc[train_df['RoomService'].isna(), 'RoomService'] = 0\n",
    "\n",
    "train_df['RoomService_bin'] = pd.cut(\n",
    "    train_df['RoomService'], \n",
    "    bins=[-100, 0, 100, 200, 400, 900, 2400, 15000], \n",
    "    labels=['RS$0', 'RS$0-100', 'RS$100-200', 'RS$200-400', 'RS$400-900', 'RS$900-2400', 'RS$2400-15000']\n",
    ")\n"
   ]
  },
  {
   "cell_type": "code",
   "execution_count": 20,
   "id": "2694942b-5ba6-4e5a-b4b4-6aab557e0465",
   "metadata": {},
   "outputs": [
    {
     "data": {
      "application/vnd.vegalite.v4+json": {
       "$schema": "https://vega.github.io/schema/vega-lite/v4.8.1.json",
       "config": {
        "view": {
         "continuousHeight": 300,
         "continuousWidth": 400
        }
       },
       "data": {
        "url": "http://localhost:17203/e4e98f855e59977443513a1712d784d8.json"
       },
       "encoding": {
        "fill": {
         "field": "Transported",
         "type": "nominal"
        },
        "x": {
         "aggregate": "count",
         "type": "quantitative"
        },
        "y": {
         "field": "RoomService_bin",
         "type": "nominal"
        }
       },
       "mark": "bar"
      },
      "image/png": "[encoded data removed]",
      "text/plain": [
       "<VegaLite 4 object>\n",
       "\n",
       "If you see this message, it means the renderer has not been properly enabled\n",
       "for the frontend that you are using. For more information, see\n",
       "https://altair-viz.github.io/user_guide/troubleshooting.html\n"
      ]
     },
     "execution_count": 20,
     "metadata": {},
     "output_type": "execute_result"
    }
   ],
   "source": [
    "plot_roomservice_bin = alt.Chart(train_df).mark_bar().encode(\n",
    "    y=\"RoomService_bin\",\n",
    "    x='count()',\n",
    "    fill='Transported'\n",
    ")\n",
    "plot_roomservice_bin"
   ]
  },
  {
   "cell_type": "code",
   "execution_count": null,
   "id": "7428652f-37a3-4f59-a4e9-83a994bcfbb9",
   "metadata": {},
   "outputs": [],
   "source": []
  },
  {
   "cell_type": "code",
   "execution_count": null,
   "id": "f25dde9f-abf9-42b0-8e71-9ad6a0ab9097",
   "metadata": {},
   "outputs": [],
   "source": []
  }
 ],
 "metadata": {
  "kernelspec": {
   "display_name": "Python [conda env:573]",
   "language": "python",
   "name": "conda-env-573-py"
  },
  "language_info": {
   "codemirror_mode": {
    "name": "ipython",
    "version": 3
   },
   "file_extension": ".py",
   "mimetype": "text/x-python",
   "name": "python",
   "nbconvert_exporter": "python",
   "pygments_lexer": "ipython3",
   "version": "3.9.7"
  }
 },
 "nbformat": 4,
 "nbformat_minor": 5
}
