{
 "cells": [
  {
   "cell_type": "markdown",
   "id": "7da974ed-e318-4cd0-b440-4bac3f6f0c3c",
   "metadata": {},
   "source": [
    "# Imports"
   ]
  },
  {
   "cell_type": "code",
   "execution_count": 1,
   "id": "6a8c4939-a921-4cb2-914a-b693996d20b6",
   "metadata": {},
   "outputs": [],
   "source": [
    "import string\n",
    "import sys\n",
    "from collections import deque\n",
    "\n",
    "import pandas as pd\n",
    "import numpy as np\n",
    "import altair as alt\n",
    "alt.renderers.enable('mimetype')\n",
    "alt.data_transformers.enable('data_server')\n",
    "\n",
    "from sklearn import datasets\n",
    "from sklearn.compose import ColumnTransformer, make_column_transformer\n",
    "from sklearn.dummy import DummyClassifier, DummyRegressor\n",
    "from sklearn.ensemble import RandomForestClassifier, RandomForestRegressor\n",
    "from sklearn.impute import SimpleImputer\n",
    "from sklearn.linear_model import LogisticRegression, Ridge\n",
    "from sklearn.model_selection import (\n",
    "    GridSearchCV,\n",
    "    RandomizedSearchCV,\n",
    "    cross_val_score,\n",
    "    cross_validate,\n",
    "    train_test_split,\n",
    ")\n",
    "from sklearn.feature_extraction.text import CountVectorizer\n",
    "from sklearn.pipeline import Pipeline, make_pipeline\n",
    "from sklearn.preprocessing import OneHotEncoder, OrdinalEncoder, StandardScaler\n",
    "from sklearn.svm import SVC, SVR\n",
    "from sklearn.tree import DecisionTreeClassifier, DecisionTreeRegressor\n",
    "import warnings\n",
    "\n",
    "from catboost import CatBoostClassifier, CatBoostRegressor\n",
    "from lightgbm.sklearn import LGBMClassifier, LGBMRegressor\n",
    "from xgboost import XGBClassifier, XGBRegressor\n",
    "\n",
    "from sklearn.utils import shuffle\n",
    "\n",
    "from sklearn.naive_bayes import MultinomialNB\n",
    "\n",
    "import kaggle\n",
    "\n",
    "import matplotlib.pyplot as plt\n",
    "\n",
    "warnings.simplefilter(action=\"ignore\", category=FutureWarning)"
   ]
  },
  {
   "cell_type": "code",
   "execution_count": 2,
   "id": "91746353-7af2-4a79-a45e-10a746fb5d1f",
   "metadata": {},
   "outputs": [],
   "source": [
    "def mean_std_cross_val_scores(model, X_train, y_train, **kwargs):\n",
    "    \"\"\"\n",
    "    Returns mean and std of cross validation\n",
    "\n",
    "    Parameters\n",
    "    ----------\n",
    "    model :\n",
    "        scikit-learn model\n",
    "    X_train : numpy array or pandas DataFrame\n",
    "        X in the training data\n",
    "    y_train :\n",
    "        y in the training data\n",
    "\n",
    "    Returns\n",
    "    ----------\n",
    "        pandas Series with mean scores from cross_validation\n",
    "    \"\"\"\n",
    "\n",
    "    scores = cross_validate(model, X_train, y_train, **kwargs)\n",
    "\n",
    "    mean_scores = pd.DataFrame(scores).mean()\n",
    "    std_scores = pd.DataFrame(scores).std()\n",
    "    out_col = []\n",
    "\n",
    "    for i in range(len(mean_scores)):\n",
    "        out_col.append((f\"%0.3f (+/- %0.3f)\" % (mean_scores[i], std_scores[i])))\n",
    "\n",
    "    return pd.Series(data=out_col, index=mean_scores.index)"
   ]
  },
  {
   "cell_type": "markdown",
   "id": "cbcba383-b7c4-4c9e-88d2-58497492f73b",
   "metadata": {},
   "source": [
    "# Basic Data Analysis"
   ]
  },
  {
   "cell_type": "code",
   "execution_count": 3,
   "id": "26bba595-2525-4c20-905c-267a9bba647d",
   "metadata": {},
   "outputs": [
    {
     "data": {
      "text/html": [
       "<div>\n",
       "<style scoped>\n",
       "    .dataframe tbody tr th:only-of-type {\n",
       "        vertical-align: middle;\n",
       "    }\n",
       "\n",
       "    .dataframe tbody tr th {\n",
       "        vertical-align: top;\n",
       "    }\n",
       "\n",
       "    .dataframe thead th {\n",
       "        text-align: right;\n",
       "    }\n",
       "</style>\n",
       "<table border=\"1\" class=\"dataframe\">\n",
       "  <thead>\n",
       "    <tr style=\"text-align: right;\">\n",
       "      <th></th>\n",
       "      <th>HomePlanet</th>\n",
       "      <th>CryoSleep</th>\n",
       "      <th>Cabin</th>\n",
       "      <th>Destination</th>\n",
       "      <th>Age</th>\n",
       "      <th>VIP</th>\n",
       "      <th>RoomService</th>\n",
       "      <th>FoodCourt</th>\n",
       "      <th>ShoppingMall</th>\n",
       "      <th>Spa</th>\n",
       "      <th>VRDeck</th>\n",
       "      <th>Name</th>\n",
       "      <th>Transported</th>\n",
       "    </tr>\n",
       "    <tr>\n",
       "      <th>PassengerId</th>\n",
       "      <th></th>\n",
       "      <th></th>\n",
       "      <th></th>\n",
       "      <th></th>\n",
       "      <th></th>\n",
       "      <th></th>\n",
       "      <th></th>\n",
       "      <th></th>\n",
       "      <th></th>\n",
       "      <th></th>\n",
       "      <th></th>\n",
       "      <th></th>\n",
       "      <th></th>\n",
       "    </tr>\n",
       "  </thead>\n",
       "  <tbody>\n",
       "    <tr>\n",
       "      <th>4903_01</th>\n",
       "      <td>Earth</td>\n",
       "      <td>False</td>\n",
       "      <td>F/995/P</td>\n",
       "      <td>55 Cancri e</td>\n",
       "      <td>23.0</td>\n",
       "      <td>False</td>\n",
       "      <td>62.0</td>\n",
       "      <td>0.0</td>\n",
       "      <td>0.0</td>\n",
       "      <td>1.0</td>\n",
       "      <td>2203.0</td>\n",
       "      <td>Arla Moodman</td>\n",
       "      <td>False</td>\n",
       "    </tr>\n",
       "    <tr>\n",
       "      <th>5166_01</th>\n",
       "      <td>Mars</td>\n",
       "      <td>False</td>\n",
       "      <td>D/163/P</td>\n",
       "      <td>TRAPPIST-1e</td>\n",
       "      <td>32.0</td>\n",
       "      <td>False</td>\n",
       "      <td>382.0</td>\n",
       "      <td>0.0</td>\n",
       "      <td>477.0</td>\n",
       "      <td>22.0</td>\n",
       "      <td>2.0</td>\n",
       "      <td>Cor Porki</td>\n",
       "      <td>True</td>\n",
       "    </tr>\n",
       "    <tr>\n",
       "      <th>4196_01</th>\n",
       "      <td>Earth</td>\n",
       "      <td>True</td>\n",
       "      <td>G/688/S</td>\n",
       "      <td>TRAPPIST-1e</td>\n",
       "      <td>13.0</td>\n",
       "      <td>False</td>\n",
       "      <td>0.0</td>\n",
       "      <td>0.0</td>\n",
       "      <td>0.0</td>\n",
       "      <td>0.0</td>\n",
       "      <td>0.0</td>\n",
       "      <td>Antony Jacostaney</td>\n",
       "      <td>True</td>\n",
       "    </tr>\n",
       "    <tr>\n",
       "      <th>3054_01</th>\n",
       "      <td>Earth</td>\n",
       "      <td>False</td>\n",
       "      <td>F/579/S</td>\n",
       "      <td>TRAPPIST-1e</td>\n",
       "      <td>13.0</td>\n",
       "      <td>False</td>\n",
       "      <td>578.0</td>\n",
       "      <td>77.0</td>\n",
       "      <td>0.0</td>\n",
       "      <td>306.0</td>\n",
       "      <td>5.0</td>\n",
       "      <td>Celis Bootez</td>\n",
       "      <td>False</td>\n",
       "    </tr>\n",
       "    <tr>\n",
       "      <th>7484_01</th>\n",
       "      <td>Earth</td>\n",
       "      <td>False</td>\n",
       "      <td>G/1209/P</td>\n",
       "      <td>55 Cancri e</td>\n",
       "      <td>25.0</td>\n",
       "      <td>False</td>\n",
       "      <td>0.0</td>\n",
       "      <td>1435.0</td>\n",
       "      <td>0.0</td>\n",
       "      <td>0.0</td>\n",
       "      <td>0.0</td>\n",
       "      <td>Coracy Rivanseney</td>\n",
       "      <td>True</td>\n",
       "    </tr>\n",
       "    <tr>\n",
       "      <th>...</th>\n",
       "      <td>...</td>\n",
       "      <td>...</td>\n",
       "      <td>...</td>\n",
       "      <td>...</td>\n",
       "      <td>...</td>\n",
       "      <td>...</td>\n",
       "      <td>...</td>\n",
       "      <td>...</td>\n",
       "      <td>...</td>\n",
       "      <td>...</td>\n",
       "      <td>...</td>\n",
       "      <td>...</td>\n",
       "      <td>...</td>\n",
       "    </tr>\n",
       "    <tr>\n",
       "      <th>8808_01</th>\n",
       "      <td>Earth</td>\n",
       "      <td>False</td>\n",
       "      <td>F/1816/P</td>\n",
       "      <td>TRAPPIST-1e</td>\n",
       "      <td>38.0</td>\n",
       "      <td>False</td>\n",
       "      <td>0.0</td>\n",
       "      <td>2532.0</td>\n",
       "      <td>0.0</td>\n",
       "      <td>204.0</td>\n",
       "      <td>0.0</td>\n",
       "      <td>Pristy Folemonley</td>\n",
       "      <td>True</td>\n",
       "    </tr>\n",
       "    <tr>\n",
       "      <th>3476_03</th>\n",
       "      <td>Earth</td>\n",
       "      <td>False</td>\n",
       "      <td>G/571/P</td>\n",
       "      <td>55 Cancri e</td>\n",
       "      <td>0.0</td>\n",
       "      <td>False</td>\n",
       "      <td>0.0</td>\n",
       "      <td>0.0</td>\n",
       "      <td>0.0</td>\n",
       "      <td>NaN</td>\n",
       "      <td>0.0</td>\n",
       "      <td>NaN</td>\n",
       "      <td>True</td>\n",
       "    </tr>\n",
       "    <tr>\n",
       "      <th>8796_02</th>\n",
       "      <td>Earth</td>\n",
       "      <td>False</td>\n",
       "      <td>F/1704/S</td>\n",
       "      <td>TRAPPIST-1e</td>\n",
       "      <td>14.0</td>\n",
       "      <td>False</td>\n",
       "      <td>588.0</td>\n",
       "      <td>144.0</td>\n",
       "      <td>1.0</td>\n",
       "      <td>0.0</td>\n",
       "      <td>168.0</td>\n",
       "      <td>Hillie Jorden</td>\n",
       "      <td>False</td>\n",
       "    </tr>\n",
       "    <tr>\n",
       "      <th>5216_01</th>\n",
       "      <td>Earth</td>\n",
       "      <td>True</td>\n",
       "      <td>G/843/P</td>\n",
       "      <td>TRAPPIST-1e</td>\n",
       "      <td>30.0</td>\n",
       "      <td>False</td>\n",
       "      <td>0.0</td>\n",
       "      <td>0.0</td>\n",
       "      <td>0.0</td>\n",
       "      <td>0.0</td>\n",
       "      <td>0.0</td>\n",
       "      <td>Clard Hardson</td>\n",
       "      <td>False</td>\n",
       "    </tr>\n",
       "    <tr>\n",
       "      <th>6174_03</th>\n",
       "      <td>Earth</td>\n",
       "      <td>True</td>\n",
       "      <td>G/999/P</td>\n",
       "      <td>TRAPPIST-1e</td>\n",
       "      <td>NaN</td>\n",
       "      <td>False</td>\n",
       "      <td>0.0</td>\n",
       "      <td>0.0</td>\n",
       "      <td>0.0</td>\n",
       "      <td>0.0</td>\n",
       "      <td>0.0</td>\n",
       "      <td>Anthia Mcbriddley</td>\n",
       "      <td>False</td>\n",
       "    </tr>\n",
       "  </tbody>\n",
       "</table>\n",
       "<p>8693 rows × 13 columns</p>\n",
       "</div>"
      ],
      "text/plain": [
       "            HomePlanet CryoSleep     Cabin  Destination   Age    VIP  \\\n",
       "PassengerId                                                            \n",
       "4903_01          Earth     False   F/995/P  55 Cancri e  23.0  False   \n",
       "5166_01           Mars     False   D/163/P  TRAPPIST-1e  32.0  False   \n",
       "4196_01          Earth      True   G/688/S  TRAPPIST-1e  13.0  False   \n",
       "3054_01          Earth     False   F/579/S  TRAPPIST-1e  13.0  False   \n",
       "7484_01          Earth     False  G/1209/P  55 Cancri e  25.0  False   \n",
       "...                ...       ...       ...          ...   ...    ...   \n",
       "8808_01          Earth     False  F/1816/P  TRAPPIST-1e  38.0  False   \n",
       "3476_03          Earth     False   G/571/P  55 Cancri e   0.0  False   \n",
       "8796_02          Earth     False  F/1704/S  TRAPPIST-1e  14.0  False   \n",
       "5216_01          Earth      True   G/843/P  TRAPPIST-1e  30.0  False   \n",
       "6174_03          Earth      True   G/999/P  TRAPPIST-1e   NaN  False   \n",
       "\n",
       "             RoomService  FoodCourt  ShoppingMall    Spa  VRDeck  \\\n",
       "PassengerId                                                        \n",
       "4903_01             62.0        0.0           0.0    1.0  2203.0   \n",
       "5166_01            382.0        0.0         477.0   22.0     2.0   \n",
       "4196_01              0.0        0.0           0.0    0.0     0.0   \n",
       "3054_01            578.0       77.0           0.0  306.0     5.0   \n",
       "7484_01              0.0     1435.0           0.0    0.0     0.0   \n",
       "...                  ...        ...           ...    ...     ...   \n",
       "8808_01              0.0     2532.0           0.0  204.0     0.0   \n",
       "3476_03              0.0        0.0           0.0    NaN     0.0   \n",
       "8796_02            588.0      144.0           1.0    0.0   168.0   \n",
       "5216_01              0.0        0.0           0.0    0.0     0.0   \n",
       "6174_03              0.0        0.0           0.0    0.0     0.0   \n",
       "\n",
       "                          Name  Transported  \n",
       "PassengerId                                  \n",
       "4903_01           Arla Moodman        False  \n",
       "5166_01              Cor Porki         True  \n",
       "4196_01      Antony Jacostaney         True  \n",
       "3054_01           Celis Bootez        False  \n",
       "7484_01      Coracy Rivanseney         True  \n",
       "...                        ...          ...  \n",
       "8808_01      Pristy Folemonley         True  \n",
       "3476_03                    NaN         True  \n",
       "8796_02          Hillie Jorden        False  \n",
       "5216_01          Clard Hardson        False  \n",
       "6174_03      Anthia Mcbriddley        False  \n",
       "\n",
       "[8693 rows x 13 columns]"
      ]
     },
     "execution_count": 3,
     "metadata": {},
     "output_type": "execute_result"
    }
   ],
   "source": [
    "train_df = pd.read_csv(\"data/train.csv\")\n",
    "train_df.set_index(\"PassengerId\", inplace=True)\n",
    "train_df = shuffle(train_df)\n",
    "\n",
    "# Convert the values of numeric column into absolute values\n",
    "train_df.loc[\n",
    "    :, [\"Age\", \"RoomService\", \"FoodCourt\", \"ShoppingMall\", \"Spa\", \"VRDeck\"]\n",
    "] = train_df.loc[\n",
    "    :, [\"Age\", \"RoomService\", \"FoodCourt\", \"ShoppingMall\", \"Spa\", \"VRDeck\"]\n",
    "].abs()\n",
    "train_df"
   ]
  },
  {
   "cell_type": "code",
   "execution_count": 4,
   "id": "1d9c2e3f-d7b0-49f0-8301-1392a6ecfd3a",
   "metadata": {},
   "outputs": [
    {
     "name": "stdout",
     "output_type": "stream",
     "text": [
      "<class 'pandas.core.frame.DataFrame'>\n",
      "Index: 8693 entries, 4903_01 to 6174_03\n",
      "Data columns (total 13 columns):\n",
      " #   Column        Non-Null Count  Dtype  \n",
      "---  ------        --------------  -----  \n",
      " 0   HomePlanet    8492 non-null   object \n",
      " 1   CryoSleep     8476 non-null   object \n",
      " 2   Cabin         8494 non-null   object \n",
      " 3   Destination   8511 non-null   object \n",
      " 4   Age           8514 non-null   float64\n",
      " 5   VIP           8490 non-null   object \n",
      " 6   RoomService   8512 non-null   float64\n",
      " 7   FoodCourt     8510 non-null   float64\n",
      " 8   ShoppingMall  8485 non-null   float64\n",
      " 9   Spa           8510 non-null   float64\n",
      " 10  VRDeck        8505 non-null   float64\n",
      " 11  Name          8493 non-null   object \n",
      " 12  Transported   8693 non-null   bool   \n",
      "dtypes: bool(1), float64(6), object(6)\n",
      "memory usage: 891.4+ KB\n"
     ]
    }
   ],
   "source": [
    "train_df.info()"
   ]
  },
  {
   "cell_type": "code",
   "execution_count": 5,
   "id": "c8badd66-327b-4ada-8180-335c57075273",
   "metadata": {},
   "outputs": [
    {
     "data": {
      "text/plain": [
       "HomePlanet      0.023122\n",
       "CryoSleep       0.024963\n",
       "Cabin           0.022892\n",
       "Destination     0.020936\n",
       "Age             0.020591\n",
       "VIP             0.023352\n",
       "RoomService     0.020821\n",
       "FoodCourt       0.021051\n",
       "ShoppingMall    0.023927\n",
       "Spa             0.021051\n",
       "VRDeck          0.021627\n",
       "Name            0.023007\n",
       "Transported     0.000000\n",
       "dtype: float64"
      ]
     },
     "execution_count": 5,
     "metadata": {},
     "output_type": "execute_result"
    }
   ],
   "source": [
    "train_df.isna().sum()/8693   # percentage of null"
   ]
  },
  {
   "cell_type": "markdown",
   "id": "89d4d158-a5d8-474d-b57c-16ecc4a53f05",
   "metadata": {},
   "source": [
    "# Data Wrangling & EDA"
   ]
  },
  {
   "cell_type": "markdown",
   "id": "28965e18-709f-4299-885a-286944f2283c",
   "metadata": {},
   "source": [
    "#### 1. Create new columns for missing data and perform EDA on missing items"
   ]
  },
  {
   "cell_type": "code",
   "execution_count": 6,
   "id": "46a29751-c200-4be7-83ec-9c9459b29067",
   "metadata": {},
   "outputs": [],
   "source": [
    "train_df[\"HomePlanet_missing\"] = train_df[\"HomePlanet\"].isna()\n",
    "train_df[\"CryoSleep_missing\"] = train_df[\"CryoSleep\"].isna()\n",
    "train_df[\"Cabin_missing\"] = train_df[\"Cabin\"].isna()\n",
    "train_df[\"Destination_missing\"] = train_df[\"Destination\"].isna()\n",
    "train_df[\"Age_missing\"] = train_df[\"Age\"].isna()\n",
    "train_df[\"VIP_missing\"] = train_df[\"VIP\"].isna()\n",
    "train_df[\"RoomService_missing\"] = train_df[\"RoomService\"].isna()\n",
    "train_df[\"FoodCourt_missing\"] = train_df[\"FoodCourt\"].isna()\n",
    "train_df[\"ShoppingMall_missing\"] = train_df[\"ShoppingMall\"].isna()\n",
    "train_df[\"Spa_missing\"] = train_df[\"Spa\"].isna()\n",
    "train_df[\"VRDeck_missing\"] = train_df[\"VRDeck\"].isna()\n",
    "train_df[\"Name_missing\"] = train_df[\"Name\"].isna()"
   ]
  },
  {
   "cell_type": "code",
   "execution_count": 7,
   "id": "a5a3af9f-a78d-4a86-8c05-40257f1cae01",
   "metadata": {},
   "outputs": [
    {
     "data": {
      "application/vnd.vegalite.v4+json": {
       "$schema": "https://vega.github.io/schema/vega-lite/v4.8.1.json",
       "columns": 3,
       "config": {
        "view": {
         "continuousHeight": 300,
         "continuousWidth": 400
        }
       },
       "repeat": [
        "HomePlanet_missing",
        "CryoSleep_missing",
        "Cabin_missing",
        "Destination_missing",
        "Age_missing",
        "VIP_missing",
        "RoomService_missing",
        "FoodCourt_missing",
        "ShoppingMall_missing",
        "Spa_missing",
        "VRDeck_missing",
        "Name_missing"
       ],
       "spec": {
        "data": {
         "url": "http://localhost:18840/b795ea1f8bb719dbae970bf727fe50dc.json"
        },
        "encoding": {
         "fill": {
          "field": "Transported",
          "type": "nominal"
         },
         "x": {
          "bin": {
           "maxbins": 2
          },
          "field": {
           "repeat": "repeat"
          },
          "type": "quantitative"
         },
         "y": {
          "aggregate": "count",
          "scale": {
           "domain": [
            0,
            250
           ]
          },
          "type": "quantitative"
         }
        },
        "height": 150,
        "mark": {
         "clip": true,
         "type": "bar"
        },
        "width": 200
       }
      },
      "image/png": "[encoded data removed]",
      "text/plain": [
       "<VegaLite 4 object>\n",
       "\n",
       "If you see this message, it means the renderer has not been properly enabled\n",
       "for the frontend that you are using. For more information, see\n",
       "https://altair-viz.github.io/user_guide/troubleshooting.html\n"
      ]
     },
     "execution_count": 7,
     "metadata": {},
     "output_type": "execute_result"
    }
   ],
   "source": [
    "alt.Chart(train_df).mark_bar(clip=True).encode(\n",
    "    alt.X(alt.repeat(), type='quantitative', bin=alt.Bin(maxbins=2)),\n",
    "    alt.Y('count()', scale=alt.Scale(domain=(0, 250))),\n",
    "    fill='Transported'\n",
    ").properties(\n",
    "    width=200,\n",
    "    height=150\n",
    ").repeat(\n",
    "    [\"HomePlanet_missing\", \"CryoSleep_missing\", \"Cabin_missing\",\n",
    "     \"Destination_missing\", \"Age_missing\", \"VIP_missing\", \"RoomService_missing\",\n",
    "     \"FoodCourt_missing\", \"ShoppingMall_missing\",\n",
    "     \"Spa_missing\", \"VRDeck_missing\", \"Name_missing\"],\n",
    "    columns=3\n",
    ")"
   ]
  },
  {
   "cell_type": "markdown",
   "id": "872a4ea2-b865-4503-ac76-427af9ee9229",
   "metadata": {},
   "source": [
    "#### 2. Imputation"
   ]
  },
  {
   "cell_type": "code",
   "execution_count": 8,
   "id": "247f7cdb-544e-4bd0-aca6-f92e981f389d",
   "metadata": {},
   "outputs": [],
   "source": [
    "cat_imputer = SimpleImputer(strategy=\"most_frequent\")\n",
    "num_imputer = SimpleImputer(strategy=\"median\")"
   ]
  },
  {
   "cell_type": "code",
   "execution_count": 9,
   "id": "ce7daec5-ca04-4cbf-86b9-e69159746b99",
   "metadata": {},
   "outputs": [
    {
     "data": {
      "text/plain": [
       "['HomePlanet',\n",
       " 'CryoSleep',\n",
       " 'Cabin',\n",
       " 'Destination',\n",
       " 'VIP',\n",
       " 'RoomService',\n",
       " 'FoodCourt',\n",
       " 'ShoppingMall',\n",
       " 'Spa',\n",
       " 'VRDeck',\n",
       " 'HomePlanet_missing',\n",
       " 'CryoSleep_missing',\n",
       " 'Cabin_missing',\n",
       " 'Destination_missing',\n",
       " 'Age_missing',\n",
       " 'VIP_missing',\n",
       " 'RoomService_missing',\n",
       " 'FoodCourt_missing',\n",
       " 'ShoppingMall_missing',\n",
       " 'Spa_missing',\n",
       " 'VRDeck_missing',\n",
       " 'Name_missing']"
      ]
     },
     "execution_count": 9,
     "metadata": {},
     "output_type": "execute_result"
    }
   ],
   "source": [
    "cat_columns = train_df.columns.tolist()\n",
    "cat_columns.remove('Transported')\n",
    "cat_columns.remove('Age')\n",
    "cat_columns.remove('Name')\n",
    "cat_columns"
   ]
  },
  {
   "cell_type": "code",
   "execution_count": 10,
   "id": "d14c3245-edef-48b7-9651-599bcd3bdf4c",
   "metadata": {},
   "outputs": [
    {
     "name": "stdout",
     "output_type": "stream",
     "text": [
      "<class 'pandas.core.frame.DataFrame'>\n",
      "Index: 8693 entries, 4903_01 to 6174_03\n",
      "Data columns (total 25 columns):\n",
      " #   Column                Non-Null Count  Dtype  \n",
      "---  ------                --------------  -----  \n",
      " 0   HomePlanet            8693 non-null   object \n",
      " 1   CryoSleep             8693 non-null   bool   \n",
      " 2   Cabin                 8693 non-null   object \n",
      " 3   Destination           8693 non-null   object \n",
      " 4   Age                   8693 non-null   float64\n",
      " 5   VIP                   8693 non-null   bool   \n",
      " 6   RoomService           8693 non-null   float64\n",
      " 7   FoodCourt             8693 non-null   float64\n",
      " 8   ShoppingMall          8693 non-null   float64\n",
      " 9   Spa                   8693 non-null   float64\n",
      " 10  VRDeck                8693 non-null   float64\n",
      " 11  Name                  8493 non-null   object \n",
      " 12  Transported           8693 non-null   bool   \n",
      " 13  HomePlanet_missing    8693 non-null   bool   \n",
      " 14  CryoSleep_missing     8693 non-null   bool   \n",
      " 15  Cabin_missing         8693 non-null   bool   \n",
      " 16  Destination_missing   8693 non-null   bool   \n",
      " 17  Age_missing           8693 non-null   bool   \n",
      " 18  VIP_missing           8693 non-null   bool   \n",
      " 19  RoomService_missing   8693 non-null   bool   \n",
      " 20  FoodCourt_missing     8693 non-null   bool   \n",
      " 21  ShoppingMall_missing  8693 non-null   bool   \n",
      " 22  Spa_missing           8693 non-null   bool   \n",
      " 23  VRDeck_missing        8693 non-null   bool   \n",
      " 24  Name_missing          8693 non-null   bool   \n",
      "dtypes: bool(15), float64(6), object(4)\n",
      "memory usage: 1.1+ MB\n"
     ]
    }
   ],
   "source": [
    "train_df.loc[:, [\"Age\"]] = num_imputer.fit_transform(train_df.loc[:, [\"Age\"]])\n",
    "train_df.loc[:, cat_columns] = cat_imputer.fit_transform(train_df.loc[:, cat_columns])\n",
    "train_df.info()"
   ]
  },
  {
   "cell_type": "markdown",
   "id": "6fcd3be7-c333-4486-90c9-6c88e31b268a",
   "metadata": {},
   "source": [
    "#### 3. Categorical Variables"
   ]
  },
  {
   "cell_type": "code",
   "execution_count": 11,
   "id": "ad111a7a-55c8-4411-a805-bd3b972156ef",
   "metadata": {},
   "outputs": [
    {
     "data": {
      "application/vnd.vegalite.v4+json": {
       "$schema": "https://vega.github.io/schema/vega-lite/v4.8.1.json",
       "config": {
        "view": {
         "continuousHeight": 300,
         "continuousWidth": 400
        }
       },
       "data": {
        "url": "http://localhost:18840/877483f1ea0be0b504ed43384ab9b358.json"
       },
       "vconcat": [
        {
         "encoding": {
          "fill": {
           "field": "Transported",
           "type": "nominal"
          },
          "x": {
           "aggregate": "count",
           "type": "quantitative"
          },
          "y": {
           "field": "HomePlanet",
           "type": "nominal"
          }
         },
         "mark": "bar"
        },
        {
         "encoding": {
          "fill": {
           "field": "Transported",
           "type": "nominal"
          },
          "x": {
           "aggregate": "count",
           "type": "quantitative"
          },
          "y": {
           "field": "CryoSleep",
           "type": "nominal"
          }
         },
         "mark": "bar"
        },
        {
         "encoding": {
          "fill": {
           "field": "Transported",
           "type": "nominal"
          },
          "x": {
           "aggregate": "count",
           "type": "quantitative"
          },
          "y": {
           "field": "Destination",
           "type": "nominal"
          }
         },
         "mark": "bar"
        },
        {
         "encoding": {
          "fill": {
           "field": "Transported",
           "type": "nominal"
          },
          "x": {
           "aggregate": "count",
           "type": "quantitative"
          },
          "y": {
           "field": "VIP",
           "type": "nominal"
          }
         },
         "mark": "bar"
        }
       ]
      },
      "image/png": "[encoded data removed]",
      "text/plain": [
       "<VegaLite 4 object>\n",
       "\n",
       "If you see this message, it means the renderer has not been properly enabled\n",
       "for the frontend that you are using. For more information, see\n",
       "https://altair-viz.github.io/user_guide/troubleshooting.html\n"
      ]
     },
     "execution_count": 11,
     "metadata": {},
     "output_type": "execute_result"
    }
   ],
   "source": [
    "# Perform EDA\n",
    "\n",
    "plot_homeplanet = alt.Chart(train_df).mark_bar().encode(\n",
    "    y=\"HomePlanet\",\n",
    "    x='count()',\n",
    "    fill='Transported'\n",
    ")\n",
    "plot_cryosleep = alt.Chart(train_df).mark_bar().encode(\n",
    "    y=\"CryoSleep\",\n",
    "    x='count()',\n",
    "    fill='Transported'\n",
    ")\n",
    "plot_destination = alt.Chart(train_df).mark_bar().encode(\n",
    "    y=\"Destination\",\n",
    "    x='count()',\n",
    "    fill='Transported'\n",
    ")\n",
    "plot_vip = alt.Chart(train_df).mark_bar().encode(\n",
    "    y=\"VIP\",\n",
    "    x='count()',\n",
    "    fill='Transported'\n",
    ")\n",
    "\n",
    "plot_homeplanet & plot_cryosleep & plot_destination & plot_vip"
   ]
  },
  {
   "cell_type": "markdown",
   "id": "9659b5f3-0406-49b1-9e70-69d0fa39e504",
   "metadata": {},
   "source": [
    "#### 4. Wrangling on `Cabin`"
   ]
  },
  {
   "cell_type": "code",
   "execution_count": 12,
   "id": "562ae527-202b-4c6c-bcd9-19117d3b4b49",
   "metadata": {},
   "outputs": [],
   "source": [
    "# Divide Cabin in to sub 3 section\n",
    "\n",
    "train_df[['Cabin_dec', 'Cabin_num', 'Cabin_side']] = train_df[\"Cabin\"].str.split(\"/\", expand=True)"
   ]
  },
  {
   "cell_type": "code",
   "execution_count": 13,
   "id": "a7cdfd95-acc0-4083-bfdc-b0607f9baeed",
   "metadata": {},
   "outputs": [
    {
     "data": {
      "application/vnd.vegalite.v4+json": {
       "$schema": "https://vega.github.io/schema/vega-lite/v4.8.1.json",
       "config": {
        "view": {
         "continuousHeight": 300,
         "continuousWidth": 400
        }
       },
       "data": {
        "url": "http://localhost:18840/b84b8d6559dd508ac42e7d18d6dd6d1e.json"
       },
       "vconcat": [
        {
         "encoding": {
          "fill": {
           "field": "Transported",
           "type": "nominal"
          },
          "x": {
           "aggregate": "count",
           "type": "quantitative"
          },
          "y": {
           "field": "Cabin_dec",
           "type": "nominal"
          }
         },
         "mark": "bar"
        },
        {
         "encoding": {
          "fill": {
           "field": "Transported",
           "type": "nominal"
          },
          "x": {
           "aggregate": "count",
           "type": "quantitative"
          },
          "y": {
           "field": "Cabin_side",
           "type": "nominal"
          }
         },
         "mark": "bar"
        }
       ]
      },
      "image/png": "[encoded data removed]",
      "text/plain": [
       "<VegaLite 4 object>\n",
       "\n",
       "If you see this message, it means the renderer has not been properly enabled\n",
       "for the frontend that you are using. For more information, see\n",
       "https://altair-viz.github.io/user_guide/troubleshooting.html\n"
      ]
     },
     "execution_count": 13,
     "metadata": {},
     "output_type": "execute_result"
    }
   ],
   "source": [
    "# Perform EDA\n",
    "\n",
    "plot_cabin_dec = alt.Chart(train_df).mark_bar().encode(\n",
    "    y=\"Cabin_dec\",\n",
    "    x='count()',\n",
    "    fill='Transported'\n",
    ")\n",
    "plot_cabin_side = alt.Chart(train_df).mark_bar().encode(\n",
    "    y=\"Cabin_side\",\n",
    "    x='count()',\n",
    "    fill='Transported'\n",
    ")\n",
    "\n",
    "plot_cabin_dec & plot_cabin_side"
   ]
  },
  {
   "cell_type": "markdown",
   "id": "23556ca0-5b2a-4b46-935f-7963b2393b85",
   "metadata": {},
   "source": [
    "#### 5. Wrangling on `Age`"
   ]
  },
  {
   "cell_type": "code",
   "execution_count": 14,
   "id": "f7b551c9-ab20-4003-af83-b1f32f08af86",
   "metadata": {},
   "outputs": [
    {
     "data": {
      "application/vnd.vegalite.v4+json": {
       "$schema": "https://vega.github.io/schema/vega-lite/v4.8.1.json",
       "config": {
        "view": {
         "continuousHeight": 300,
         "continuousWidth": 400
        }
       },
       "data": {
        "url": "http://localhost:18840/b84b8d6559dd508ac42e7d18d6dd6d1e.json"
       },
       "encoding": {
        "fill": {
         "field": "Transported",
         "type": "nominal"
        },
        "x": {
         "bin": {
          "maxbins": 40
         },
         "field": "Age",
         "type": "quantitative"
        },
        "y": {
         "aggregate": "count",
         "type": "quantitative"
        }
       },
       "mark": "bar"
      },
      "image/png": "[encoded data removed]",
      "text/plain": [
       "<VegaLite 4 object>\n",
       "\n",
       "If you see this message, it means the renderer has not been properly enabled\n",
       "for the frontend that you are using. For more information, see\n",
       "https://altair-viz.github.io/user_guide/troubleshooting.html\n"
      ]
     },
     "execution_count": 14,
     "metadata": {},
     "output_type": "execute_result"
    }
   ],
   "source": [
    "age_histogram = alt.Chart(train_df).mark_bar().encode(\n",
    "    alt.X('Age', bin=alt.Bin(maxbins=40)), \n",
    "    y='count()',\n",
    "    fill='Transported')\n",
    "age_histogram"
   ]
  },
  {
   "cell_type": "code",
   "execution_count": 15,
   "id": "e3f20895-10de-4270-a710-5f5fd189a5d1",
   "metadata": {},
   "outputs": [],
   "source": [
    "# Create Age groups\n",
    "train_df['Age_bin'] = pd.cut(\n",
    "    train_df['Age'], \n",
    "    bins=[-0.1, 12, 18, 30, 50, 66, 90], \n",
    "    labels=['Children', 'Teenage', '20s', '30-40s', '50-60s', 'Elder']\n",
    ")"
   ]
  },
  {
   "cell_type": "code",
   "execution_count": 16,
   "id": "84e5fa0c-f229-4aa1-925b-d984f8127a0e",
   "metadata": {},
   "outputs": [
    {
     "data": {
      "application/vnd.vegalite.v4+json": {
       "$schema": "https://vega.github.io/schema/vega-lite/v4.8.1.json",
       "config": {
        "view": {
         "continuousHeight": 300,
         "continuousWidth": 400
        }
       },
       "data": {
        "url": "http://localhost:18840/a5e5ceed14cdbc8ee8806ba22c8b0695.json"
       },
       "encoding": {
        "fill": {
         "field": "Transported",
         "type": "nominal"
        },
        "x": {
         "aggregate": "count",
         "type": "quantitative"
        },
        "y": {
         "field": "Age_bin",
         "type": "nominal"
        }
       },
       "mark": "bar"
      },
      "image/png": "[encoded data removed]",
      "text/plain": [
       "<VegaLite 4 object>\n",
       "\n",
       "If you see this message, it means the renderer has not been properly enabled\n",
       "for the frontend that you are using. For more information, see\n",
       "https://altair-viz.github.io/user_guide/troubleshooting.html\n"
      ]
     },
     "execution_count": 16,
     "metadata": {},
     "output_type": "execute_result"
    }
   ],
   "source": [
    "# Perform EDA\n",
    "\n",
    "plot_age_bin = alt.Chart(train_df).mark_bar().encode(\n",
    "    y=\"Age_bin\",\n",
    "    x='count()',\n",
    "    fill='Transported'\n",
    ")\n",
    "plot_age_bin"
   ]
  },
  {
   "cell_type": "markdown",
   "id": "fc3230f1-3c08-4eee-8a1c-fc2d65d82173",
   "metadata": {},
   "source": [
    "#### 6. Wrangling on `RoomService`"
   ]
  },
  {
   "cell_type": "code",
   "execution_count": 17,
   "id": "ee613079-3e70-4f8a-a634-563e7375a509",
   "metadata": {},
   "outputs": [
    {
     "data": {
      "application/vnd.vegalite.v4+json": {
       "$schema": "https://vega.github.io/schema/vega-lite/v4.8.1.json",
       "config": {
        "view": {
         "continuousHeight": 300,
         "continuousWidth": 400
        }
       },
       "data": {
        "url": "http://localhost:18840/a5e5ceed14cdbc8ee8806ba22c8b0695.json"
       },
       "hconcat": [
        {
         "encoding": {
          "fill": {
           "field": "Transported",
           "type": "nominal"
          },
          "x": {
           "bin": {
            "maxbins": 200
           },
           "field": "RoomService",
           "type": "quantitative"
          },
          "y": {
           "aggregate": "count",
           "type": "quantitative"
          }
         },
         "mark": "bar"
        },
        {
         "encoding": {
          "fill": {
           "field": "Transported",
           "type": "nominal"
          },
          "x": {
           "bin": {
            "maxbins": 200
           },
           "field": "RoomService",
           "scale": {
            "domain": [
             0,
             3000
            ]
           },
           "type": "quantitative"
          },
          "y": {
           "aggregate": "count",
           "scale": {
            "domain": [
             0,
             500
            ]
           },
           "type": "quantitative"
          }
         },
         "mark": {
          "clip": true,
          "type": "bar"
         }
        }
       ]
      },
      "image/png": "[encoded data removed]",
      "text/plain": [
       "<VegaLite 4 object>\n",
       "\n",
       "If you see this message, it means the renderer has not been properly enabled\n",
       "for the frontend that you are using. For more information, see\n",
       "https://altair-viz.github.io/user_guide/troubleshooting.html\n"
      ]
     },
     "execution_count": 17,
     "metadata": {},
     "output_type": "execute_result"
    }
   ],
   "source": [
    "roomservice_histogram = alt.Chart(train_df).mark_bar().encode(\n",
    "    alt.X('RoomService', bin=alt.Bin(maxbins=200)), \n",
    "    y='count()',\n",
    "    fill='Transported')\n",
    "roomservice_histogram2 = alt.Chart(train_df).mark_bar(clip=True).encode(\n",
    "    alt.X('RoomService', bin=alt.Bin(maxbins=200), scale=alt.Scale(domain=(0, 3000))), \n",
    "    alt.Y('count()', scale=alt.Scale(domain=(0, 500))),\n",
    "    fill='Transported')\n",
    "\n",
    "roomservice_histogram | roomservice_histogram2"
   ]
  },
  {
   "cell_type": "code",
   "execution_count": 18,
   "id": "29a2526e-1ed1-4837-8198-1e72f3ad2b62",
   "metadata": {},
   "outputs": [],
   "source": [
    "# Create RoomService groups\n",
    "\n",
    "train_df['RoomService_bin'] = pd.cut(\n",
    "    train_df['RoomService'], \n",
    "    bins=[-0.1, 0.001, 100, 200, 400, 900, 2400, 15000], \n",
    "    labels=['RS$0', 'RS$0-100', 'RS$100-200', 'RS$200-400', 'RS$400-900', 'RS$900-2400', 'RS$2400-15000']\n",
    ")"
   ]
  },
  {
   "cell_type": "code",
   "execution_count": 19,
   "id": "2694942b-5ba6-4e5a-b4b4-6aab557e0465",
   "metadata": {},
   "outputs": [
    {
     "data": {
      "application/vnd.vegalite.v4+json": {
       "$schema": "https://vega.github.io/schema/vega-lite/v4.8.1.json",
       "config": {
        "view": {
         "continuousHeight": 300,
         "continuousWidth": 400
        }
       },
       "data": {
        "url": "http://localhost:18840/3a3ed3735d43cfc2a9f3aa11e58cf9d0.json"
       },
       "encoding": {
        "fill": {
         "field": "Transported",
         "type": "nominal"
        },
        "x": {
         "aggregate": "count",
         "type": "quantitative"
        },
        "y": {
         "field": "RoomService_bin",
         "type": "nominal"
        }
       },
       "mark": "bar"
      },
      "image/png": "[encoded data removed]",
      "text/plain": [
       "<VegaLite 4 object>\n",
       "\n",
       "If you see this message, it means the renderer has not been properly enabled\n",
       "for the frontend that you are using. For more information, see\n",
       "https://altair-viz.github.io/user_guide/troubleshooting.html\n"
      ]
     },
     "execution_count": 19,
     "metadata": {},
     "output_type": "execute_result"
    }
   ],
   "source": [
    "# Perform EDA\n",
    "\n",
    "plot_roomservice_bin = alt.Chart(train_df).mark_bar().encode(\n",
    "    y=\"RoomService_bin\",\n",
    "    x='count()',\n",
    "    fill='Transported'\n",
    ")\n",
    "plot_roomservice_bin"
   ]
  },
  {
   "cell_type": "markdown",
   "id": "cd6e2aa2-b2d9-4aed-8a29-2f3dd8bf19d9",
   "metadata": {},
   "source": [
    "#### 7. Wrangling on `FoodCourt`"
   ]
  },
  {
   "cell_type": "code",
   "execution_count": 20,
   "id": "7428652f-37a3-4f59-a4e9-83a994bcfbb9",
   "metadata": {},
   "outputs": [
    {
     "data": {
      "application/vnd.vegalite.v4+json": {
       "$schema": "https://vega.github.io/schema/vega-lite/v4.8.1.json",
       "config": {
        "view": {
         "continuousHeight": 300,
         "continuousWidth": 400
        }
       },
       "data": {
        "url": "http://localhost:18840/3a3ed3735d43cfc2a9f3aa11e58cf9d0.json"
       },
       "hconcat": [
        {
         "encoding": {
          "fill": {
           "field": "Transported",
           "type": "nominal"
          },
          "x": {
           "bin": {
            "maxbins": 400
           },
           "field": "FoodCourt",
           "type": "quantitative"
          },
          "y": {
           "aggregate": "count",
           "type": "quantitative"
          }
         },
         "mark": "bar"
        },
        {
         "encoding": {
          "fill": {
           "field": "Transported",
           "type": "nominal"
          },
          "x": {
           "bin": {
            "maxbins": 400
           },
           "field": "FoodCourt",
           "scale": {
            "domain": [
             0,
             3000
            ]
           },
           "type": "quantitative"
          },
          "y": {
           "aggregate": "count",
           "scale": {
            "domain": [
             0,
             500
            ]
           },
           "type": "quantitative"
          }
         },
         "mark": {
          "clip": true,
          "type": "bar"
         }
        }
       ]
      },
      "image/png": "[encoded data removed]",
      "text/plain": [
       "<VegaLite 4 object>\n",
       "\n",
       "If you see this message, it means the renderer has not been properly enabled\n",
       "for the frontend that you are using. For more information, see\n",
       "https://altair-viz.github.io/user_guide/troubleshooting.html\n"
      ]
     },
     "execution_count": 20,
     "metadata": {},
     "output_type": "execute_result"
    }
   ],
   "source": [
    "foodcourt_histogram = alt.Chart(train_df).mark_bar().encode(\n",
    "    alt.X('FoodCourt', bin=alt.Bin(maxbins=400)), \n",
    "    y='count()',\n",
    "    fill='Transported')\n",
    "foodcourt_histogram2 = alt.Chart(train_df).mark_bar(clip=True).encode(\n",
    "    alt.X('FoodCourt', bin=alt.Bin(maxbins=400), scale=alt.Scale(domain=(0, 3000))), \n",
    "    alt.Y('count()', scale=alt.Scale(domain=(0, 500))),\n",
    "    fill='Transported')\n",
    "foodcourt_histogram | foodcourt_histogram2"
   ]
  },
  {
   "cell_type": "code",
   "execution_count": 21,
   "id": "0118e106-258c-484c-950d-81b8271de6c6",
   "metadata": {},
   "outputs": [],
   "source": [
    "# Create FoodCourt groups\n",
    "\n",
    "train_df['FoodCourt_bin'] = pd.cut(\n",
    "    train_df['FoodCourt'], \n",
    "    bins=[-0.1, 0.001, 100, 500, 900, 2000, 30000], \n",
    "    labels=['FC$0', 'FC$0-100', 'FC$100-500', 'FC$500-900', 'FC$900-2000', 'FC$2000-30000']\n",
    ")"
   ]
  },
  {
   "cell_type": "code",
   "execution_count": 22,
   "id": "08d4c517-87b0-4079-a14e-006ae9937b45",
   "metadata": {},
   "outputs": [
    {
     "data": {
      "application/vnd.vegalite.v4+json": {
       "$schema": "https://vega.github.io/schema/vega-lite/v4.8.1.json",
       "config": {
        "view": {
         "continuousHeight": 300,
         "continuousWidth": 400
        }
       },
       "data": {
        "url": "http://localhost:18840/f4bc772631873dcd409abd621d692fc8.json"
       },
       "encoding": {
        "fill": {
         "field": "Transported",
         "type": "nominal"
        },
        "x": {
         "aggregate": "count",
         "type": "quantitative"
        },
        "y": {
         "field": "FoodCourt_bin",
         "type": "nominal"
        }
       },
       "mark": "bar"
      },
      "image/png": "[encoded data removed]",
      "text/plain": [
       "<VegaLite 4 object>\n",
       "\n",
       "If you see this message, it means the renderer has not been properly enabled\n",
       "for the frontend that you are using. For more information, see\n",
       "https://altair-viz.github.io/user_guide/troubleshooting.html\n"
      ]
     },
     "execution_count": 22,
     "metadata": {},
     "output_type": "execute_result"
    }
   ],
   "source": [
    "# Perform EDA\n",
    "\n",
    "plot_roomservice_bin = alt.Chart(train_df).mark_bar().encode(\n",
    "    y=\"FoodCourt_bin\",\n",
    "    x='count()',\n",
    "    fill='Transported'\n",
    ")\n",
    "plot_roomservice_bin"
   ]
  },
  {
   "cell_type": "markdown",
   "id": "321e2e73-8e44-4011-9872-a7aeb784f51a",
   "metadata": {},
   "source": [
    "#### 8. Wrangling on `ShoppingMall`"
   ]
  },
  {
   "cell_type": "code",
   "execution_count": 23,
   "id": "369a3b3d-c7b6-4c45-bcbf-38d9ece0cd9e",
   "metadata": {},
   "outputs": [
    {
     "data": {
      "application/vnd.vegalite.v4+json": {
       "$schema": "https://vega.github.io/schema/vega-lite/v4.8.1.json",
       "config": {
        "view": {
         "continuousHeight": 300,
         "continuousWidth": 400
        }
       },
       "data": {
        "url": "http://localhost:18840/f4bc772631873dcd409abd621d692fc8.json"
       },
       "hconcat": [
        {
         "encoding": {
          "fill": {
           "field": "Transported",
           "type": "nominal"
          },
          "x": {
           "bin": {
            "maxbins": 400
           },
           "field": "ShoppingMall",
           "type": "quantitative"
          },
          "y": {
           "aggregate": "count",
           "type": "quantitative"
          }
         },
         "mark": "bar"
        },
        {
         "encoding": {
          "fill": {
           "field": "Transported",
           "type": "nominal"
          },
          "x": {
           "bin": {
            "maxbins": 400
           },
           "field": "ShoppingMall",
           "scale": {
            "domain": [
             0,
             3000
            ]
           },
           "type": "quantitative"
          },
          "y": {
           "aggregate": "count",
           "scale": {
            "domain": [
             0,
             500
            ]
           },
           "type": "quantitative"
          }
         },
         "mark": {
          "clip": true,
          "type": "bar"
         }
        }
       ]
      },
      "image/png": "[encoded data removed]",
      "text/plain": [
       "<VegaLite 4 object>\n",
       "\n",
       "If you see this message, it means the renderer has not been properly enabled\n",
       "for the frontend that you are using. For more information, see\n",
       "https://altair-viz.github.io/user_guide/troubleshooting.html\n"
      ]
     },
     "execution_count": 23,
     "metadata": {},
     "output_type": "execute_result"
    }
   ],
   "source": [
    "shoppingmall_histogram = alt.Chart(train_df).mark_bar().encode(\n",
    "    alt.X('ShoppingMall', bin=alt.Bin(maxbins=400)), \n",
    "    y='count()',\n",
    "    fill='Transported')\n",
    "shoppingmall_histogram2 = alt.Chart(train_df).mark_bar(clip=True).encode(\n",
    "    alt.X('ShoppingMall', bin=alt.Bin(maxbins=400), scale=alt.Scale(domain=(0, 3000))), \n",
    "    alt.Y('count()', scale=alt.Scale(domain=(0, 500))),\n",
    "    fill='Transported')\n",
    "shoppingmall_histogram | shoppingmall_histogram2"
   ]
  },
  {
   "cell_type": "code",
   "execution_count": 24,
   "id": "a1b271f8-9fd1-42a4-9f42-474be64386af",
   "metadata": {},
   "outputs": [],
   "source": [
    "# Create ShoppingMall groups\n",
    "\n",
    "train_df['ShoppingMall_bin'] = pd.cut(\n",
    "    train_df['ShoppingMall'], \n",
    "    bins=[-0.1, 0.001, 100, 200, 600, 1200, 2000, 30000], \n",
    "    labels=['SM$0', 'SM$0-100', 'SM$100-200', 'SM$200-600', 'SM$600-1200', 'SM$1200-2000', 'SM$2000-30000']\n",
    ")"
   ]
  },
  {
   "cell_type": "code",
   "execution_count": 25,
   "id": "e1f4f9f3-2f0f-4080-849b-c5c37028bba1",
   "metadata": {},
   "outputs": [
    {
     "data": {
      "application/vnd.vegalite.v4+json": {
       "$schema": "https://vega.github.io/schema/vega-lite/v4.8.1.json",
       "config": {
        "view": {
         "continuousHeight": 300,
         "continuousWidth": 400
        }
       },
       "data": {
        "url": "http://localhost:18840/474b45d1b838f453cf4ac774ece1702d.json"
       },
       "encoding": {
        "fill": {
         "field": "Transported",
         "type": "nominal"
        },
        "x": {
         "aggregate": "count",
         "type": "quantitative"
        },
        "y": {
         "field": "ShoppingMall_bin",
         "type": "nominal"
        }
       },
       "mark": "bar"
      },
      "image/png": "[encoded data removed]",
      "text/plain": [
       "<VegaLite 4 object>\n",
       "\n",
       "If you see this message, it means the renderer has not been properly enabled\n",
       "for the frontend that you are using. For more information, see\n",
       "https://altair-viz.github.io/user_guide/troubleshooting.html\n"
      ]
     },
     "execution_count": 25,
     "metadata": {},
     "output_type": "execute_result"
    }
   ],
   "source": [
    "# Perform EDA\n",
    "\n",
    "plot_shoppingmall_bin = alt.Chart(train_df).mark_bar().encode(\n",
    "    y=\"ShoppingMall_bin\",\n",
    "    x='count()',\n",
    "    fill='Transported'\n",
    ")\n",
    "plot_shoppingmall_bin"
   ]
  },
  {
   "cell_type": "markdown",
   "id": "0a3dd823-a4d0-4f5f-85e3-bd92f29c96e7",
   "metadata": {},
   "source": [
    "#### 9. Wrangling on `Spa`"
   ]
  },
  {
   "cell_type": "code",
   "execution_count": 26,
   "id": "2795ab3e-dd68-49b6-ac38-1ddc6076c9e8",
   "metadata": {},
   "outputs": [
    {
     "data": {
      "application/vnd.vegalite.v4+json": {
       "$schema": "https://vega.github.io/schema/vega-lite/v4.8.1.json",
       "config": {
        "view": {
         "continuousHeight": 300,
         "continuousWidth": 400
        }
       },
       "data": {
        "url": "http://localhost:18840/474b45d1b838f453cf4ac774ece1702d.json"
       },
       "hconcat": [
        {
         "encoding": {
          "fill": {
           "field": "Transported",
           "type": "nominal"
          },
          "x": {
           "bin": {
            "maxbins": 400
           },
           "field": "Spa",
           "type": "quantitative"
          },
          "y": {
           "aggregate": "count",
           "type": "quantitative"
          }
         },
         "mark": "bar"
        },
        {
         "encoding": {
          "fill": {
           "field": "Transported",
           "type": "nominal"
          },
          "x": {
           "bin": {
            "maxbins": 400
           },
           "field": "Spa",
           "scale": {
            "domain": [
             0,
             3000
            ]
           },
           "type": "quantitative"
          },
          "y": {
           "aggregate": "count",
           "scale": {
            "domain": [
             0,
             500
            ]
           },
           "type": "quantitative"
          }
         },
         "mark": {
          "clip": true,
          "type": "bar"
         }
        }
       ]
      },
      "image/png": "[encoded data removed]",
      "text/plain": [
       "<VegaLite 4 object>\n",
       "\n",
       "If you see this message, it means the renderer has not been properly enabled\n",
       "for the frontend that you are using. For more information, see\n",
       "https://altair-viz.github.io/user_guide/troubleshooting.html\n"
      ]
     },
     "execution_count": 26,
     "metadata": {},
     "output_type": "execute_result"
    }
   ],
   "source": [
    "spa_histogram = alt.Chart(train_df).mark_bar().encode(\n",
    "    alt.X('Spa', bin=alt.Bin(maxbins=400)), \n",
    "    y='count()',\n",
    "    fill='Transported')\n",
    "spa_histogram2 = alt.Chart(train_df).mark_bar(clip=True).encode(\n",
    "    alt.X('Spa', bin=alt.Bin(maxbins=400), scale=alt.Scale(domain=(0, 3000))), \n",
    "    alt.Y('count()', scale=alt.Scale(domain=(0, 500))),\n",
    "    fill='Transported')\n",
    "spa_histogram | spa_histogram2"
   ]
  },
  {
   "cell_type": "code",
   "execution_count": 27,
   "id": "21c2a080-ac20-4204-9c7d-4dfa72172781",
   "metadata": {},
   "outputs": [],
   "source": [
    "# Create Spa groups\n",
    "\n",
    "train_df['Spa_bin'] = pd.cut(\n",
    "    train_df['Spa'], \n",
    "    bins=[-0.1, 0.001, 100, 200, 600, 1200, 2000, 30000], \n",
    "    labels=['Sp$0', 'Sp$0-100', 'Sp$100-200', 'Sp$200-600', 'Sp$600-1200', 'Sp$1200-2000', 'Sp$2000-30000']\n",
    ")"
   ]
  },
  {
   "cell_type": "code",
   "execution_count": 28,
   "id": "34732772-e26d-4e20-9ff1-e614c933434b",
   "metadata": {},
   "outputs": [
    {
     "data": {
      "application/vnd.vegalite.v4+json": {
       "$schema": "https://vega.github.io/schema/vega-lite/v4.8.1.json",
       "config": {
        "view": {
         "continuousHeight": 300,
         "continuousWidth": 400
        }
       },
       "data": {
        "url": "http://localhost:18840/63c81fa5b478659db641e4c938262efa.json"
       },
       "encoding": {
        "fill": {
         "field": "Transported",
         "type": "nominal"
        },
        "x": {
         "aggregate": "count",
         "type": "quantitative"
        },
        "y": {
         "field": "Spa_bin",
         "type": "nominal"
        }
       },
       "mark": "bar"
      },
      "image/png": "[encoded data removed]",
      "text/plain": [
       "<VegaLite 4 object>\n",
       "\n",
       "If you see this message, it means the renderer has not been properly enabled\n",
       "for the frontend that you are using. For more information, see\n",
       "https://altair-viz.github.io/user_guide/troubleshooting.html\n"
      ]
     },
     "execution_count": 28,
     "metadata": {},
     "output_type": "execute_result"
    }
   ],
   "source": [
    "# Perform EDA\n",
    "\n",
    "plot_spa_bin = alt.Chart(train_df).mark_bar().encode(\n",
    "    y=\"Spa_bin\",\n",
    "    x='count()',\n",
    "    fill='Transported'\n",
    ")\n",
    "plot_spa_bin"
   ]
  },
  {
   "cell_type": "markdown",
   "id": "262e5899-e325-4243-a3a1-4e23b9bfdf08",
   "metadata": {},
   "source": [
    "#### 10. Wrangling on `VRDeck`"
   ]
  },
  {
   "cell_type": "code",
   "execution_count": 29,
   "id": "5f3ec21f-2a53-419c-91a7-2678174fdb68",
   "metadata": {},
   "outputs": [
    {
     "data": {
      "application/vnd.vegalite.v4+json": {
       "$schema": "https://vega.github.io/schema/vega-lite/v4.8.1.json",
       "config": {
        "view": {
         "continuousHeight": 300,
         "continuousWidth": 400
        }
       },
       "data": {
        "url": "http://localhost:18840/63c81fa5b478659db641e4c938262efa.json"
       },
       "hconcat": [
        {
         "encoding": {
          "fill": {
           "field": "Transported",
           "type": "nominal"
          },
          "x": {
           "bin": {
            "maxbins": 400
           },
           "field": "VRDeck",
           "type": "quantitative"
          },
          "y": {
           "aggregate": "count",
           "type": "quantitative"
          }
         },
         "mark": "bar"
        },
        {
         "encoding": {
          "fill": {
           "field": "Transported",
           "type": "nominal"
          },
          "x": {
           "bin": {
            "maxbins": 400
           },
           "field": "VRDeck",
           "scale": {
            "domain": [
             0,
             3000
            ]
           },
           "type": "quantitative"
          },
          "y": {
           "aggregate": "count",
           "scale": {
            "domain": [
             0,
             500
            ]
           },
           "type": "quantitative"
          }
         },
         "mark": {
          "clip": true,
          "type": "bar"
         }
        }
       ]
      },
      "image/png": "[encoded data removed]",
      "text/plain": [
       "<VegaLite 4 object>\n",
       "\n",
       "If you see this message, it means the renderer has not been properly enabled\n",
       "for the frontend that you are using. For more information, see\n",
       "https://altair-viz.github.io/user_guide/troubleshooting.html\n"
      ]
     },
     "execution_count": 29,
     "metadata": {},
     "output_type": "execute_result"
    }
   ],
   "source": [
    "vrdeck_histogram = alt.Chart(train_df).mark_bar().encode(\n",
    "    alt.X('VRDeck', bin=alt.Bin(maxbins=400)), \n",
    "    y='count()',\n",
    "    fill='Transported')\n",
    "vrdeck_histogram2 = alt.Chart(train_df).mark_bar(clip=True).encode(\n",
    "    alt.X('VRDeck', bin=alt.Bin(maxbins=400), scale=alt.Scale(domain=(0, 3000))), \n",
    "    alt.Y('count()', scale=alt.Scale(domain=(0, 500))),\n",
    "    fill='Transported')\n",
    "vrdeck_histogram | vrdeck_histogram2"
   ]
  },
  {
   "cell_type": "code",
   "execution_count": 30,
   "id": "4e40639b-6af0-4c54-9dc3-95ea368d6962",
   "metadata": {},
   "outputs": [],
   "source": [
    "# Create VRDeck groups\n",
    "\n",
    "train_df['VRDeck_bin'] = pd.cut(\n",
    "    train_df['VRDeck'], \n",
    "    bins=[-0.1, 0.001, 100, 200, 600, 1000, 2000, 30000], \n",
    "    labels=['VR$0', 'VR$0-100', 'VR$100-200', 'VR$200-600', 'VR$600-1000', 'VR$1000-2000', 'VR$2000-30000']\n",
    ")"
   ]
  },
  {
   "cell_type": "code",
   "execution_count": 31,
   "id": "aab3283f-7790-4892-b26d-80f9ca353d7c",
   "metadata": {},
   "outputs": [
    {
     "data": {
      "application/vnd.vegalite.v4+json": {
       "$schema": "https://vega.github.io/schema/vega-lite/v4.8.1.json",
       "config": {
        "view": {
         "continuousHeight": 300,
         "continuousWidth": 400
        }
       },
       "data": {
        "url": "http://localhost:18840/c51513df1c3f731f6ed32106f62dac54.json"
       },
       "encoding": {
        "fill": {
         "field": "Transported",
         "type": "nominal"
        },
        "x": {
         "aggregate": "count",
         "type": "quantitative"
        },
        "y": {
         "field": "VRDeck_bin",
         "type": "nominal"
        }
       },
       "mark": "bar"
      },
      "image/png": "[encoded data removed]",
      "text/plain": [
       "<VegaLite 4 object>\n",
       "\n",
       "If you see this message, it means the renderer has not been properly enabled\n",
       "for the frontend that you are using. For more information, see\n",
       "https://altair-viz.github.io/user_guide/troubleshooting.html\n"
      ]
     },
     "execution_count": 31,
     "metadata": {},
     "output_type": "execute_result"
    }
   ],
   "source": [
    "# Perform EDA\n",
    "\n",
    "plot_vrdeck_bin = alt.Chart(train_df).mark_bar().encode(\n",
    "    y=\"VRDeck_bin\",\n",
    "    x='count()',\n",
    "    fill='Transported'\n",
    ")\n",
    "plot_vrdeck_bin"
   ]
  },
  {
   "cell_type": "markdown",
   "id": "064648c7-8f40-4c2a-835f-2dc3a84f03ea",
   "metadata": {},
   "source": [
    "#### 11. Wrangling on `Name`"
   ]
  },
  {
   "cell_type": "code",
   "execution_count": 32,
   "id": "f25dde9f-abf9-42b0-8e71-9ad6a0ab9097",
   "metadata": {},
   "outputs": [
    {
     "data": {
      "text/plain": [
       "8473"
      ]
     },
     "execution_count": 32,
     "metadata": {},
     "output_type": "execute_result"
    }
   ],
   "source": [
    "train_df[\"Name\"].nunique()"
   ]
  },
  {
   "cell_type": "code",
   "execution_count": 33,
   "id": "196bfea9-f6c5-461e-a5d8-32ff0593a1ad",
   "metadata": {},
   "outputs": [],
   "source": [
    "# Split `Name` into first and last names\n",
    "\n",
    "train_df[['Name_first', 'Name_last']] = train_df[\"Name\"].str.split(\" \", expand=True)"
   ]
  },
  {
   "cell_type": "code",
   "execution_count": 34,
   "id": "48417014-1784-4f69-8bb4-ebdc78a42b2d",
   "metadata": {},
   "outputs": [
    {
     "data": {
      "text/plain": [
       "2706"
      ]
     },
     "execution_count": 34,
     "metadata": {},
     "output_type": "execute_result"
    }
   ],
   "source": [
    "train_df[\"Name_first\"].nunique()"
   ]
  },
  {
   "cell_type": "code",
   "execution_count": 35,
   "id": "6145e08d-dfe1-4cb8-aeb1-7a2c69e8fdb5",
   "metadata": {
    "tags": []
   },
   "outputs": [
    {
     "data": {
      "text/plain": [
       "2217"
      ]
     },
     "execution_count": 35,
     "metadata": {},
     "output_type": "execute_result"
    }
   ],
   "source": [
    "train_df[\"Name_last\"].nunique()"
   ]
  },
  {
   "cell_type": "code",
   "execution_count": 36,
   "id": "0e5a599e-fa13-4d81-98e0-8e7ca5ac5ec3",
   "metadata": {},
   "outputs": [
    {
     "data": {
      "text/plain": [
       "Casonston      18\n",
       "Oneiles        16\n",
       "Domington      15\n",
       "Litthews       15\n",
       "Garnes         14\n",
       "               ..\n",
       "Sionerorly      1\n",
       "Cookentaney     1\n",
       "Tiouserful      1\n",
       "Irwinson        1\n",
       "Freptic         1\n",
       "Name: Name_last, Length: 2217, dtype: int64"
      ]
     },
     "execution_count": 36,
     "metadata": {},
     "output_type": "execute_result"
    }
   ],
   "source": [
    "train_df[\"Name_last\"].value_counts()"
   ]
  },
  {
   "cell_type": "code",
   "execution_count": 37,
   "id": "3a67b40f-e7d3-470e-9e3f-d253c6912bfe",
   "metadata": {},
   "outputs": [],
   "source": [
    "# Makes a dictionary using the last name and the number of corresponding last names\n",
    "\n",
    "num_last_name = train_df[\"Name_last\"].value_counts()\n",
    "last_name_dict = dict(num_last_name)"
   ]
  },
  {
   "cell_type": "code",
   "execution_count": 38,
   "id": "dcae7aa3-ccb5-43c3-994b-1d033d29fc48",
   "metadata": {},
   "outputs": [],
   "source": [
    "# Create separate column with the number of the corresponding last names\n",
    "\n",
    "for name, num in last_name_dict.items():\n",
    "    train_df.loc[train_df[\"Name_last\"] == name, \"num_of_Name_last\"] = num"
   ]
  },
  {
   "cell_type": "code",
   "execution_count": 39,
   "id": "77fdd89d-b5a3-4e24-8d24-ab70c2dbd2d2",
   "metadata": {},
   "outputs": [
    {
     "data": {
      "application/vnd.vegalite.v4+json": {
       "$schema": "https://vega.github.io/schema/vega-lite/v4.8.1.json",
       "config": {
        "view": {
         "continuousHeight": 300,
         "continuousWidth": 400
        }
       },
       "data": {
        "url": "http://localhost:18840/ed2dee6398098a0260289e4268c6f48a.json"
       },
       "encoding": {
        "fill": {
         "field": "Transported",
         "type": "nominal"
        },
        "x": {
         "bin": {
          "maxbins": 20
         },
         "field": "num_of_Name_last",
         "type": "quantitative"
        },
        "y": {
         "aggregate": "count",
         "type": "quantitative"
        }
       },
       "mark": "bar"
      },
      "image/png": "[encoded data removed]",
      "text/plain": [
       "<VegaLite 4 object>\n",
       "\n",
       "If you see this message, it means the renderer has not been properly enabled\n",
       "for the frontend that you are using. For more information, see\n",
       "https://altair-viz.github.io/user_guide/troubleshooting.html\n"
      ]
     },
     "execution_count": 39,
     "metadata": {},
     "output_type": "execute_result"
    }
   ],
   "source": [
    "lastname_histogram = alt.Chart(train_df).mark_bar().encode(\n",
    "    alt.X('num_of_Name_last', bin=alt.Bin(maxbins=20)), \n",
    "    y='count()',\n",
    "    fill='Transported')\n",
    "lastname_histogram"
   ]
  },
  {
   "cell_type": "code",
   "execution_count": 40,
   "id": "e695ac6a-7234-4470-bfe0-52c94dfcba36",
   "metadata": {},
   "outputs": [
    {
     "data": {
      "text/plain": [
       "200"
      ]
     },
     "execution_count": 40,
     "metadata": {},
     "output_type": "execute_result"
    }
   ],
   "source": [
    "train_df[\"num_of_Name_last\"].isna().sum()"
   ]
  },
  {
   "cell_type": "code",
   "execution_count": 41,
   "id": "510d6290-ed98-44fe-90ef-38a90523d4c0",
   "metadata": {},
   "outputs": [],
   "source": [
    "# Impute the missing names\n",
    "\n",
    "train_df[\"num_of_Name_last\"] = train_df[\"num_of_Name_last\"].fillna(1)"
   ]
  },
  {
   "cell_type": "code",
   "execution_count": 42,
   "id": "8550b5d0-97c3-4d8a-959f-285656ae99d7",
   "metadata": {},
   "outputs": [],
   "source": [
    "# Create groups for number of last name\n",
    "\n",
    "train_df['num_of_Name_last'] = pd.cut(\n",
    "    train_df['num_of_Name_last'], \n",
    "    bins=[-100, 1.001, 15, 20], \n",
    "    labels=['fam1', 'fam2-15', 'fam15-20']\n",
    ")"
   ]
  },
  {
   "cell_type": "code",
   "execution_count": 43,
   "id": "5bf093ec-3c46-4dc0-8949-06e7e47a2643",
   "metadata": {},
   "outputs": [
    {
     "data": {
      "application/vnd.vegalite.v4+json": {
       "$schema": "https://vega.github.io/schema/vega-lite/v4.8.1.json",
       "config": {
        "view": {
         "continuousHeight": 300,
         "continuousWidth": 400
        }
       },
       "data": {
        "url": "http://localhost:18840/913af9e317e01d484a145ffeb8ffd7ec.json"
       },
       "encoding": {
        "fill": {
         "field": "Transported",
         "type": "nominal"
        },
        "x": {
         "aggregate": "count",
         "type": "quantitative"
        },
        "y": {
         "field": "num_of_Name_last",
         "type": "nominal"
        }
       },
       "mark": "bar"
      },
      "image/png": "[encoded data removed]",
      "text/plain": [
       "<VegaLite 4 object>\n",
       "\n",
       "If you see this message, it means the renderer has not been properly enabled\n",
       "for the frontend that you are using. For more information, see\n",
       "https://altair-viz.github.io/user_guide/troubleshooting.html\n"
      ]
     },
     "execution_count": 43,
     "metadata": {},
     "output_type": "execute_result"
    }
   ],
   "source": [
    "# Perform EDA\n",
    "\n",
    "plot_num_lastname = alt.Chart(train_df).mark_bar().encode(\n",
    "    y=\"num_of_Name_last\",\n",
    "    x='count()',\n",
    "    fill='Transported'\n",
    ")\n",
    "plot_num_lastname"
   ]
  },
  {
   "cell_type": "code",
   "execution_count": 44,
   "id": "0ee0835f-3a91-4f5c-89ea-7405112da7f1",
   "metadata": {},
   "outputs": [
    {
     "name": "stdout",
     "output_type": "stream",
     "text": [
      "<class 'pandas.core.frame.DataFrame'>\n",
      "Index: 8693 entries, 4903_01 to 6174_03\n",
      "Data columns (total 37 columns):\n",
      " #   Column                Non-Null Count  Dtype   \n",
      "---  ------                --------------  -----   \n",
      " 0   HomePlanet            8693 non-null   object  \n",
      " 1   CryoSleep             8693 non-null   bool    \n",
      " 2   Cabin                 8693 non-null   object  \n",
      " 3   Destination           8693 non-null   object  \n",
      " 4   Age                   8693 non-null   float64 \n",
      " 5   VIP                   8693 non-null   bool    \n",
      " 6   RoomService           8693 non-null   float64 \n",
      " 7   FoodCourt             8693 non-null   float64 \n",
      " 8   ShoppingMall          8693 non-null   float64 \n",
      " 9   Spa                   8693 non-null   float64 \n",
      " 10  VRDeck                8693 non-null   float64 \n",
      " 11  Name                  8493 non-null   object  \n",
      " 12  Transported           8693 non-null   bool    \n",
      " 13  HomePlanet_missing    8693 non-null   bool    \n",
      " 14  CryoSleep_missing     8693 non-null   bool    \n",
      " 15  Cabin_missing         8693 non-null   bool    \n",
      " 16  Destination_missing   8693 non-null   bool    \n",
      " 17  Age_missing           8693 non-null   bool    \n",
      " 18  VIP_missing           8693 non-null   bool    \n",
      " 19  RoomService_missing   8693 non-null   bool    \n",
      " 20  FoodCourt_missing     8693 non-null   bool    \n",
      " 21  ShoppingMall_missing  8693 non-null   bool    \n",
      " 22  Spa_missing           8693 non-null   bool    \n",
      " 23  VRDeck_missing        8693 non-null   bool    \n",
      " 24  Name_missing          8693 non-null   bool    \n",
      " 25  Cabin_dec             8693 non-null   object  \n",
      " 26  Cabin_num             8693 non-null   object  \n",
      " 27  Cabin_side            8693 non-null   object  \n",
      " 28  Age_bin               8693 non-null   category\n",
      " 29  RoomService_bin       8693 non-null   category\n",
      " 30  FoodCourt_bin         8693 non-null   category\n",
      " 31  ShoppingMall_bin      8693 non-null   category\n",
      " 32  Spa_bin               8693 non-null   category\n",
      " 33  VRDeck_bin            8693 non-null   category\n",
      " 34  Name_first            8493 non-null   object  \n",
      " 35  Name_last             8493 non-null   object  \n",
      " 36  num_of_Name_last      8693 non-null   category\n",
      "dtypes: bool(15), category(7), float64(6), object(9)\n",
      "memory usage: 1.5+ MB\n"
     ]
    }
   ],
   "source": [
    "train_df.info()"
   ]
  },
  {
   "cell_type": "code",
   "execution_count": 45,
   "id": "b5b450cc-1962-4a6c-a0ec-1bdc10b239f7",
   "metadata": {},
   "outputs": [],
   "source": [
    "X_train, y_train = train_df.drop(columns=['Transported']), train_df['Transported']"
   ]
  },
  {
   "cell_type": "code",
   "execution_count": 46,
   "id": "a995b523-42bf-45e9-953a-3b55e275710a",
   "metadata": {},
   "outputs": [],
   "source": [
    "y_train = y_train.astype(int)"
   ]
  },
  {
   "cell_type": "markdown",
   "id": "fa037069-be59-4533-9d9e-7108ecb53f7a",
   "metadata": {},
   "source": [
    "# Feature Selection"
   ]
  },
  {
   "cell_type": "code",
   "execution_count": 47,
   "id": "55b2c404-5442-4c14-a0b1-135c8e5142af",
   "metadata": {},
   "outputs": [],
   "source": [
    "binary_features = [\"HomePlanet_missing\", \"CryoSleep_missing\", \"Cabin_missing\",\n",
    "                   \"Destination_missing\", \"Age_missing\", \"VIP_missing\",\n",
    "                   \"RoomService_missing\", \"FoodCourt_missing\", \"ShoppingMall_missing\",\n",
    "                   \"Spa_missing\", \"VRDeck_missing\", \"Name_missing\"]\n",
    "\n",
    "ordinal_age_features = [\"Age_bin\"]\n",
    "ordinal_age_order = [\n",
    "    ['unknown', 'Children', 'Teenage', '20s', '30-40s', '50-60s', 'Elder']\n",
    "]\n",
    "\n",
    "ordinal_roomservice_features = [\"RoomService_bin\"]\n",
    "ordinal_roomservice_order = [\n",
    "    ['unknown', 'RS$0', 'RS$0-100', 'RS$100-200', 'RS$200-400', 'RS$400-900', 'RS$900-2400', 'RS$2400-15000']\n",
    "]\n",
    "\n",
    "ordinal_foodcourt_features = [\"FoodCourt_bin\"]\n",
    "ordinal_foodcourt_order = [\n",
    "    ['unknown', 'FC$0', 'FC$0-100', 'FC$100-500', 'FC$500-900', 'FC$900-2000', 'FC$2000-30000']\n",
    "]\n",
    "\n",
    "ordinal_shoppingmall_features = [\"ShoppingMall_bin\"]\n",
    "ordinal_shoppingmall_order = [\n",
    "    ['unknown', 'SM$0', 'SM$0-100', 'SM$100-200', 'SM$200-600', 'SM$600-1200', 'SM$1200-2000', 'SM$2000-30000']\n",
    "]\n",
    "\n",
    "ordinal_spa_features = [\"Spa_bin\"]\n",
    "ordinal_spa_order = [\n",
    "    ['unknown', 'Sp$0', 'Sp$0-100', 'Sp$100-200', 'Sp$200-600', 'Sp$600-1200', 'Sp$1200-2000', 'Sp$2000-30000']\n",
    "]\n",
    "\n",
    "ordinal_vrdeck_features = [\"VRDeck_bin\"]\n",
    "ordinal_vrdeck_order = [\n",
    "    ['unknown', 'VR$0', 'VR$0-100', 'VR$100-200', 'VR$200-600', 'VR$600-1000', 'VR$1000-2000', 'VR$2000-30000']\n",
    "]\n",
    "\n",
    "ordinal_numlastname_features = [\"num_of_Name_last\"]\n",
    "ordinal_numlastname_order = [\n",
    "    ['unknown', 'fam1', 'fam2-15', 'fam15-20']\n",
    "]\n",
    "\n",
    "categorical_features = [\"HomePlanet\", \"CryoSleep\", \"Destination\", \"VIP\",\n",
    "                        \"Cabin_dec\", \"Cabin_side\"]\n",
    "\n",
    "drop_features = [\"Cabin\", \"Age\", \"RoomService\", \"FoodCourt\", \"ShoppingMall\",\n",
    "                 \"Spa\", \"VRDeck\", \"Name\", \"HomePlanet_missing\",\n",
    "                 \"CryoSleep_missing\", \"Cabin_missing\", \"Destination_missing\",\n",
    "                 \"Age_missing\", \"VIP_missing\", \"RoomService_missing\",\n",
    "                 \"FoodCourt_missing\", \"ShoppingMall_missing\", \"Spa_missing\",\n",
    "                 \"VRDeck_missing\", \"Name_missing\", \"Cabin_num\", \"Name_first\",\n",
    "                 \"Name_last\"]"
   ]
  },
  {
   "cell_type": "code",
   "execution_count": 48,
   "id": "6999de2b-14eb-4221-aea7-d800e5365f33",
   "metadata": {},
   "outputs": [],
   "source": [
    "ct = make_column_transformer(\n",
    "    (\n",
    "        OneHotEncoder(drop=\"if_binary\", dtype=int, sparse=False, handle_unknown=\"ignore\"), \n",
    "        binary_features\n",
    "    ),\n",
    "    (\n",
    "        OrdinalEncoder(categories=ordinal_age_order),\n",
    "        ordinal_age_features\n",
    "    ),\n",
    "    (\n",
    "        OrdinalEncoder(categories=ordinal_roomservice_order),\n",
    "        ordinal_roomservice_features\n",
    "    ),\n",
    "    (\n",
    "        OrdinalEncoder(categories=ordinal_foodcourt_order),\n",
    "        ordinal_foodcourt_features\n",
    "    ),\n",
    "    (\n",
    "        OrdinalEncoder(categories=ordinal_shoppingmall_order),\n",
    "        ordinal_shoppingmall_features\n",
    "    ),\n",
    "    (\n",
    "        OrdinalEncoder(categories=ordinal_spa_order),\n",
    "        ordinal_spa_features\n",
    "    ),\n",
    "    (\n",
    "        OrdinalEncoder(categories=ordinal_vrdeck_order),\n",
    "        ordinal_vrdeck_features\n",
    "    ),\n",
    "    (\n",
    "        OrdinalEncoder(categories=ordinal_numlastname_order),\n",
    "        ordinal_numlastname_features\n",
    "    ),\n",
    "    (\n",
    "        make_pipeline(\n",
    "            OneHotEncoder(handle_unknown=\"ignore\")\n",
    "        ), categorical_features\n",
    "    ),\n",
    "    (\"drop\", drop_features)\n",
    ")"
   ]
  },
  {
   "cell_type": "markdown",
   "id": "c36a711b-2961-46c9-8dd6-d1943af999f6",
   "metadata": {},
   "source": [
    "# Machine Learning"
   ]
  },
  {
   "cell_type": "markdown",
   "id": "690fa10f-4ca0-40a0-a1ce-72b26566058c",
   "metadata": {},
   "source": [
    "#### 1. Baseline Model"
   ]
  },
  {
   "cell_type": "code",
   "execution_count": 49,
   "id": "4d4ee99d-6855-49cc-8ddd-967f216b6d7e",
   "metadata": {},
   "outputs": [],
   "source": [
    "# To prevent errors\n",
    "\n",
    "X_train[\"HomePlanet\"] = X_train[\"HomePlanet\"].astype(str)\n",
    "X_train[\"CryoSleep\"] = X_train[\"CryoSleep\"].astype(str)\n",
    "X_train[\"Destination\"] = X_train[\"Destination\"].astype(str)\n",
    "X_train[\"VIP\"] = X_train[\"VIP\"].astype(str)\n",
    "X_train[\"Cabin_dec\"] = X_train[\"Cabin_dec\"].astype(str)\n",
    "X_train[\"Cabin_side\"] = X_train[\"Cabin_side\"].astype(str)"
   ]
  },
  {
   "cell_type": "code",
   "execution_count": 50,
   "id": "d2fb22dc-e41a-4ccb-874f-a74c3f7cb8df",
   "metadata": {},
   "outputs": [],
   "source": [
    "results = {}"
   ]
  },
  {
   "cell_type": "code",
   "execution_count": 51,
   "id": "26bd6024-3e27-445e-9a04-928c24ca47d6",
   "metadata": {
    "tags": []
   },
   "outputs": [],
   "source": [
    "pipe_dummy = make_pipeline(ct, DummyClassifier())"
   ]
  },
  {
   "cell_type": "code",
   "execution_count": 52,
   "id": "684a0ac0-157e-485f-83bc-4254f427d533",
   "metadata": {},
   "outputs": [],
   "source": [
    "results[\"Dummy\"] = mean_std_cross_val_scores(\n",
    "    pipe_dummy, X_train, y_train, return_train_score=True\n",
    ")"
   ]
  },
  {
   "cell_type": "code",
   "execution_count": 53,
   "id": "26d60eed-2d60-409f-816b-bed638772570",
   "metadata": {},
   "outputs": [
    {
     "data": {
      "text/html": [
       "<div>\n",
       "<style scoped>\n",
       "    .dataframe tbody tr th:only-of-type {\n",
       "        vertical-align: middle;\n",
       "    }\n",
       "\n",
       "    .dataframe tbody tr th {\n",
       "        vertical-align: top;\n",
       "    }\n",
       "\n",
       "    .dataframe thead th {\n",
       "        text-align: right;\n",
       "    }\n",
       "</style>\n",
       "<table border=\"1\" class=\"dataframe\">\n",
       "  <thead>\n",
       "    <tr style=\"text-align: right;\">\n",
       "      <th></th>\n",
       "      <th>Dummy</th>\n",
       "    </tr>\n",
       "  </thead>\n",
       "  <tbody>\n",
       "    <tr>\n",
       "      <th>fit_time</th>\n",
       "      <td>0.042 (+/- 0.005)</td>\n",
       "    </tr>\n",
       "    <tr>\n",
       "      <th>score_time</th>\n",
       "      <td>0.015 (+/- 0.001)</td>\n",
       "    </tr>\n",
       "    <tr>\n",
       "      <th>test_score</th>\n",
       "      <td>0.504 (+/- 0.000)</td>\n",
       "    </tr>\n",
       "    <tr>\n",
       "      <th>train_score</th>\n",
       "      <td>0.504 (+/- 0.000)</td>\n",
       "    </tr>\n",
       "  </tbody>\n",
       "</table>\n",
       "</div>"
      ],
      "text/plain": [
       "                         Dummy\n",
       "fit_time     0.042 (+/- 0.005)\n",
       "score_time   0.015 (+/- 0.001)\n",
       "test_score   0.504 (+/- 0.000)\n",
       "train_score  0.504 (+/- 0.000)"
      ]
     },
     "execution_count": 53,
     "metadata": {},
     "output_type": "execute_result"
    }
   ],
   "source": [
    "pd.DataFrame(results)"
   ]
  },
  {
   "cell_type": "markdown",
   "id": "8bf3b172-30c0-4fc6-923f-a04dad52758c",
   "metadata": {},
   "source": [
    "#### 2. Various ML Models"
   ]
  },
  {
   "cell_type": "code",
   "execution_count": 54,
   "id": "a8d4b1bc-24a3-40a5-90b8-8470c22c19be",
   "metadata": {},
   "outputs": [],
   "source": [
    "pipe_dt = make_pipeline(ct, DecisionTreeClassifier(random_state=123))\n",
    "pipe_lr = make_pipeline(ct, LogisticRegression(max_iter=2000, random_state=123))\n",
    "pipe_nb = make_pipeline(ct, MultinomialNB())\n",
    "pipe_svc = make_pipeline(ct, SVC(random_state=123))\n",
    "pipe_rf = make_pipeline(ct, RandomForestClassifier(random_state=123))\n",
    "pipe_xgb = make_pipeline(ct, XGBClassifier(random_state=123, verbosity=0))\n",
    "pipe_lgbm = make_pipeline(ct, LGBMClassifier(random_state=123))\n",
    "pipe_catb = make_pipeline(ct, CatBoostClassifier(random_state=123, verbose=0))"
   ]
  },
  {
   "cell_type": "code",
   "execution_count": 55,
   "id": "26681171-3211-4740-833c-5e4ec763ba1a",
   "metadata": {},
   "outputs": [],
   "source": [
    "models = {\n",
    "    \"decision_tree\": pipe_dt,\n",
    "    \"logistic_regression\": pipe_lr,\n",
    "    \"naive_bayes\": pipe_nb,\n",
    "    \"SVC\": pipe_svc,\n",
    "    \"random_forest\": pipe_rf,\n",
    "    \"XGBoost\": pipe_xgb,\n",
    "    \"LightGBM\": pipe_lgbm,\n",
    "    \"CatBoost\": pipe_catb\n",
    "}"
   ]
  },
  {
   "cell_type": "code",
   "execution_count": 56,
   "id": "5c16555c-2007-4def-94fc-c52d0bdabfab",
   "metadata": {},
   "outputs": [
    {
     "name": "stderr",
     "output_type": "stream",
     "text": [
      "C:\\Users\\johnw\\miniconda3\\envs\\573\\lib\\site-packages\\xgboost\\sklearn.py:888: UserWarning: The use of label encoder in XGBClassifier is deprecated and will be removed in a future release. To remove this warning, do the following: 1) Pass option use_label_encoder=False when constructing XGBClassifier object; and 2) Encode your labels (y) as integers starting with 0, i.e. 0, 1, 2, ..., [num_class - 1].\n",
      "  warnings.warn(label_encoder_deprecation_msg, UserWarning)\n",
      "C:\\Users\\johnw\\miniconda3\\envs\\573\\lib\\site-packages\\xgboost\\sklearn.py:888: UserWarning: The use of label encoder in XGBClassifier is deprecated and will be removed in a future release. To remove this warning, do the following: 1) Pass option use_label_encoder=False when constructing XGBClassifier object; and 2) Encode your labels (y) as integers starting with 0, i.e. 0, 1, 2, ..., [num_class - 1].\n",
      "  warnings.warn(label_encoder_deprecation_msg, UserWarning)\n",
      "C:\\Users\\johnw\\miniconda3\\envs\\573\\lib\\site-packages\\xgboost\\sklearn.py:888: UserWarning: The use of label encoder in XGBClassifier is deprecated and will be removed in a future release. To remove this warning, do the following: 1) Pass option use_label_encoder=False when constructing XGBClassifier object; and 2) Encode your labels (y) as integers starting with 0, i.e. 0, 1, 2, ..., [num_class - 1].\n",
      "  warnings.warn(label_encoder_deprecation_msg, UserWarning)\n",
      "C:\\Users\\johnw\\miniconda3\\envs\\573\\lib\\site-packages\\xgboost\\sklearn.py:888: UserWarning: The use of label encoder in XGBClassifier is deprecated and will be removed in a future release. To remove this warning, do the following: 1) Pass option use_label_encoder=False when constructing XGBClassifier object; and 2) Encode your labels (y) as integers starting with 0, i.e. 0, 1, 2, ..., [num_class - 1].\n",
      "  warnings.warn(label_encoder_deprecation_msg, UserWarning)\n",
      "C:\\Users\\johnw\\miniconda3\\envs\\573\\lib\\site-packages\\xgboost\\sklearn.py:888: UserWarning: The use of label encoder in XGBClassifier is deprecated and will be removed in a future release. To remove this warning, do the following: 1) Pass option use_label_encoder=False when constructing XGBClassifier object; and 2) Encode your labels (y) as integers starting with 0, i.e. 0, 1, 2, ..., [num_class - 1].\n",
      "  warnings.warn(label_encoder_deprecation_msg, UserWarning)\n"
     ]
    }
   ],
   "source": [
    "for (name, model) in models.items():\n",
    "    results[name] = mean_std_cross_val_scores(\n",
    "        model, X_train, y_train, return_train_score=True\n",
    "    )"
   ]
  },
  {
   "cell_type": "code",
   "execution_count": 57,
   "id": "8a2ab42a-939a-4d3b-af2d-a46d95650174",
   "metadata": {},
   "outputs": [
    {
     "data": {
      "text/html": [
       "<div>\n",
       "<style scoped>\n",
       "    .dataframe tbody tr th:only-of-type {\n",
       "        vertical-align: middle;\n",
       "    }\n",
       "\n",
       "    .dataframe tbody tr th {\n",
       "        vertical-align: top;\n",
       "    }\n",
       "\n",
       "    .dataframe thead th {\n",
       "        text-align: right;\n",
       "    }\n",
       "</style>\n",
       "<table border=\"1\" class=\"dataframe\">\n",
       "  <thead>\n",
       "    <tr style=\"text-align: right;\">\n",
       "      <th></th>\n",
       "      <th>Dummy</th>\n",
       "      <th>decision_tree</th>\n",
       "      <th>logistic_regression</th>\n",
       "      <th>naive_bayes</th>\n",
       "      <th>SVC</th>\n",
       "      <th>random_forest</th>\n",
       "      <th>XGBoost</th>\n",
       "      <th>LightGBM</th>\n",
       "      <th>CatBoost</th>\n",
       "    </tr>\n",
       "  </thead>\n",
       "  <tbody>\n",
       "    <tr>\n",
       "      <th>fit_time</th>\n",
       "      <td>0.042 (+/- 0.005)</td>\n",
       "      <td>0.061 (+/- 0.001)</td>\n",
       "      <td>0.176 (+/- 0.016)</td>\n",
       "      <td>0.049 (+/- 0.002)</td>\n",
       "      <td>1.514 (+/- 0.084)</td>\n",
       "      <td>0.518 (+/- 0.006)</td>\n",
       "      <td>0.335 (+/- 0.017)</td>\n",
       "      <td>0.141 (+/- 0.007)</td>\n",
       "      <td>3.209 (+/- 0.050)</td>\n",
       "    </tr>\n",
       "    <tr>\n",
       "      <th>score_time</th>\n",
       "      <td>0.015 (+/- 0.001)</td>\n",
       "      <td>0.015 (+/- 0.001)</td>\n",
       "      <td>0.017 (+/- 0.002)</td>\n",
       "      <td>0.017 (+/- 0.001)</td>\n",
       "      <td>0.589 (+/- 0.018)</td>\n",
       "      <td>0.046 (+/- 0.001)</td>\n",
       "      <td>0.025 (+/- 0.001)</td>\n",
       "      <td>0.026 (+/- 0.001)</td>\n",
       "      <td>0.036 (+/- 0.001)</td>\n",
       "    </tr>\n",
       "    <tr>\n",
       "      <th>test_score</th>\n",
       "      <td>0.504 (+/- 0.000)</td>\n",
       "      <td>0.738 (+/- 0.008)</td>\n",
       "      <td>0.792 (+/- 0.010)</td>\n",
       "      <td>0.757 (+/- 0.003)</td>\n",
       "      <td>0.797 (+/- 0.005)</td>\n",
       "      <td>0.784 (+/- 0.006)</td>\n",
       "      <td>0.792 (+/- 0.007)</td>\n",
       "      <td>0.795 (+/- 0.008)</td>\n",
       "      <td>0.801 (+/- 0.010)</td>\n",
       "    </tr>\n",
       "    <tr>\n",
       "      <th>train_score</th>\n",
       "      <td>0.504 (+/- 0.000)</td>\n",
       "      <td>0.931 (+/- 0.001)</td>\n",
       "      <td>0.793 (+/- 0.002)</td>\n",
       "      <td>0.758 (+/- 0.002)</td>\n",
       "      <td>0.802 (+/- 0.002)</td>\n",
       "      <td>0.931 (+/- 0.001)</td>\n",
       "      <td>0.865 (+/- 0.001)</td>\n",
       "      <td>0.841 (+/- 0.003)</td>\n",
       "      <td>0.849 (+/- 0.001)</td>\n",
       "    </tr>\n",
       "  </tbody>\n",
       "</table>\n",
       "</div>"
      ],
      "text/plain": [
       "                         Dummy      decision_tree logistic_regression  \\\n",
       "fit_time     0.042 (+/- 0.005)  0.061 (+/- 0.001)   0.176 (+/- 0.016)   \n",
       "score_time   0.015 (+/- 0.001)  0.015 (+/- 0.001)   0.017 (+/- 0.002)   \n",
       "test_score   0.504 (+/- 0.000)  0.738 (+/- 0.008)   0.792 (+/- 0.010)   \n",
       "train_score  0.504 (+/- 0.000)  0.931 (+/- 0.001)   0.793 (+/- 0.002)   \n",
       "\n",
       "                   naive_bayes                SVC      random_forest  \\\n",
       "fit_time     0.049 (+/- 0.002)  1.514 (+/- 0.084)  0.518 (+/- 0.006)   \n",
       "score_time   0.017 (+/- 0.001)  0.589 (+/- 0.018)  0.046 (+/- 0.001)   \n",
       "test_score   0.757 (+/- 0.003)  0.797 (+/- 0.005)  0.784 (+/- 0.006)   \n",
       "train_score  0.758 (+/- 0.002)  0.802 (+/- 0.002)  0.931 (+/- 0.001)   \n",
       "\n",
       "                       XGBoost           LightGBM           CatBoost  \n",
       "fit_time     0.335 (+/- 0.017)  0.141 (+/- 0.007)  3.209 (+/- 0.050)  \n",
       "score_time   0.025 (+/- 0.001)  0.026 (+/- 0.001)  0.036 (+/- 0.001)  \n",
       "test_score   0.792 (+/- 0.007)  0.795 (+/- 0.008)  0.801 (+/- 0.010)  \n",
       "train_score  0.865 (+/- 0.001)  0.841 (+/- 0.003)  0.849 (+/- 0.001)  "
      ]
     },
     "execution_count": 57,
     "metadata": {},
     "output_type": "execute_result"
    }
   ],
   "source": [
    "pd.DataFrame(results)"
   ]
  },
  {
   "cell_type": "markdown",
   "id": "c91ececc-a718-4ef0-8b9f-c8fc98f53abd",
   "metadata": {},
   "source": [
    "# Feature Importance"
   ]
  },
  {
   "cell_type": "code",
   "execution_count": 58,
   "id": "ac0bcca1-44c8-424a-9274-491179c22350",
   "metadata": {},
   "outputs": [
    {
     "data": {
      "text/plain": [
       "Pipeline(steps=[('columntransformer',\n",
       "                 ColumnTransformer(transformers=[('onehotencoder',\n",
       "                                                  OneHotEncoder(drop='if_binary',\n",
       "                                                                dtype=<class 'int'>,\n",
       "                                                                handle_unknown='ignore',\n",
       "                                                                sparse=False),\n",
       "                                                  ['HomePlanet_missing',\n",
       "                                                   'CryoSleep_missing',\n",
       "                                                   'Cabin_missing',\n",
       "                                                   'Destination_missing',\n",
       "                                                   'Age_missing', 'VIP_missing',\n",
       "                                                   'RoomService_missing',\n",
       "                                                   'FoodCourt_missing',\n",
       "                                                   'ShoppingMall_missing',\n",
       "                                                   'Sp...\n",
       "                                                   'VRDeck', 'Name',\n",
       "                                                   'HomePlanet_missing',\n",
       "                                                   'CryoSleep_missing',\n",
       "                                                   'Cabin_missing',\n",
       "                                                   'Destination_missing',\n",
       "                                                   'Age_missing', 'VIP_missing',\n",
       "                                                   'RoomService_missing',\n",
       "                                                   'FoodCourt_missing',\n",
       "                                                   'ShoppingMall_missing',\n",
       "                                                   'Spa_missing',\n",
       "                                                   'VRDeck_missing',\n",
       "                                                   'Name_missing', 'Cabin_num',\n",
       "                                                   'Name_first',\n",
       "                                                   'Name_last'])])),\n",
       "                ('logisticregression',\n",
       "                 LogisticRegression(max_iter=2000, random_state=123))])"
      ]
     },
     "execution_count": 58,
     "metadata": {},
     "output_type": "execute_result"
    }
   ],
   "source": [
    "pipe_lr.fit(X_train, y_train)"
   ]
  },
  {
   "cell_type": "code",
   "execution_count": 59,
   "id": "39044f06-e8bd-42fd-8f39-5ad49d19b7ed",
   "metadata": {},
   "outputs": [],
   "source": [
    "categorical_columns = pipe_lr.named_steps[\"columntransformer\"].named_transformers_[\"pipeline\"].named_steps[\"onehotencoder\"].get_feature_names_out(categorical_features).tolist()"
   ]
  },
  {
   "cell_type": "code",
   "execution_count": 60,
   "id": "354705f4-1ff6-46b6-8227-671114d28f77",
   "metadata": {},
   "outputs": [],
   "source": [
    "columns = (binary_features + ordinal_age_features + ordinal_roomservice_features + ordinal_foodcourt_features +\n",
    "           ordinal_shoppingmall_features + ordinal_spa_features + ordinal_vrdeck_features +\n",
    "           ordinal_numlastname_features + categorical_columns)"
   ]
  },
  {
   "cell_type": "code",
   "execution_count": 61,
   "id": "48aaf1e5-098b-4966-87fe-06640ed72ad2",
   "metadata": {},
   "outputs": [
    {
     "data": {
      "image/png": "[encoded data removed]",
      "text/plain": [
       "<Figure size 432x288 with 1 Axes>"
      ]
     },
     "metadata": {
      "needs_background": "light"
     },
     "output_type": "display_data"
    }
   ],
   "source": [
    "top20_lr = pd.Series(abs(pipe_lr.named_steps[\"logisticregression\"].coef_.flatten()), columns).sort_values(ascending=False).head(20)\n",
    "top20_lr.plot.barh().invert_yaxis()\n",
    "plt.show();"
   ]
  },
  {
   "cell_type": "code",
   "execution_count": 62,
   "id": "9f21f114-f331-46d8-a293-abeb4f96cb0a",
   "metadata": {},
   "outputs": [
    {
     "data": {
      "image/png": "[encoded data removed]",
      "text/plain": [
       "<Figure size 432x288 with 1 Axes>"
      ]
     },
     "metadata": {
      "needs_background": "light"
     },
     "output_type": "display_data"
    }
   ],
   "source": [
    "top20_lr = pd.Series((pipe_lr.named_steps[\"logisticregression\"].coef_.flatten()), columns).sort_values(ascending=False).head(20)\n",
    "top20_lr.plot.barh().invert_yaxis()\n",
    "plt.show();"
   ]
  },
  {
   "cell_type": "markdown",
   "id": "6c96773c-e8a0-4c5c-9b44-78c4509d25c2",
   "metadata": {},
   "source": [
    "# Test Set Preparation"
   ]
  },
  {
   "cell_type": "markdown",
   "id": "6fcaca2a-15f6-4c0c-b638-39f66268ea7b",
   "metadata": {},
   "source": [
    "#### 1. Basic Analysis"
   ]
  },
  {
   "cell_type": "code",
   "execution_count": 63,
   "id": "60aeb9eb-6cda-4d79-a66d-dba636ead9d6",
   "metadata": {},
   "outputs": [
    {
     "data": {
      "text/html": [
       "<div>\n",
       "<style scoped>\n",
       "    .dataframe tbody tr th:only-of-type {\n",
       "        vertical-align: middle;\n",
       "    }\n",
       "\n",
       "    .dataframe tbody tr th {\n",
       "        vertical-align: top;\n",
       "    }\n",
       "\n",
       "    .dataframe thead th {\n",
       "        text-align: right;\n",
       "    }\n",
       "</style>\n",
       "<table border=\"1\" class=\"dataframe\">\n",
       "  <thead>\n",
       "    <tr style=\"text-align: right;\">\n",
       "      <th></th>\n",
       "      <th>PassengerId</th>\n",
       "      <th>HomePlanet</th>\n",
       "      <th>CryoSleep</th>\n",
       "      <th>Cabin</th>\n",
       "      <th>Destination</th>\n",
       "      <th>Age</th>\n",
       "      <th>VIP</th>\n",
       "      <th>RoomService</th>\n",
       "      <th>FoodCourt</th>\n",
       "      <th>ShoppingMall</th>\n",
       "      <th>Spa</th>\n",
       "      <th>VRDeck</th>\n",
       "      <th>Name</th>\n",
       "    </tr>\n",
       "  </thead>\n",
       "  <tbody>\n",
       "    <tr>\n",
       "      <th>0</th>\n",
       "      <td>0013_01</td>\n",
       "      <td>Earth</td>\n",
       "      <td>True</td>\n",
       "      <td>G/3/S</td>\n",
       "      <td>TRAPPIST-1e</td>\n",
       "      <td>27.0</td>\n",
       "      <td>False</td>\n",
       "      <td>0.0</td>\n",
       "      <td>0.0</td>\n",
       "      <td>0.0</td>\n",
       "      <td>0.0</td>\n",
       "      <td>0.0</td>\n",
       "      <td>Nelly Carsoning</td>\n",
       "    </tr>\n",
       "    <tr>\n",
       "      <th>1</th>\n",
       "      <td>0018_01</td>\n",
       "      <td>Earth</td>\n",
       "      <td>False</td>\n",
       "      <td>F/4/S</td>\n",
       "      <td>TRAPPIST-1e</td>\n",
       "      <td>19.0</td>\n",
       "      <td>False</td>\n",
       "      <td>0.0</td>\n",
       "      <td>9.0</td>\n",
       "      <td>0.0</td>\n",
       "      <td>2823.0</td>\n",
       "      <td>0.0</td>\n",
       "      <td>Lerome Peckers</td>\n",
       "    </tr>\n",
       "    <tr>\n",
       "      <th>2</th>\n",
       "      <td>0019_01</td>\n",
       "      <td>Europa</td>\n",
       "      <td>True</td>\n",
       "      <td>C/0/S</td>\n",
       "      <td>55 Cancri e</td>\n",
       "      <td>31.0</td>\n",
       "      <td>False</td>\n",
       "      <td>0.0</td>\n",
       "      <td>0.0</td>\n",
       "      <td>0.0</td>\n",
       "      <td>0.0</td>\n",
       "      <td>0.0</td>\n",
       "      <td>Sabih Unhearfus</td>\n",
       "    </tr>\n",
       "    <tr>\n",
       "      <th>3</th>\n",
       "      <td>0021_01</td>\n",
       "      <td>Europa</td>\n",
       "      <td>False</td>\n",
       "      <td>C/1/S</td>\n",
       "      <td>TRAPPIST-1e</td>\n",
       "      <td>38.0</td>\n",
       "      <td>False</td>\n",
       "      <td>0.0</td>\n",
       "      <td>6652.0</td>\n",
       "      <td>0.0</td>\n",
       "      <td>181.0</td>\n",
       "      <td>585.0</td>\n",
       "      <td>Meratz Caltilter</td>\n",
       "    </tr>\n",
       "    <tr>\n",
       "      <th>4</th>\n",
       "      <td>0023_01</td>\n",
       "      <td>Earth</td>\n",
       "      <td>False</td>\n",
       "      <td>F/5/S</td>\n",
       "      <td>TRAPPIST-1e</td>\n",
       "      <td>20.0</td>\n",
       "      <td>False</td>\n",
       "      <td>10.0</td>\n",
       "      <td>0.0</td>\n",
       "      <td>635.0</td>\n",
       "      <td>0.0</td>\n",
       "      <td>0.0</td>\n",
       "      <td>Brence Harperez</td>\n",
       "    </tr>\n",
       "    <tr>\n",
       "      <th>...</th>\n",
       "      <td>...</td>\n",
       "      <td>...</td>\n",
       "      <td>...</td>\n",
       "      <td>...</td>\n",
       "      <td>...</td>\n",
       "      <td>...</td>\n",
       "      <td>...</td>\n",
       "      <td>...</td>\n",
       "      <td>...</td>\n",
       "      <td>...</td>\n",
       "      <td>...</td>\n",
       "      <td>...</td>\n",
       "      <td>...</td>\n",
       "    </tr>\n",
       "    <tr>\n",
       "      <th>4272</th>\n",
       "      <td>9266_02</td>\n",
       "      <td>Earth</td>\n",
       "      <td>True</td>\n",
       "      <td>G/1496/S</td>\n",
       "      <td>TRAPPIST-1e</td>\n",
       "      <td>34.0</td>\n",
       "      <td>False</td>\n",
       "      <td>0.0</td>\n",
       "      <td>0.0</td>\n",
       "      <td>0.0</td>\n",
       "      <td>0.0</td>\n",
       "      <td>0.0</td>\n",
       "      <td>Jeron Peter</td>\n",
       "    </tr>\n",
       "    <tr>\n",
       "      <th>4273</th>\n",
       "      <td>9269_01</td>\n",
       "      <td>Earth</td>\n",
       "      <td>False</td>\n",
       "      <td>NaN</td>\n",
       "      <td>TRAPPIST-1e</td>\n",
       "      <td>42.0</td>\n",
       "      <td>False</td>\n",
       "      <td>0.0</td>\n",
       "      <td>847.0</td>\n",
       "      <td>17.0</td>\n",
       "      <td>10.0</td>\n",
       "      <td>144.0</td>\n",
       "      <td>Matty Scheron</td>\n",
       "    </tr>\n",
       "    <tr>\n",
       "      <th>4274</th>\n",
       "      <td>9271_01</td>\n",
       "      <td>Mars</td>\n",
       "      <td>True</td>\n",
       "      <td>D/296/P</td>\n",
       "      <td>55 Cancri e</td>\n",
       "      <td>NaN</td>\n",
       "      <td>False</td>\n",
       "      <td>0.0</td>\n",
       "      <td>0.0</td>\n",
       "      <td>0.0</td>\n",
       "      <td>0.0</td>\n",
       "      <td>0.0</td>\n",
       "      <td>Jayrin Pore</td>\n",
       "    </tr>\n",
       "    <tr>\n",
       "      <th>4275</th>\n",
       "      <td>9273_01</td>\n",
       "      <td>Europa</td>\n",
       "      <td>False</td>\n",
       "      <td>D/297/P</td>\n",
       "      <td>NaN</td>\n",
       "      <td>NaN</td>\n",
       "      <td>False</td>\n",
       "      <td>0.0</td>\n",
       "      <td>2680.0</td>\n",
       "      <td>0.0</td>\n",
       "      <td>0.0</td>\n",
       "      <td>523.0</td>\n",
       "      <td>Kitakan Conale</td>\n",
       "    </tr>\n",
       "    <tr>\n",
       "      <th>4276</th>\n",
       "      <td>9277_01</td>\n",
       "      <td>Earth</td>\n",
       "      <td>True</td>\n",
       "      <td>G/1498/S</td>\n",
       "      <td>PSO J318.5-22</td>\n",
       "      <td>43.0</td>\n",
       "      <td>False</td>\n",
       "      <td>0.0</td>\n",
       "      <td>0.0</td>\n",
       "      <td>0.0</td>\n",
       "      <td>0.0</td>\n",
       "      <td>0.0</td>\n",
       "      <td>Lilace Leonzaley</td>\n",
       "    </tr>\n",
       "  </tbody>\n",
       "</table>\n",
       "<p>4277 rows × 13 columns</p>\n",
       "</div>"
      ],
      "text/plain": [
       "     PassengerId HomePlanet CryoSleep     Cabin    Destination   Age    VIP  \\\n",
       "0        0013_01      Earth      True     G/3/S    TRAPPIST-1e  27.0  False   \n",
       "1        0018_01      Earth     False     F/4/S    TRAPPIST-1e  19.0  False   \n",
       "2        0019_01     Europa      True     C/0/S    55 Cancri e  31.0  False   \n",
       "3        0021_01     Europa     False     C/1/S    TRAPPIST-1e  38.0  False   \n",
       "4        0023_01      Earth     False     F/5/S    TRAPPIST-1e  20.0  False   \n",
       "...          ...        ...       ...       ...            ...   ...    ...   \n",
       "4272     9266_02      Earth      True  G/1496/S    TRAPPIST-1e  34.0  False   \n",
       "4273     9269_01      Earth     False       NaN    TRAPPIST-1e  42.0  False   \n",
       "4274     9271_01       Mars      True   D/296/P    55 Cancri e   NaN  False   \n",
       "4275     9273_01     Europa     False   D/297/P            NaN   NaN  False   \n",
       "4276     9277_01      Earth      True  G/1498/S  PSO J318.5-22  43.0  False   \n",
       "\n",
       "      RoomService  FoodCourt  ShoppingMall     Spa  VRDeck              Name  \n",
       "0             0.0        0.0           0.0     0.0     0.0   Nelly Carsoning  \n",
       "1             0.0        9.0           0.0  2823.0     0.0    Lerome Peckers  \n",
       "2             0.0        0.0           0.0     0.0     0.0   Sabih Unhearfus  \n",
       "3             0.0     6652.0           0.0   181.0   585.0  Meratz Caltilter  \n",
       "4            10.0        0.0         635.0     0.0     0.0   Brence Harperez  \n",
       "...           ...        ...           ...     ...     ...               ...  \n",
       "4272          0.0        0.0           0.0     0.0     0.0       Jeron Peter  \n",
       "4273          0.0      847.0          17.0    10.0   144.0     Matty Scheron  \n",
       "4274          0.0        0.0           0.0     0.0     0.0       Jayrin Pore  \n",
       "4275          0.0     2680.0           0.0     0.0   523.0    Kitakan Conale  \n",
       "4276          0.0        0.0           0.0     0.0     0.0  Lilace Leonzaley  \n",
       "\n",
       "[4277 rows x 13 columns]"
      ]
     },
     "execution_count": 63,
     "metadata": {},
     "output_type": "execute_result"
    }
   ],
   "source": [
    "X_test = pd.read_csv(\"data/test.csv\")\n",
    "\n",
    "# Convert the values of numeric column into absolute values\n",
    "X_test.loc[\n",
    "    :, [\"Age\", \"RoomService\", \"FoodCourt\", \"ShoppingMall\", \"Spa\", \"VRDeck\"]\n",
    "] = X_test.loc[\n",
    "    :, [\"Age\", \"RoomService\", \"FoodCourt\", \"ShoppingMall\", \"Spa\", \"VRDeck\"]\n",
    "].abs()\n",
    "X_test"
   ]
  },
  {
   "cell_type": "code",
   "execution_count": 64,
   "id": "c46932d4-1417-47f2-910f-a42c3cc95940",
   "metadata": {},
   "outputs": [
    {
     "name": "stdout",
     "output_type": "stream",
     "text": [
      "<class 'pandas.core.frame.DataFrame'>\n",
      "RangeIndex: 4277 entries, 0 to 4276\n",
      "Data columns (total 13 columns):\n",
      " #   Column        Non-Null Count  Dtype  \n",
      "---  ------        --------------  -----  \n",
      " 0   PassengerId   4277 non-null   object \n",
      " 1   HomePlanet    4190 non-null   object \n",
      " 2   CryoSleep     4184 non-null   object \n",
      " 3   Cabin         4177 non-null   object \n",
      " 4   Destination   4185 non-null   object \n",
      " 5   Age           4186 non-null   float64\n",
      " 6   VIP           4184 non-null   object \n",
      " 7   RoomService   4195 non-null   float64\n",
      " 8   FoodCourt     4171 non-null   float64\n",
      " 9   ShoppingMall  4179 non-null   float64\n",
      " 10  Spa           4176 non-null   float64\n",
      " 11  VRDeck        4197 non-null   float64\n",
      " 12  Name          4183 non-null   object \n",
      "dtypes: float64(6), object(7)\n",
      "memory usage: 434.5+ KB\n"
     ]
    }
   ],
   "source": [
    "X_test.info()"
   ]
  },
  {
   "cell_type": "code",
   "execution_count": 65,
   "id": "188c978d-b19f-47b9-accd-b0b2c5142a00",
   "metadata": {},
   "outputs": [
    {
     "data": {
      "text/plain": [
       "PassengerId     0.000000\n",
       "HomePlanet      0.020341\n",
       "CryoSleep       0.021744\n",
       "Cabin           0.023381\n",
       "Destination     0.021510\n",
       "Age             0.021277\n",
       "VIP             0.021744\n",
       "RoomService     0.019172\n",
       "FoodCourt       0.024784\n",
       "ShoppingMall    0.022913\n",
       "Spa             0.023615\n",
       "VRDeck          0.018705\n",
       "Name            0.021978\n",
       "dtype: float64"
      ]
     },
     "execution_count": 65,
     "metadata": {},
     "output_type": "execute_result"
    }
   ],
   "source": [
    "X_test.isna().sum()/4277"
   ]
  },
  {
   "cell_type": "markdown",
   "id": "800485c3-46d7-4102-bcf6-b520cf88f7a5",
   "metadata": {},
   "source": [
    "#### 2. Data Wrangling"
   ]
  },
  {
   "cell_type": "code",
   "execution_count": 66,
   "id": "c798ed34-83b0-4f83-8dbc-4648c256a085",
   "metadata": {},
   "outputs": [],
   "source": [
    "# Make columns for missing data\n",
    "X_test[\"HomePlanet_missing\"] = X_test[\"HomePlanet\"].isna()\n",
    "X_test[\"CryoSleep_missing\"] = X_test[\"CryoSleep\"].isna()\n",
    "X_test[\"Cabin_missing\"] = X_test[\"Cabin\"].isna()\n",
    "X_test[\"Destination_missing\"] = X_test[\"Destination\"].isna()\n",
    "X_test[\"Age_missing\"] = X_test[\"Age\"].isna()\n",
    "X_test[\"VIP_missing\"] = X_test[\"VIP\"].isna()\n",
    "X_test[\"RoomService_missing\"] = X_test[\"RoomService\"].isna()\n",
    "X_test[\"FoodCourt_missing\"] = X_test[\"FoodCourt\"].isna()\n",
    "X_test[\"ShoppingMall_missing\"] = X_test[\"ShoppingMall\"].isna()\n",
    "X_test[\"Spa_missing\"] = X_test[\"Spa\"].isna()\n",
    "X_test[\"VRDeck_missing\"] = X_test[\"VRDeck\"].isna()\n",
    "X_test[\"Name_missing\"] = X_test[\"Name\"].isna()\n",
    "\n",
    "# Perform imputation\n",
    "X_test.loc[:, [\"Age\"]] = num_imputer.fit_transform(X_test.loc[:, [\"Age\"]])\n",
    "X_test.loc[:, cat_columns] = cat_imputer.fit_transform(X_test.loc[:, cat_columns])\n",
    "\n",
    "# Cabin\n",
    "X_test[['Cabin_dec', 'Cabin_num', 'Cabin_side']] = X_test[\"Cabin\"].str.split(\"/\", expand=True)\n",
    "\n",
    "# Age\n",
    "X_test['Age_bin'] = pd.cut(\n",
    "    X_test['Age'], \n",
    "    bins=[-0.1, 12, 18, 30, 50, 66, 90], \n",
    "    labels=['Children', 'Teenage', '20s', '30-40s', '50-60s', 'Elder']\n",
    ")\n",
    "\n",
    "# RoomService\n",
    "X_test['RoomService_bin'] = pd.cut(\n",
    "    X_test['RoomService'], \n",
    "    bins=[-0.1, 0.001, 100, 200, 400, 900, 2400, 15000], \n",
    "    labels=['RS$0', 'RS$0-100', 'RS$100-200', 'RS$200-400', 'RS$400-900', 'RS$900-2400', 'RS$2400-15000']\n",
    ")\n",
    "\n",
    "# FoodCourt\n",
    "X_test['FoodCourt_bin'] = pd.cut(\n",
    "    X_test['FoodCourt'], \n",
    "    bins=[-0.1, 0.001, 100, 500, 900, 2000, 30000], \n",
    "    labels=['FC$0', 'FC$0-100', 'FC$100-500', 'FC$500-900', 'FC$900-2000', 'FC$2000-30000']\n",
    ")\n",
    "\n",
    "# ShoppingMall\n",
    "X_test['ShoppingMall_bin'] = pd.cut(\n",
    "    X_test['ShoppingMall'], \n",
    "    bins=[-0.1, 0.001, 100, 200, 600, 1200, 2000, 30000], \n",
    "    labels=['SM$0', 'SM$0-100', 'SM$100-200', 'SM$200-600', 'SM$600-1200', 'SM$1200-2000', 'SM$2000-30000']\n",
    ")\n",
    "\n",
    "# Spa\n",
    "X_test['Spa_bin'] = pd.cut(\n",
    "    X_test['Spa'], \n",
    "    bins=[-0.1, 0.001, 100, 200, 600, 1200, 2000, 30000], \n",
    "    labels=['Sp$0', 'Sp$0-100', 'Sp$100-200', 'Sp$200-600', 'Sp$600-1200', 'Sp$1200-2000', 'Sp$2000-30000']\n",
    ")\n",
    "\n",
    "# VRDeck\n",
    "X_test['VRDeck_bin'] = pd.cut(\n",
    "    X_test['VRDeck'], \n",
    "    bins=[-0.1, 0.001, 100, 200, 600, 1000, 2000, 30000], \n",
    "    labels=['VR$0', 'VR$0-100', 'VR$100-200', 'VR$200-600', 'VR$600-1000', 'VR$1000-2000', 'VR$2000-30000']\n",
    ")\n",
    "\n",
    "# Name\n",
    "X_test[['Name_first', 'Name_last']] = X_test[\"Name\"].str.split(\" \", expand=True)\n",
    "num_last_name = X_test[\"Name_last\"].value_counts()\n",
    "last_name_dict = dict(num_last_name)\n",
    "for name, num in last_name_dict.items():\n",
    "    X_test.loc[X_test[\"Name_last\"] == name, \"num_of_Name_last\"] = num\n",
    "\n",
    "X_test[\"num_of_Name_last\"] = X_test[\"num_of_Name_last\"].fillna(1)\n",
    "    \n",
    "X_test['num_of_Name_last'] = pd.cut(\n",
    "    X_test['num_of_Name_last'], \n",
    "    bins=[-100, 1.001, 15, 20], \n",
    "    labels=['fam1', 'fam2-15', 'fam15-20']\n",
    ")\n",
    "\n",
    "# Change data type to prevent error\n",
    "X_test[\"HomePlanet\"] = X_test[\"HomePlanet\"].astype(str)\n",
    "X_test[\"CryoSleep\"] = X_test[\"CryoSleep\"].astype(str)\n",
    "X_test[\"Destination\"] = X_test[\"Destination\"].astype(str)\n",
    "X_test[\"VIP\"] = X_test[\"VIP\"].astype(str)\n",
    "X_test[\"Cabin_dec\"] = X_test[\"Cabin_dec\"].astype(str)\n",
    "X_test[\"Cabin_side\"] = X_test[\"Cabin_side\"].astype(str)"
   ]
  },
  {
   "cell_type": "code",
   "execution_count": 67,
   "id": "7f8507a2-fa41-4fba-9044-0cfd883e64ee",
   "metadata": {},
   "outputs": [
    {
     "data": {
      "text/html": [
       "<div>\n",
       "<style scoped>\n",
       "    .dataframe tbody tr th:only-of-type {\n",
       "        vertical-align: middle;\n",
       "    }\n",
       "\n",
       "    .dataframe tbody tr th {\n",
       "        vertical-align: top;\n",
       "    }\n",
       "\n",
       "    .dataframe thead th {\n",
       "        text-align: right;\n",
       "    }\n",
       "</style>\n",
       "<table border=\"1\" class=\"dataframe\">\n",
       "  <thead>\n",
       "    <tr style=\"text-align: right;\">\n",
       "      <th></th>\n",
       "      <th>PassengerId</th>\n",
       "      <th>HomePlanet</th>\n",
       "      <th>CryoSleep</th>\n",
       "      <th>Cabin</th>\n",
       "      <th>Destination</th>\n",
       "      <th>Age</th>\n",
       "      <th>VIP</th>\n",
       "      <th>RoomService</th>\n",
       "      <th>FoodCourt</th>\n",
       "      <th>ShoppingMall</th>\n",
       "      <th>...</th>\n",
       "      <th>Cabin_side</th>\n",
       "      <th>Age_bin</th>\n",
       "      <th>RoomService_bin</th>\n",
       "      <th>FoodCourt_bin</th>\n",
       "      <th>ShoppingMall_bin</th>\n",
       "      <th>Spa_bin</th>\n",
       "      <th>VRDeck_bin</th>\n",
       "      <th>Name_first</th>\n",
       "      <th>Name_last</th>\n",
       "      <th>num_of_Name_last</th>\n",
       "    </tr>\n",
       "  </thead>\n",
       "  <tbody>\n",
       "    <tr>\n",
       "      <th>0</th>\n",
       "      <td>0013_01</td>\n",
       "      <td>Earth</td>\n",
       "      <td>True</td>\n",
       "      <td>G/3/S</td>\n",
       "      <td>TRAPPIST-1e</td>\n",
       "      <td>27.0</td>\n",
       "      <td>False</td>\n",
       "      <td>0.0</td>\n",
       "      <td>0.0</td>\n",
       "      <td>0.0</td>\n",
       "      <td>...</td>\n",
       "      <td>S</td>\n",
       "      <td>20s</td>\n",
       "      <td>RS$0</td>\n",
       "      <td>FC$0</td>\n",
       "      <td>SM$0</td>\n",
       "      <td>Sp$0</td>\n",
       "      <td>VR$0</td>\n",
       "      <td>Nelly</td>\n",
       "      <td>Carsoning</td>\n",
       "      <td>fam2-15</td>\n",
       "    </tr>\n",
       "    <tr>\n",
       "      <th>1</th>\n",
       "      <td>0018_01</td>\n",
       "      <td>Earth</td>\n",
       "      <td>False</td>\n",
       "      <td>F/4/S</td>\n",
       "      <td>TRAPPIST-1e</td>\n",
       "      <td>19.0</td>\n",
       "      <td>False</td>\n",
       "      <td>0.0</td>\n",
       "      <td>9.0</td>\n",
       "      <td>0.0</td>\n",
       "      <td>...</td>\n",
       "      <td>S</td>\n",
       "      <td>20s</td>\n",
       "      <td>RS$0</td>\n",
       "      <td>FC$0-100</td>\n",
       "      <td>SM$0</td>\n",
       "      <td>Sp$2000-30000</td>\n",
       "      <td>VR$0</td>\n",
       "      <td>Lerome</td>\n",
       "      <td>Peckers</td>\n",
       "      <td>fam1</td>\n",
       "    </tr>\n",
       "    <tr>\n",
       "      <th>2</th>\n",
       "      <td>0019_01</td>\n",
       "      <td>Europa</td>\n",
       "      <td>True</td>\n",
       "      <td>C/0/S</td>\n",
       "      <td>55 Cancri e</td>\n",
       "      <td>31.0</td>\n",
       "      <td>False</td>\n",
       "      <td>0.0</td>\n",
       "      <td>0.0</td>\n",
       "      <td>0.0</td>\n",
       "      <td>...</td>\n",
       "      <td>S</td>\n",
       "      <td>30-40s</td>\n",
       "      <td>RS$0</td>\n",
       "      <td>FC$0</td>\n",
       "      <td>SM$0</td>\n",
       "      <td>Sp$0</td>\n",
       "      <td>VR$0</td>\n",
       "      <td>Sabih</td>\n",
       "      <td>Unhearfus</td>\n",
       "      <td>fam1</td>\n",
       "    </tr>\n",
       "    <tr>\n",
       "      <th>3</th>\n",
       "      <td>0021_01</td>\n",
       "      <td>Europa</td>\n",
       "      <td>False</td>\n",
       "      <td>C/1/S</td>\n",
       "      <td>TRAPPIST-1e</td>\n",
       "      <td>38.0</td>\n",
       "      <td>False</td>\n",
       "      <td>0.0</td>\n",
       "      <td>6652.0</td>\n",
       "      <td>0.0</td>\n",
       "      <td>...</td>\n",
       "      <td>S</td>\n",
       "      <td>30-40s</td>\n",
       "      <td>RS$0</td>\n",
       "      <td>FC$2000-30000</td>\n",
       "      <td>SM$0</td>\n",
       "      <td>Sp$100-200</td>\n",
       "      <td>VR$200-600</td>\n",
       "      <td>Meratz</td>\n",
       "      <td>Caltilter</td>\n",
       "      <td>fam1</td>\n",
       "    </tr>\n",
       "    <tr>\n",
       "      <th>4</th>\n",
       "      <td>0023_01</td>\n",
       "      <td>Earth</td>\n",
       "      <td>False</td>\n",
       "      <td>F/5/S</td>\n",
       "      <td>TRAPPIST-1e</td>\n",
       "      <td>20.0</td>\n",
       "      <td>False</td>\n",
       "      <td>10.0</td>\n",
       "      <td>0.0</td>\n",
       "      <td>635.0</td>\n",
       "      <td>...</td>\n",
       "      <td>S</td>\n",
       "      <td>20s</td>\n",
       "      <td>RS$0-100</td>\n",
       "      <td>FC$0</td>\n",
       "      <td>SM$600-1200</td>\n",
       "      <td>Sp$0</td>\n",
       "      <td>VR$0</td>\n",
       "      <td>Brence</td>\n",
       "      <td>Harperez</td>\n",
       "      <td>fam2-15</td>\n",
       "    </tr>\n",
       "    <tr>\n",
       "      <th>...</th>\n",
       "      <td>...</td>\n",
       "      <td>...</td>\n",
       "      <td>...</td>\n",
       "      <td>...</td>\n",
       "      <td>...</td>\n",
       "      <td>...</td>\n",
       "      <td>...</td>\n",
       "      <td>...</td>\n",
       "      <td>...</td>\n",
       "      <td>...</td>\n",
       "      <td>...</td>\n",
       "      <td>...</td>\n",
       "      <td>...</td>\n",
       "      <td>...</td>\n",
       "      <td>...</td>\n",
       "      <td>...</td>\n",
       "      <td>...</td>\n",
       "      <td>...</td>\n",
       "      <td>...</td>\n",
       "      <td>...</td>\n",
       "      <td>...</td>\n",
       "    </tr>\n",
       "    <tr>\n",
       "      <th>4272</th>\n",
       "      <td>9266_02</td>\n",
       "      <td>Earth</td>\n",
       "      <td>True</td>\n",
       "      <td>G/1496/S</td>\n",
       "      <td>TRAPPIST-1e</td>\n",
       "      <td>34.0</td>\n",
       "      <td>False</td>\n",
       "      <td>0.0</td>\n",
       "      <td>0.0</td>\n",
       "      <td>0.0</td>\n",
       "      <td>...</td>\n",
       "      <td>S</td>\n",
       "      <td>30-40s</td>\n",
       "      <td>RS$0</td>\n",
       "      <td>FC$0</td>\n",
       "      <td>SM$0</td>\n",
       "      <td>Sp$0</td>\n",
       "      <td>VR$0</td>\n",
       "      <td>Jeron</td>\n",
       "      <td>Peter</td>\n",
       "      <td>fam2-15</td>\n",
       "    </tr>\n",
       "    <tr>\n",
       "      <th>4273</th>\n",
       "      <td>9269_01</td>\n",
       "      <td>Earth</td>\n",
       "      <td>False</td>\n",
       "      <td>G/160/P</td>\n",
       "      <td>TRAPPIST-1e</td>\n",
       "      <td>42.0</td>\n",
       "      <td>False</td>\n",
       "      <td>0.0</td>\n",
       "      <td>847.0</td>\n",
       "      <td>17.0</td>\n",
       "      <td>...</td>\n",
       "      <td>P</td>\n",
       "      <td>30-40s</td>\n",
       "      <td>RS$0</td>\n",
       "      <td>FC$500-900</td>\n",
       "      <td>SM$0-100</td>\n",
       "      <td>Sp$0-100</td>\n",
       "      <td>VR$100-200</td>\n",
       "      <td>Matty</td>\n",
       "      <td>Scheron</td>\n",
       "      <td>fam2-15</td>\n",
       "    </tr>\n",
       "    <tr>\n",
       "      <th>4274</th>\n",
       "      <td>9271_01</td>\n",
       "      <td>Mars</td>\n",
       "      <td>True</td>\n",
       "      <td>D/296/P</td>\n",
       "      <td>55 Cancri e</td>\n",
       "      <td>26.0</td>\n",
       "      <td>False</td>\n",
       "      <td>0.0</td>\n",
       "      <td>0.0</td>\n",
       "      <td>0.0</td>\n",
       "      <td>...</td>\n",
       "      <td>P</td>\n",
       "      <td>20s</td>\n",
       "      <td>RS$0</td>\n",
       "      <td>FC$0</td>\n",
       "      <td>SM$0</td>\n",
       "      <td>Sp$0</td>\n",
       "      <td>VR$0</td>\n",
       "      <td>Jayrin</td>\n",
       "      <td>Pore</td>\n",
       "      <td>fam2-15</td>\n",
       "    </tr>\n",
       "    <tr>\n",
       "      <th>4275</th>\n",
       "      <td>9273_01</td>\n",
       "      <td>Europa</td>\n",
       "      <td>False</td>\n",
       "      <td>D/297/P</td>\n",
       "      <td>TRAPPIST-1e</td>\n",
       "      <td>26.0</td>\n",
       "      <td>False</td>\n",
       "      <td>0.0</td>\n",
       "      <td>2680.0</td>\n",
       "      <td>0.0</td>\n",
       "      <td>...</td>\n",
       "      <td>P</td>\n",
       "      <td>20s</td>\n",
       "      <td>RS$0</td>\n",
       "      <td>FC$2000-30000</td>\n",
       "      <td>SM$0</td>\n",
       "      <td>Sp$0</td>\n",
       "      <td>VR$200-600</td>\n",
       "      <td>Kitakan</td>\n",
       "      <td>Conale</td>\n",
       "      <td>fam2-15</td>\n",
       "    </tr>\n",
       "    <tr>\n",
       "      <th>4276</th>\n",
       "      <td>9277_01</td>\n",
       "      <td>Earth</td>\n",
       "      <td>True</td>\n",
       "      <td>G/1498/S</td>\n",
       "      <td>PSO J318.5-22</td>\n",
       "      <td>43.0</td>\n",
       "      <td>False</td>\n",
       "      <td>0.0</td>\n",
       "      <td>0.0</td>\n",
       "      <td>0.0</td>\n",
       "      <td>...</td>\n",
       "      <td>S</td>\n",
       "      <td>30-40s</td>\n",
       "      <td>RS$0</td>\n",
       "      <td>FC$0</td>\n",
       "      <td>SM$0</td>\n",
       "      <td>Sp$0</td>\n",
       "      <td>VR$0</td>\n",
       "      <td>Lilace</td>\n",
       "      <td>Leonzaley</td>\n",
       "      <td>fam2-15</td>\n",
       "    </tr>\n",
       "  </tbody>\n",
       "</table>\n",
       "<p>4277 rows × 37 columns</p>\n",
       "</div>"
      ],
      "text/plain": [
       "     PassengerId HomePlanet CryoSleep     Cabin    Destination   Age    VIP  \\\n",
       "0        0013_01      Earth      True     G/3/S    TRAPPIST-1e  27.0  False   \n",
       "1        0018_01      Earth     False     F/4/S    TRAPPIST-1e  19.0  False   \n",
       "2        0019_01     Europa      True     C/0/S    55 Cancri e  31.0  False   \n",
       "3        0021_01     Europa     False     C/1/S    TRAPPIST-1e  38.0  False   \n",
       "4        0023_01      Earth     False     F/5/S    TRAPPIST-1e  20.0  False   \n",
       "...          ...        ...       ...       ...            ...   ...    ...   \n",
       "4272     9266_02      Earth      True  G/1496/S    TRAPPIST-1e  34.0  False   \n",
       "4273     9269_01      Earth     False   G/160/P    TRAPPIST-1e  42.0  False   \n",
       "4274     9271_01       Mars      True   D/296/P    55 Cancri e  26.0  False   \n",
       "4275     9273_01     Europa     False   D/297/P    TRAPPIST-1e  26.0  False   \n",
       "4276     9277_01      Earth      True  G/1498/S  PSO J318.5-22  43.0  False   \n",
       "\n",
       "      RoomService  FoodCourt  ShoppingMall  ...  Cabin_side  Age_bin  \\\n",
       "0             0.0        0.0           0.0  ...           S      20s   \n",
       "1             0.0        9.0           0.0  ...           S      20s   \n",
       "2             0.0        0.0           0.0  ...           S   30-40s   \n",
       "3             0.0     6652.0           0.0  ...           S   30-40s   \n",
       "4            10.0        0.0         635.0  ...           S      20s   \n",
       "...           ...        ...           ...  ...         ...      ...   \n",
       "4272          0.0        0.0           0.0  ...           S   30-40s   \n",
       "4273          0.0      847.0          17.0  ...           P   30-40s   \n",
       "4274          0.0        0.0           0.0  ...           P      20s   \n",
       "4275          0.0     2680.0           0.0  ...           P      20s   \n",
       "4276          0.0        0.0           0.0  ...           S   30-40s   \n",
       "\n",
       "     RoomService_bin  FoodCourt_bin  ShoppingMall_bin        Spa_bin  \\\n",
       "0               RS$0           FC$0              SM$0           Sp$0   \n",
       "1               RS$0       FC$0-100              SM$0  Sp$2000-30000   \n",
       "2               RS$0           FC$0              SM$0           Sp$0   \n",
       "3               RS$0  FC$2000-30000              SM$0     Sp$100-200   \n",
       "4           RS$0-100           FC$0       SM$600-1200           Sp$0   \n",
       "...              ...            ...               ...            ...   \n",
       "4272            RS$0           FC$0              SM$0           Sp$0   \n",
       "4273            RS$0     FC$500-900          SM$0-100       Sp$0-100   \n",
       "4274            RS$0           FC$0              SM$0           Sp$0   \n",
       "4275            RS$0  FC$2000-30000              SM$0           Sp$0   \n",
       "4276            RS$0           FC$0              SM$0           Sp$0   \n",
       "\n",
       "      VRDeck_bin  Name_first  Name_last  num_of_Name_last  \n",
       "0           VR$0       Nelly  Carsoning           fam2-15  \n",
       "1           VR$0      Lerome    Peckers              fam1  \n",
       "2           VR$0       Sabih  Unhearfus              fam1  \n",
       "3     VR$200-600      Meratz  Caltilter              fam1  \n",
       "4           VR$0      Brence   Harperez           fam2-15  \n",
       "...          ...         ...        ...               ...  \n",
       "4272        VR$0       Jeron      Peter           fam2-15  \n",
       "4273  VR$100-200       Matty    Scheron           fam2-15  \n",
       "4274        VR$0      Jayrin       Pore           fam2-15  \n",
       "4275  VR$200-600     Kitakan     Conale           fam2-15  \n",
       "4276        VR$0      Lilace  Leonzaley           fam2-15  \n",
       "\n",
       "[4277 rows x 37 columns]"
      ]
     },
     "execution_count": 67,
     "metadata": {},
     "output_type": "execute_result"
    }
   ],
   "source": [
    "X_test"
   ]
  },
  {
   "cell_type": "code",
   "execution_count": 68,
   "id": "7f3a6128-d6cf-4073-8698-868df1e1f682",
   "metadata": {},
   "outputs": [],
   "source": [
    "prediction = {}"
   ]
  },
  {
   "cell_type": "code",
   "execution_count": 69,
   "id": "3da9237e-30c5-4b73-a711-f16e4a0dd759",
   "metadata": {},
   "outputs": [
    {
     "name": "stderr",
     "output_type": "stream",
     "text": [
      "C:\\Users\\johnw\\miniconda3\\envs\\573\\lib\\site-packages\\xgboost\\sklearn.py:888: UserWarning: The use of label encoder in XGBClassifier is deprecated and will be removed in a future release. To remove this warning, do the following: 1) Pass option use_label_encoder=False when constructing XGBClassifier object; and 2) Encode your labels (y) as integers starting with 0, i.e. 0, 1, 2, ..., [num_class - 1].\n",
      "  warnings.warn(label_encoder_deprecation_msg, UserWarning)\n"
     ]
    }
   ],
   "source": [
    "for (name, model) in models.items():\n",
    "    model.fit(X_train, y_train)\n",
    "    prediction[name] = model.predict(X_test)"
   ]
  },
  {
   "cell_type": "code",
   "execution_count": 70,
   "id": "5edcf53b-2372-4133-939b-2a4c325a94df",
   "metadata": {},
   "outputs": [],
   "source": [
    "predictions = pd.DataFrame(prediction).astype(bool)"
   ]
  },
  {
   "cell_type": "code",
   "execution_count": 71,
   "id": "c104ac19-97ce-4cc2-a295-3d3b9f27cfec",
   "metadata": {},
   "outputs": [],
   "source": [
    "for name in models.keys():\n",
    "    temp_df = X_test\n",
    "    temp_df[\"Transported\"] = predictions[name]\n",
    "    temp_df = temp_df.loc[:, [\"PassengerId\", \"Transported\"]]\n",
    "    temp_df.to_csv(f\"results_imp/spaceship_titanic_imputation_220403_{name}.csv\", encoding='utf-8', index=False)"
   ]
  },
  {
   "cell_type": "markdown",
   "id": "92dbbf2b-9053-40e4-987c-98c09844ac3d",
   "metadata": {},
   "source": [
    "# Ensemble"
   ]
  },
  {
   "cell_type": "code",
   "execution_count": 72,
   "id": "8bf8fc19-b8e8-42e8-8298-97c446d77e52",
   "metadata": {},
   "outputs": [
    {
     "data": {
      "text/html": [
       "<div>\n",
       "<style scoped>\n",
       "    .dataframe tbody tr th:only-of-type {\n",
       "        vertical-align: middle;\n",
       "    }\n",
       "\n",
       "    .dataframe tbody tr th {\n",
       "        vertical-align: top;\n",
       "    }\n",
       "\n",
       "    .dataframe thead th {\n",
       "        text-align: right;\n",
       "    }\n",
       "</style>\n",
       "<table border=\"1\" class=\"dataframe\">\n",
       "  <thead>\n",
       "    <tr style=\"text-align: right;\">\n",
       "      <th></th>\n",
       "      <th>decision_tree</th>\n",
       "      <th>logistic_regression</th>\n",
       "      <th>naive_bayes</th>\n",
       "      <th>SVC</th>\n",
       "      <th>random_forest</th>\n",
       "      <th>XGBoost</th>\n",
       "      <th>LightGBM</th>\n",
       "      <th>CatBoost</th>\n",
       "      <th>ensemble</th>\n",
       "    </tr>\n",
       "  </thead>\n",
       "  <tbody>\n",
       "    <tr>\n",
       "      <th>0</th>\n",
       "      <td>1</td>\n",
       "      <td>1</td>\n",
       "      <td>1</td>\n",
       "      <td>1</td>\n",
       "      <td>1</td>\n",
       "      <td>1</td>\n",
       "      <td>1</td>\n",
       "      <td>1</td>\n",
       "      <td>1.0</td>\n",
       "    </tr>\n",
       "    <tr>\n",
       "      <th>1</th>\n",
       "      <td>0</td>\n",
       "      <td>0</td>\n",
       "      <td>0</td>\n",
       "      <td>0</td>\n",
       "      <td>0</td>\n",
       "      <td>0</td>\n",
       "      <td>0</td>\n",
       "      <td>0</td>\n",
       "      <td>0.0</td>\n",
       "    </tr>\n",
       "    <tr>\n",
       "      <th>2</th>\n",
       "      <td>1</td>\n",
       "      <td>1</td>\n",
       "      <td>1</td>\n",
       "      <td>1</td>\n",
       "      <td>1</td>\n",
       "      <td>1</td>\n",
       "      <td>1</td>\n",
       "      <td>1</td>\n",
       "      <td>1.0</td>\n",
       "    </tr>\n",
       "    <tr>\n",
       "      <th>3</th>\n",
       "      <td>0</td>\n",
       "      <td>1</td>\n",
       "      <td>1</td>\n",
       "      <td>1</td>\n",
       "      <td>1</td>\n",
       "      <td>1</td>\n",
       "      <td>1</td>\n",
       "      <td>1</td>\n",
       "      <td>1.0</td>\n",
       "    </tr>\n",
       "    <tr>\n",
       "      <th>4</th>\n",
       "      <td>1</td>\n",
       "      <td>1</td>\n",
       "      <td>0</td>\n",
       "      <td>1</td>\n",
       "      <td>1</td>\n",
       "      <td>1</td>\n",
       "      <td>1</td>\n",
       "      <td>1</td>\n",
       "      <td>1.0</td>\n",
       "    </tr>\n",
       "    <tr>\n",
       "      <th>...</th>\n",
       "      <td>...</td>\n",
       "      <td>...</td>\n",
       "      <td>...</td>\n",
       "      <td>...</td>\n",
       "      <td>...</td>\n",
       "      <td>...</td>\n",
       "      <td>...</td>\n",
       "      <td>...</td>\n",
       "      <td>...</td>\n",
       "    </tr>\n",
       "    <tr>\n",
       "      <th>4272</th>\n",
       "      <td>1</td>\n",
       "      <td>1</td>\n",
       "      <td>1</td>\n",
       "      <td>1</td>\n",
       "      <td>1</td>\n",
       "      <td>1</td>\n",
       "      <td>1</td>\n",
       "      <td>1</td>\n",
       "      <td>1.0</td>\n",
       "    </tr>\n",
       "    <tr>\n",
       "      <th>4273</th>\n",
       "      <td>0</td>\n",
       "      <td>0</td>\n",
       "      <td>0</td>\n",
       "      <td>0</td>\n",
       "      <td>0</td>\n",
       "      <td>0</td>\n",
       "      <td>0</td>\n",
       "      <td>0</td>\n",
       "      <td>0.0</td>\n",
       "    </tr>\n",
       "    <tr>\n",
       "      <th>4274</th>\n",
       "      <td>1</td>\n",
       "      <td>1</td>\n",
       "      <td>1</td>\n",
       "      <td>1</td>\n",
       "      <td>1</td>\n",
       "      <td>1</td>\n",
       "      <td>1</td>\n",
       "      <td>1</td>\n",
       "      <td>1.0</td>\n",
       "    </tr>\n",
       "    <tr>\n",
       "      <th>4275</th>\n",
       "      <td>1</td>\n",
       "      <td>1</td>\n",
       "      <td>0</td>\n",
       "      <td>1</td>\n",
       "      <td>1</td>\n",
       "      <td>1</td>\n",
       "      <td>1</td>\n",
       "      <td>1</td>\n",
       "      <td>1.0</td>\n",
       "    </tr>\n",
       "    <tr>\n",
       "      <th>4276</th>\n",
       "      <td>1</td>\n",
       "      <td>1</td>\n",
       "      <td>1</td>\n",
       "      <td>1</td>\n",
       "      <td>1</td>\n",
       "      <td>1</td>\n",
       "      <td>1</td>\n",
       "      <td>1</td>\n",
       "      <td>1.0</td>\n",
       "    </tr>\n",
       "  </tbody>\n",
       "</table>\n",
       "<p>4277 rows × 9 columns</p>\n",
       "</div>"
      ],
      "text/plain": [
       "      decision_tree  logistic_regression  naive_bayes  SVC  random_forest  \\\n",
       "0                 1                    1            1    1              1   \n",
       "1                 0                    0            0    0              0   \n",
       "2                 1                    1            1    1              1   \n",
       "3                 0                    1            1    1              1   \n",
       "4                 1                    1            0    1              1   \n",
       "...             ...                  ...          ...  ...            ...   \n",
       "4272              1                    1            1    1              1   \n",
       "4273              0                    0            0    0              0   \n",
       "4274              1                    1            1    1              1   \n",
       "4275              1                    1            0    1              1   \n",
       "4276              1                    1            1    1              1   \n",
       "\n",
       "      XGBoost  LightGBM  CatBoost  ensemble  \n",
       "0           1         1         1       1.0  \n",
       "1           0         0         0       0.0  \n",
       "2           1         1         1       1.0  \n",
       "3           1         1         1       1.0  \n",
       "4           1         1         1       1.0  \n",
       "...       ...       ...       ...       ...  \n",
       "4272        1         1         1       1.0  \n",
       "4273        0         0         0       0.0  \n",
       "4274        1         1         1       1.0  \n",
       "4275        1         1         1       1.0  \n",
       "4276        1         1         1       1.0  \n",
       "\n",
       "[4277 rows x 9 columns]"
      ]
     },
     "execution_count": 72,
     "metadata": {},
     "output_type": "execute_result"
    }
   ],
   "source": [
    "ensemble_pred = pd.DataFrame(prediction)\n",
    "ensemble_pred[\"ensemble\"] = ensemble_pred.mean(axis=1)\n",
    "ensemble_pred.loc[ensemble_pred[\"ensemble\"] >= 0.5, \"ensemble\"] = 1\n",
    "ensemble_pred.loc[ensemble_pred[\"ensemble\"] < 0.5, \"ensemble\"] = 0 \n",
    "ensemble_pred"
   ]
  },
  {
   "cell_type": "code",
   "execution_count": 73,
   "id": "5ba3d0a7-1fce-40ef-8d48-da724a234938",
   "metadata": {},
   "outputs": [],
   "source": [
    "temp_df = X_test\n",
    "temp_df[\"Transported\"] = ensemble_pred[\"ensemble\"].astype(bool)\n",
    "temp_df = temp_df.loc[:, [\"PassengerId\", \"Transported\"]]\n",
    "temp_df.to_csv(\"results_imp/spaceship_titanic_imputation_220403_ensemble.csv\", encoding='utf-8', index=False)"
   ]
  },
  {
   "cell_type": "code",
   "execution_count": null,
   "id": "4d840049-ccb5-4549-a758-246ac99a8c75",
   "metadata": {},
   "outputs": [],
   "source": []
  }
 ],
 "metadata": {
  "kernelspec": {
   "display_name": "Python [conda env:573]",
   "language": "python",
   "name": "conda-env-573-py"
  },
  "language_info": {
   "codemirror_mode": {
    "name": "ipython",
    "version": 3
   },
   "file_extension": ".py",
   "mimetype": "text/x-python",
   "name": "python",
   "nbconvert_exporter": "python",
   "pygments_lexer": "ipython3",
   "version": "3.9.7"
  }
 },
 "nbformat": 4,
 "nbformat_minor": 5
}
